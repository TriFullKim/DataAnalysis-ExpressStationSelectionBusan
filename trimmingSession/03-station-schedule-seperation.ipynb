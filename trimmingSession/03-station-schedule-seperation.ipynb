{
 "cells": [
  {
   "cell_type": "code",
   "execution_count": 30,
   "metadata": {},
   "outputs": [],
   "source": [
    "import warnings\n",
    "warnings.simplefilter(action='ignore', category=FutureWarning)\n",
    "\n",
    "import pandas as pd\n",
    "from tqdm import tqdm\n",
    "import util"
   ]
  },
  {
   "cell_type": "code",
   "execution_count": 31,
   "metadata": {},
   "outputs": [],
   "source": [
    "DAYTYPE = ['토요일', '일요일', '공휴일', '평일']\n",
    "PATH_STATION_SCHEDULE_REFINE_DAYTYPE = [f\"../trimmed_data/stationSchedule{day}.json\" for day in DAYTYPE]\n",
    "PATH_STATION_INTERVAL_DAYTYPE= [f\"../trimmed_data/stationSchedule{day}-SEPERATED.json\" for day in DAYTYPE]"
   ]
  },
  {
   "cell_type": "markdown",
   "metadata": {},
   "source": [
    "# `03-station-schedule-seperation.ipynb`\n",
    "02 에서 만든 데이터로 쪼게기."
   ]
  },
  {
   "cell_type": "markdown",
   "metadata": {},
   "source": [
    "## 1. 데이터 불러오기"
   ]
  },
  {
   "cell_type": "code",
   "execution_count": 32,
   "metadata": {},
   "outputs": [
    {
     "data": {
      "text/plain": [
       "dict_items([('다대포해수욕장', 95), ('다대포항', 96), ('낫개', 97), ('신장림', 98), ('장림', 99), ('동매', 100), ('신평', 101), ('하단', 102), ('당리', 103), ('사하', 104), ('괴정', 105), ('대티', 106), ('서대신', 107), ('동대신', 108), ('토성', 109), ('자갈치', 110), ('남포', 111), ('중앙', 112), ('부산역', 113), ('초량', 114), ('부산진', 115), ('좌천', 116), ('범일', 117), ('범내골', 118), ('서면', 219), ('부전', 120), ('양정', 121), ('시청', 122), ('연산', 305), ('교대', 124), ('동래', 402), ('명륜', 126), ('온천장', 127), ('부산대', 128), ('장전', 129), ('구서', 130), ('두실', 131), ('남산', 132), ('범어사', 133), ('노포', 134), ('장산', 201), ('중동', 202), ('해운대', 203), ('동백', 204), ('벡스코', 205), ('센텀시티', 206), ('민락', 207), ('수영', 301), ('광안', 209), ('금련산', 210), ('남천', 211), ('경성대.부경대', 212), ('대연', 213), ('못골', 214), ('지게골', 215), ('문현', 216), ('국제금융.부산은행', 217), ('전포', 218), ('부암', 220), ('가야', 221), ('동의대', 222), ('개금', 223), ('냉정', 224), ('주례', 225), ('감전', 226), ('사상', 227), ('덕포', 228), ('모덕', 229), ('모라', 230), ('구남', 231), ('구명', 232), ('덕천', 313), ('수정', 234), ('화명', 235), ('율리', 236), ('동원', 237), ('금곡', 238), ('호포', 239), ('증산', 240), ('부산대양산캠퍼스', 241), ('남양산', 242), ('양산', 243), ('망미', 302), ('배산', 303), ('물만골', 304), ('거제', 306), ('종합운동장', 307), ('사직', 308), ('미남', 401), ('만덕', 310), ('남산정', 311), ('숙등', 312), ('구포', 314), ('강서구청', 315), ('체육공원', 316), ('대저', 317), ('수안', 403), ('낙민', 404), ('충렬사', 405), ('명장', 406), ('서동', 407), ('금사', 408), ('반여농산물시장', 409), ('석대', 410), ('영산대', 411), ('윗반송', 412), ('고촌', 413), ('안평', 414)])"
      ]
     },
     "execution_count": 32,
     "metadata": {},
     "output_type": "execute_result"
    }
   ],
   "source": [
    "path = util.PATH_STATION_INFO_REFINE\n",
    "sName_sCode = {}\n",
    "for key,val in pd.read_json(path).iloc[:,[0,1]].transpose().to_dict().items():\n",
    "    # for k,v in key.items():\n",
    "    sName_sCode[val[\"StationName\"]]=val[\"StationCode\"]\n",
    "\n",
    "# readme.md 참조.\n",
    "sName_sCode = {key.replace(\"·\",\".\"):val for key,val in sName_sCode.items()}\n",
    "sName_sCode = {key.replace(\"국제금융센터\",\"국제금융\"):val for key,val in sName_sCode.items()}\n",
    "util.savePickle(sName_sCode,\"../trimmed_data/stationNameCode.pickel\")\n",
    "sName_sCode.items()"
   ]
  },
  {
   "cell_type": "code",
   "execution_count": 33,
   "metadata": {},
   "outputs": [
    {
     "name": "stderr",
     "output_type": "stream",
     "text": [
      "100%|██████████| 1277/1277 [00:45<00:00, 27.93it/s]\n"
     ]
    },
    {
     "name": "stdout",
     "output_type": "stream",
     "text": [
      "SAVE >>> ../trimmed_data/stationSchedule토요일-SEPERATED.json\n"
     ]
    },
    {
     "name": "stderr",
     "output_type": "stream",
     "text": [
      "100%|██████████| 278/278 [00:03<00:00, 72.25it/s]\n"
     ]
    },
    {
     "name": "stdout",
     "output_type": "stream",
     "text": [
      "SAVE >>> ../trimmed_data/stationSchedule일요일-SEPERATED.json\n"
     ]
    },
    {
     "name": "stderr",
     "output_type": "stream",
     "text": [
      "100%|██████████| 924/924 [00:34<00:00, 26.44it/s]\n"
     ]
    },
    {
     "name": "stdout",
     "output_type": "stream",
     "text": [
      "SAVE >>> ../trimmed_data/stationSchedule공휴일-SEPERATED.json\n"
     ]
    },
    {
     "name": "stderr",
     "output_type": "stream",
     "text": [
      "100%|██████████| 1354/1354 [00:46<00:00, 28.98it/s]"
     ]
    },
    {
     "name": "stdout",
     "output_type": "stream",
     "text": [
      "SAVE >>> ../trimmed_data/stationSchedule평일-SEPERATED.json\n"
     ]
    },
    {
     "name": "stderr",
     "output_type": "stream",
     "text": [
      "\n"
     ]
    }
   ],
   "source": [
    "stationNameCode = util.loadPickle(\"../trimmed_data/stationNameCode.pickel\")\n",
    "\n",
    "for day,path,savepath in zip(DAYTYPE,PATH_STATION_SCHEDULE_REFINE_DAYTYPE,PATH_STATION_INTERVAL_DAYTYPE):\n",
    "    db = pd.read_json(path,encoding=\"UTF-8\")\n",
    "    column = db.columns.to_list()\n",
    "    \n",
    "    df = pd.DataFrame({c: [] for c in column})\n",
    "    for i in tqdm(db.index):\n",
    "        tCode, lNumber, dVect, sList, aSchedule, dSchedule = db.loc[i, :]\n",
    "        for s, a, d in zip(sList, aSchedule, dSchedule):\n",
    "            _unit = pd.DataFrame(\n",
    "                {\n",
    "                    column[0]: [int(tCode)],\n",
    "                    column[2]: [int(dVect)],\n",
    "                    column[1]: [int(lNumber)],\n",
    "                    column[3]: [int(stationNameCode[s])],\n",
    "                    column[4]: [a],\n",
    "                    column[5]: [d],\n",
    "                    \"DayType\": day,\n",
    "                }\n",
    "            )\n",
    "            # import sys;sys.exit()\n",
    "            # df.loc[len(df)] = pd.Series({'A': 6, 'B': 'f'})   # 1 minute 28.3 sec\n",
    "            # df = df._append(_unit)                            # 38.5 sec\n",
    "            df = pd.concat([df, _unit], ignore_index=True)      # 35.6 sec\n",
    "    \n",
    "    # 모든 숫자는 정수형 입니다. 타입 수정을 위해 수정합니다.\n",
    "    trim_target = column[:8]\n",
    "    for idx in trim_target:\n",
    "        df[idx] = pd.to_numeric(df[idx],downcast=\"integer\")\n",
    "    \n",
    "    with open(savepath,mode=\"w\",encoding=\"UTF-8\") as f:\n",
    "        f.write(df.to_json(index=False))\n",
    "        print(f\"SAVE >>> {savepath}\")"
   ]
  },
  {
   "cell_type": "code",
   "execution_count": 34,
   "metadata": {},
   "outputs": [
    {
     "data": {
      "text/html": [
       "<div>\n",
       "<style scoped>\n",
       "    .dataframe tbody tr th:only-of-type {\n",
       "        vertical-align: middle;\n",
       "    }\n",
       "\n",
       "    .dataframe tbody tr th {\n",
       "        vertical-align: top;\n",
       "    }\n",
       "\n",
       "    .dataframe thead th {\n",
       "        text-align: right;\n",
       "    }\n",
       "</style>\n",
       "<table border=\"1\" class=\"dataframe\">\n",
       "  <thead>\n",
       "    <tr style=\"text-align: right;\">\n",
       "      <th></th>\n",
       "      <th>TrainCode</th>\n",
       "      <th>LineNumber</th>\n",
       "      <th>DirectionVector</th>\n",
       "      <th>StationList</th>\n",
       "      <th>ArriveSchedule</th>\n",
       "      <th>DepartSchedule</th>\n",
       "      <th>DayType</th>\n",
       "    </tr>\n",
       "  </thead>\n",
       "  <tbody>\n",
       "    <tr>\n",
       "      <th>38446</th>\n",
       "      <td>4310</td>\n",
       "      <td>4</td>\n",
       "      <td>7</td>\n",
       "      <td>410</td>\n",
       "      <td>1476</td>\n",
       "      <td>1476.0</td>\n",
       "      <td>평일</td>\n",
       "    </tr>\n",
       "    <tr>\n",
       "      <th>38447</th>\n",
       "      <td>4310</td>\n",
       "      <td>4</td>\n",
       "      <td>7</td>\n",
       "      <td>411</td>\n",
       "      <td>1478</td>\n",
       "      <td>1479.0</td>\n",
       "      <td>평일</td>\n",
       "    </tr>\n",
       "    <tr>\n",
       "      <th>38448</th>\n",
       "      <td>4310</td>\n",
       "      <td>4</td>\n",
       "      <td>7</td>\n",
       "      <td>412</td>\n",
       "      <td>1481</td>\n",
       "      <td>1481.0</td>\n",
       "      <td>평일</td>\n",
       "    </tr>\n",
       "    <tr>\n",
       "      <th>38449</th>\n",
       "      <td>4310</td>\n",
       "      <td>4</td>\n",
       "      <td>7</td>\n",
       "      <td>413</td>\n",
       "      <td>1482</td>\n",
       "      <td>1483.0</td>\n",
       "      <td>평일</td>\n",
       "    </tr>\n",
       "    <tr>\n",
       "      <th>38450</th>\n",
       "      <td>4310</td>\n",
       "      <td>4</td>\n",
       "      <td>7</td>\n",
       "      <td>414</td>\n",
       "      <td>1484</td>\n",
       "      <td>NaN</td>\n",
       "      <td>평일</td>\n",
       "    </tr>\n",
       "  </tbody>\n",
       "</table>\n",
       "</div>"
      ],
      "text/plain": [
       "       TrainCode  LineNumber  DirectionVector  StationList  ArriveSchedule  \\\n",
       "38446       4310           4                7          410            1476   \n",
       "38447       4310           4                7          411            1478   \n",
       "38448       4310           4                7          412            1481   \n",
       "38449       4310           4                7          413            1482   \n",
       "38450       4310           4                7          414            1484   \n",
       "\n",
       "       DepartSchedule DayType  \n",
       "38446          1476.0      평일  \n",
       "38447          1479.0      평일  \n",
       "38448          1481.0      평일  \n",
       "38449          1483.0      평일  \n",
       "38450             NaN      평일  "
      ]
     },
     "execution_count": 34,
     "metadata": {},
     "output_type": "execute_result"
    }
   ],
   "source": [
    "df.tail()"
   ]
  }
 ],
 "metadata": {
  "kernelspec": {
   "display_name": "py39",
   "language": "python",
   "name": "python3"
  },
  "language_info": {
   "codemirror_mode": {
    "name": "ipython",
    "version": 3
   },
   "file_extension": ".py",
   "mimetype": "text/x-python",
   "name": "python",
   "nbconvert_exporter": "python",
   "pygments_lexer": "ipython3",
   "version": "3.9.19"
  }
 },
 "nbformat": 4,
 "nbformat_minor": 2
}
