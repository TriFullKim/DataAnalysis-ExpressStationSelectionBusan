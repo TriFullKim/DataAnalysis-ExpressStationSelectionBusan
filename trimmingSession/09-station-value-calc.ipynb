{
 "cells": [
  {
   "cell_type": "code",
   "execution_count": 104,
   "metadata": {},
   "outputs": [],
   "source": [
    "import pandas as pd\n",
    "import json\n",
    "\n",
    "PATH_GIS_REFINE = \"../trimmed_data/gis-trimmed-행정동.csv\""
   ]
  },
  {
   "cell_type": "code",
   "execution_count": 105,
   "metadata": {},
   "outputs": [
    {
     "data": {
      "text/html": [
       "<div>\n",
       "<style scoped>\n",
       "    .dataframe tbody tr th:only-of-type {\n",
       "        vertical-align: middle;\n",
       "    }\n",
       "\n",
       "    .dataframe tbody tr th {\n",
       "        vertical-align: top;\n",
       "    }\n",
       "\n",
       "    .dataframe thead th {\n",
       "        text-align: right;\n",
       "    }\n",
       "</style>\n",
       "<table border=\"1\" class=\"dataframe\">\n",
       "  <thead>\n",
       "    <tr style=\"text-align: right;\">\n",
       "      <th></th>\n",
       "      <th>temp</th>\n",
       "      <th>역명</th>\n",
       "      <th>area</th>\n",
       "      <th>경도</th>\n",
       "      <th>위도</th>\n",
       "    </tr>\n",
       "  </thead>\n",
       "  <tbody>\n",
       "    <tr>\n",
       "      <th>445</th>\n",
       "      <td>부산진구 가야2동</td>\n",
       "      <td>가야</td>\n",
       "      <td>1365.450577</td>\n",
       "      <td>1.140523e+06</td>\n",
       "      <td>1.685605e+06</td>\n",
       "    </tr>\n",
       "    <tr>\n",
       "      <th>448</th>\n",
       "      <td>부산진구 가야제1동</td>\n",
       "      <td>가야</td>\n",
       "      <td>911132.834497</td>\n",
       "      <td>1.140523e+06</td>\n",
       "      <td>1.685605e+06</td>\n",
       "    </tr>\n",
       "    <tr>\n",
       "      <th>446</th>\n",
       "      <td>부산진구 개금3동</td>\n",
       "      <td>가야</td>\n",
       "      <td>31743.904191</td>\n",
       "      <td>1.140523e+06</td>\n",
       "      <td>1.685605e+06</td>\n",
       "    </tr>\n",
       "    <tr>\n",
       "      <th>447</th>\n",
       "      <td>부산진구 당감1동</td>\n",
       "      <td>가야</td>\n",
       "      <td>288360.415073</td>\n",
       "      <td>1.140523e+06</td>\n",
       "      <td>1.685605e+06</td>\n",
       "    </tr>\n",
       "    <tr>\n",
       "      <th>443</th>\n",
       "      <td>부산진구 당감2동</td>\n",
       "      <td>가야</td>\n",
       "      <td>851433.727738</td>\n",
       "      <td>1.140523e+06</td>\n",
       "      <td>1.685605e+06</td>\n",
       "    </tr>\n",
       "  </tbody>\n",
       "</table>\n",
       "</div>"
      ],
      "text/plain": [
       "           temp  역명           area            경도            위도\n",
       "445   부산진구 가야2동  가야    1365.450577  1.140523e+06  1.685605e+06\n",
       "448  부산진구 가야제1동  가야  911132.834497  1.140523e+06  1.685605e+06\n",
       "446   부산진구 개금3동  가야   31743.904191  1.140523e+06  1.685605e+06\n",
       "447   부산진구 당감1동  가야  288360.415073  1.140523e+06  1.685605e+06\n",
       "443   부산진구 당감2동  가야  851433.727738  1.140523e+06  1.685605e+06"
      ]
     },
     "execution_count": 105,
     "metadata": {},
     "output_type": "execute_result"
    }
   ],
   "source": [
    "df_raw = pd.read_csv(PATH_GIS_REFINE,encoding=\"UTF-8\")\n",
    "target_columns = [\"temp\",\"역명\",\"area\",\"경도\",\"위도\"]\n",
    "\n",
    "df_raw = df_raw.loc[:,target_columns].sort_values(by=[\"역명\",\"temp\"])\n",
    "df_raw.head()"
   ]
  },
  {
   "cell_type": "code",
   "execution_count": 106,
   "metadata": {},
   "outputs": [
    {
     "name": "stderr",
     "output_type": "stream",
     "text": [
      "/tmp/ipykernel_85144/2517999839.py:9: DeprecationWarning: DataFrameGroupBy.apply operated on the grouping columns. This behavior is deprecated, and in a future version of pandas the grouping columns will be excluded from the operation. Either pass `include_groups=False` to exclude the groupings or explicitly select the grouping columns after groupby to silence this warning.\n",
      "  df_raw.loc[:, target_columns]\n",
      "/tmp/ipykernel_85144/2517999839.py:14: DeprecationWarning: DataFrameGroupBy.apply operated on the grouping columns. This behavior is deprecated, and in a future version of pandas the grouping columns will be excluded from the operation. Either pass `include_groups=False` to exclude the groupings or explicitly select the grouping columns after groupby to silence this warning.\n",
      "  df = df_raw.groupby(by=\"stationPosVect\").apply(lambda _X: _X)\n"
     ]
    },
    {
     "data": {
      "text/plain": [
       "['남구 대연1동', '남구 대연3동', '남구 대연4동', '남구 대연5동', '남구 용호1동', '수영구 남천1동']"
      ]
     },
     "execution_count": 106,
     "metadata": {},
     "output_type": "execute_result"
    }
   ],
   "source": [
    "df_raw[\"stationPosVect\"] = (\n",
    "    df_raw.loc[:, \"경도\"].apply(lambda _X: str(_X))\n",
    "    + \"-\"\n",
    "    + df_raw.loc[:, \"위도\"].apply(lambda _X: str(_X))\n",
    ")\n",
    "target_columns = [\"역명\", \"temp\", \"area\", \"stationPosVect\"]\n",
    "\n",
    "df = (\n",
    "    df_raw.loc[:, target_columns]\n",
    "    .groupby(by=\"stationPosVect\")\n",
    "    .apply(lambda _X: _X)\n",
    "    .loc[:, [\"역명\", \"temp\"]]\n",
    ")\n",
    "df = df_raw.groupby(by=\"stationPosVect\").apply(lambda _X: _X)\n",
    "df = df_raw.loc[:, [\"역명\", \"temp\"]]\n",
    "\n",
    "hjdong = df.T.to_dict()\n",
    "hjdong_tmp = {location[\"역명\"]:[]for _, location in hjdong.items()}\n",
    "for _, location in hjdong.items():\n",
    "    hjdong_tmp[location[\"역명\"]].append(location[\"temp\"])\n",
    "\n",
    "hjdong_tmp[\"경성대.부경대\"]"
   ]
  },
  {
   "cell_type": "code",
   "execution_count": 107,
   "metadata": {},
   "outputs": [],
   "source": [
    "import util\n",
    "PATH_STATION_BY_HJDONG = \"../trimmed_data/station_to_행정동.pickle\"\n",
    "util.savePickle(hjdong_tmp,PATH_STATION_BY_HJDONG)"
   ]
  },
  {
   "cell_type": "code",
   "execution_count": 108,
   "metadata": {},
   "outputs": [
    {
     "data": {
      "text/plain": [
       "['남구 대연1동', '남구 대연3동', '남구 대연4동', '남구 대연5동', '남구 용호1동', '수영구 남천1동']"
      ]
     },
     "execution_count": 108,
     "metadata": {},
     "output_type": "execute_result"
    }
   ],
   "source": [
    "hjdong_load_test = util.loadPickle(PATH_STATION_BY_HJDONG)\n",
    "hjdong_load_test[\"경성대.부경대\"]"
   ]
  }
 ],
 "metadata": {
  "kernelspec": {
   "display_name": "py39",
   "language": "python",
   "name": "python3"
  },
  "language_info": {
   "codemirror_mode": {
    "name": "ipython",
    "version": 3
   },
   "file_extension": ".py",
   "mimetype": "text/x-python",
   "name": "python",
   "nbconvert_exporter": "python",
   "pygments_lexer": "ipython3",
   "version": "3.9.19"
  }
 },
 "nbformat": 4,
 "nbformat_minor": 2
}
