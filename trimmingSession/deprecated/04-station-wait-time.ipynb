{
 "cells": [
  {
   "cell_type": "markdown",
   "metadata": {},
   "source": [
    "# `04-interstation-spend-time.ipynb`\n",
    "앞에서 만든 데이터를 통해서 한 역에서 배차 간격 구하기."
   ]
  },
  {
   "cell_type": "code",
   "execution_count": 2,
   "metadata": {},
   "outputs": [],
   "source": [
    "import warnings\n",
    "\n",
    "warnings.simplefilter(action=\"ignore\", category=FutureWarning)"
   ]
  },
  {
   "cell_type": "code",
   "execution_count": 3,
   "metadata": {},
   "outputs": [],
   "source": [
    "import pandas as pd\n",
    "from tqdm import tqdm\n",
    "import util"
   ]
  },
  {
   "cell_type": "code",
   "execution_count": 4,
   "metadata": {},
   "outputs": [],
   "source": [
    "DAYTYPE = [\"토요일\", \"일요일\", \"공휴일\", \"평일\"]\n",
    "PATH_CUSTOMER_IO = \"../raw_data/selected/부산교통공사_시간대별 승하차인원.csv\"\n",
    "PATH_STATION_SCHEDULE_SEPERATED_DAYTYPE = util.PATH_STATION_SCHEDULE_SEPERATED_DAYTYPE\n",
    "PATH_SCHEDULE_INTERVAL_MEAN = [\n",
    "    f\"../trimmed_data/ScheduleIntervalMean{day}.pickle\" for day in DAYTYPE\n",
    "]"
   ]
  },
  {
   "cell_type": "markdown",
   "metadata": {},
   "source": [
    "## Weight ready\n"
   ]
  },
  {
   "cell_type": "code",
   "execution_count": 5,
   "metadata": {},
   "outputs": [
    {
     "name": "stdout",
     "output_type": "stream",
     "text": [
      "Index(['역번호', '역명', '년월일', '요일', '구분', '합계', '01시-02시', '02시-03시', '03시-04시',\n",
      "       '04시-05시', '05시-06시', '06시-07시', '07시-08시', '08시-09시', '09시-10시',\n",
      "       '10시-11시', '11시-12시', '12시-13시', '13시-14시', '14시-15시', '15시-16시',\n",
      "       '16시-17시', '17시-18시', '18시-19시', '19시-20시', '20시-21시', '21시-22시',\n",
      "       '22시-23시', '23시-24시', '24시-01시'],\n",
      "      dtype='object')\n"
     ]
    },
    {
     "data": {
      "text/html": [
       "<div>\n",
       "<style scoped>\n",
       "    .dataframe tbody tr th:only-of-type {\n",
       "        vertical-align: middle;\n",
       "    }\n",
       "\n",
       "    .dataframe tbody tr th {\n",
       "        vertical-align: top;\n",
       "    }\n",
       "\n",
       "    .dataframe thead th {\n",
       "        text-align: right;\n",
       "    }\n",
       "</style>\n",
       "<table border=\"1\" class=\"dataframe\">\n",
       "  <thead>\n",
       "    <tr style=\"text-align: right;\">\n",
       "      <th></th>\n",
       "      <th>역번호</th>\n",
       "      <th>역명</th>\n",
       "      <th>년월일</th>\n",
       "      <th>요일</th>\n",
       "      <th>구분</th>\n",
       "      <th>합계</th>\n",
       "      <th>01시-02시</th>\n",
       "      <th>02시-03시</th>\n",
       "      <th>03시-04시</th>\n",
       "      <th>04시-05시</th>\n",
       "      <th>...</th>\n",
       "      <th>15시-16시</th>\n",
       "      <th>16시-17시</th>\n",
       "      <th>17시-18시</th>\n",
       "      <th>18시-19시</th>\n",
       "      <th>19시-20시</th>\n",
       "      <th>20시-21시</th>\n",
       "      <th>21시-22시</th>\n",
       "      <th>22시-23시</th>\n",
       "      <th>23시-24시</th>\n",
       "      <th>24시-01시</th>\n",
       "    </tr>\n",
       "  </thead>\n",
       "  <tbody>\n",
       "    <tr>\n",
       "      <th>0</th>\n",
       "      <td>95</td>\n",
       "      <td>다대포해수욕장</td>\n",
       "      <td>2024-01-01</td>\n",
       "      <td>월</td>\n",
       "      <td>승차</td>\n",
       "      <td>8587</td>\n",
       "      <td>0</td>\n",
       "      <td>0</td>\n",
       "      <td>0</td>\n",
       "      <td>12</td>\n",
       "      <td>...</td>\n",
       "      <td>585</td>\n",
       "      <td>537</td>\n",
       "      <td>468</td>\n",
       "      <td>266</td>\n",
       "      <td>162</td>\n",
       "      <td>84</td>\n",
       "      <td>111</td>\n",
       "      <td>70</td>\n",
       "      <td>16</td>\n",
       "      <td>0</td>\n",
       "    </tr>\n",
       "    <tr>\n",
       "      <th>1</th>\n",
       "      <td>95</td>\n",
       "      <td>다대포해수욕장</td>\n",
       "      <td>2024-01-01</td>\n",
       "      <td>월</td>\n",
       "      <td>하차</td>\n",
       "      <td>8377</td>\n",
       "      <td>0</td>\n",
       "      <td>4</td>\n",
       "      <td>0</td>\n",
       "      <td>1</td>\n",
       "      <td>...</td>\n",
       "      <td>363</td>\n",
       "      <td>369</td>\n",
       "      <td>303</td>\n",
       "      <td>192</td>\n",
       "      <td>127</td>\n",
       "      <td>92</td>\n",
       "      <td>97</td>\n",
       "      <td>54</td>\n",
       "      <td>42</td>\n",
       "      <td>31</td>\n",
       "    </tr>\n",
       "    <tr>\n",
       "      <th>2</th>\n",
       "      <td>95</td>\n",
       "      <td>다대포해수욕장</td>\n",
       "      <td>2024-01-02</td>\n",
       "      <td>화</td>\n",
       "      <td>승차</td>\n",
       "      <td>4882</td>\n",
       "      <td>0</td>\n",
       "      <td>1</td>\n",
       "      <td>1</td>\n",
       "      <td>16</td>\n",
       "      <td>...</td>\n",
       "      <td>458</td>\n",
       "      <td>422</td>\n",
       "      <td>374</td>\n",
       "      <td>221</td>\n",
       "      <td>142</td>\n",
       "      <td>85</td>\n",
       "      <td>72</td>\n",
       "      <td>50</td>\n",
       "      <td>14</td>\n",
       "      <td>0</td>\n",
       "    </tr>\n",
       "  </tbody>\n",
       "</table>\n",
       "<p>3 rows × 30 columns</p>\n",
       "</div>"
      ],
      "text/plain": [
       "   역번호       역명         년월일 요일  구분    합계  01시-02시  02시-03시  03시-04시  04시-05시  \\\n",
       "0   95  다대포해수욕장  2024-01-01  월  승차  8587        0        0        0       12   \n",
       "1   95  다대포해수욕장  2024-01-01  월  하차  8377        0        4        0        1   \n",
       "2   95  다대포해수욕장  2024-01-02  화  승차  4882        0        1        1       16   \n",
       "\n",
       "   ...  15시-16시  16시-17시  17시-18시  18시-19시  19시-20시  20시-21시  21시-22시  \\\n",
       "0  ...      585      537      468      266      162       84      111   \n",
       "1  ...      363      369      303      192      127       92       97   \n",
       "2  ...      458      422      374      221      142       85       72   \n",
       "\n",
       "   22시-23시  23시-24시  24시-01시  \n",
       "0       70       16        0  \n",
       "1       54       42       31  \n",
       "2       50       14        0  \n",
       "\n",
       "[3 rows x 30 columns]"
      ]
     },
     "execution_count": 5,
     "metadata": {},
     "output_type": "execute_result"
    }
   ],
   "source": [
    "# 가중합의 가중치를 구하기 위한 데이터 불러오기\n",
    "# 가중치는 각 시간대 별로 인원수를 가중치로 함\n",
    "df_weight = pd.read_csv(PATH_CUSTOMER_IO, encoding=\"EUC-KR\")\n",
    "df_weight_SUM = df_weight.loc[:, [\"역번호\", \"합계\"]].groupby(\"역번호\").sum()\n",
    "target_columns = df_weight.columns[6:]\n",
    "print(df_weight.columns)\n",
    "df_weight.head(3)"
   ]
  },
  {
   "cell_type": "code",
   "execution_count": 6,
   "metadata": {},
   "outputs": [
    {
     "name": "stderr",
     "output_type": "stream",
     "text": [
      "100%|██████████| 112/112 [00:00<00:00, 2793.58it/s]\n"
     ]
    },
    {
     "data": {
      "text/html": [
       "<div>\n",
       "<style scoped>\n",
       "    .dataframe tbody tr th:only-of-type {\n",
       "        vertical-align: middle;\n",
       "    }\n",
       "\n",
       "    .dataframe tbody tr th {\n",
       "        vertical-align: top;\n",
       "    }\n",
       "\n",
       "    .dataframe thead th {\n",
       "        text-align: right;\n",
       "    }\n",
       "</style>\n",
       "<table border=\"1\" class=\"dataframe\">\n",
       "  <thead>\n",
       "    <tr style=\"text-align: right;\">\n",
       "      <th></th>\n",
       "      <th>1</th>\n",
       "      <th>2</th>\n",
       "      <th>3</th>\n",
       "      <th>4</th>\n",
       "      <th>5</th>\n",
       "      <th>6</th>\n",
       "      <th>7</th>\n",
       "      <th>8</th>\n",
       "      <th>9</th>\n",
       "      <th>10</th>\n",
       "      <th>...</th>\n",
       "      <th>15</th>\n",
       "      <th>16</th>\n",
       "      <th>17</th>\n",
       "      <th>18</th>\n",
       "      <th>19</th>\n",
       "      <th>20</th>\n",
       "      <th>21</th>\n",
       "      <th>22</th>\n",
       "      <th>23</th>\n",
       "      <th>24</th>\n",
       "    </tr>\n",
       "    <tr>\n",
       "      <th>역번호</th>\n",
       "      <th></th>\n",
       "      <th></th>\n",
       "      <th></th>\n",
       "      <th></th>\n",
       "      <th></th>\n",
       "      <th></th>\n",
       "      <th></th>\n",
       "      <th></th>\n",
       "      <th></th>\n",
       "      <th></th>\n",
       "      <th></th>\n",
       "      <th></th>\n",
       "      <th></th>\n",
       "      <th></th>\n",
       "      <th></th>\n",
       "      <th></th>\n",
       "      <th></th>\n",
       "      <th></th>\n",
       "      <th></th>\n",
       "      <th></th>\n",
       "      <th></th>\n",
       "    </tr>\n",
       "  </thead>\n",
       "  <tbody>\n",
       "    <tr>\n",
       "      <th>95</th>\n",
       "      <td>0.000065</td>\n",
       "      <td>0.000044</td>\n",
       "      <td>0.000044</td>\n",
       "      <td>0.002301</td>\n",
       "      <td>0.009177</td>\n",
       "      <td>0.025826</td>\n",
       "      <td>0.052917</td>\n",
       "      <td>0.065470</td>\n",
       "      <td>0.051581</td>\n",
       "      <td>0.056159</td>\n",
       "      <td>...</td>\n",
       "      <td>0.085282</td>\n",
       "      <td>0.080876</td>\n",
       "      <td>0.078471</td>\n",
       "      <td>0.067389</td>\n",
       "      <td>0.041138</td>\n",
       "      <td>0.027968</td>\n",
       "      <td>0.023160</td>\n",
       "      <td>0.02016</td>\n",
       "      <td>0.011687</td>\n",
       "      <td>0.006221</td>\n",
       "    </tr>\n",
       "    <tr>\n",
       "      <th>96</th>\n",
       "      <td>0.000033</td>\n",
       "      <td>0.000026</td>\n",
       "      <td>0.000002</td>\n",
       "      <td>0.001308</td>\n",
       "      <td>0.010910</td>\n",
       "      <td>0.025226</td>\n",
       "      <td>0.046469</td>\n",
       "      <td>0.065929</td>\n",
       "      <td>0.055753</td>\n",
       "      <td>0.056943</td>\n",
       "      <td>...</td>\n",
       "      <td>0.079309</td>\n",
       "      <td>0.083350</td>\n",
       "      <td>0.080991</td>\n",
       "      <td>0.076191</td>\n",
       "      <td>0.043655</td>\n",
       "      <td>0.030881</td>\n",
       "      <td>0.026743</td>\n",
       "      <td>0.02004</td>\n",
       "      <td>0.009715</td>\n",
       "      <td>0.003944</td>\n",
       "    </tr>\n",
       "    <tr>\n",
       "      <th>97</th>\n",
       "      <td>0.000054</td>\n",
       "      <td>0.000047</td>\n",
       "      <td>0.000018</td>\n",
       "      <td>0.001577</td>\n",
       "      <td>0.011281</td>\n",
       "      <td>0.025697</td>\n",
       "      <td>0.052684</td>\n",
       "      <td>0.074127</td>\n",
       "      <td>0.056272</td>\n",
       "      <td>0.056377</td>\n",
       "      <td>...</td>\n",
       "      <td>0.069604</td>\n",
       "      <td>0.074801</td>\n",
       "      <td>0.080825</td>\n",
       "      <td>0.080666</td>\n",
       "      <td>0.049541</td>\n",
       "      <td>0.033859</td>\n",
       "      <td>0.031175</td>\n",
       "      <td>0.02537</td>\n",
       "      <td>0.014503</td>\n",
       "      <td>0.005464</td>\n",
       "    </tr>\n",
       "  </tbody>\n",
       "</table>\n",
       "<p>3 rows × 24 columns</p>\n",
       "</div>"
      ],
      "text/plain": [
       "           1         2         3         4         5         6         7   \\\n",
       "역번호                                                                         \n",
       "95   0.000065  0.000044  0.000044  0.002301  0.009177  0.025826  0.052917   \n",
       "96   0.000033  0.000026  0.000002  0.001308  0.010910  0.025226  0.046469   \n",
       "97   0.000054  0.000047  0.000018  0.001577  0.011281  0.025697  0.052684   \n",
       "\n",
       "           8         9         10  ...        15        16        17  \\\n",
       "역번호                                ...                                 \n",
       "95   0.065470  0.051581  0.056159  ...  0.085282  0.080876  0.078471   \n",
       "96   0.065929  0.055753  0.056943  ...  0.079309  0.083350  0.080991   \n",
       "97   0.074127  0.056272  0.056377  ...  0.069604  0.074801  0.080825   \n",
       "\n",
       "           18        19        20        21       22        23        24  \n",
       "역번호                                                                       \n",
       "95   0.067389  0.041138  0.027968  0.023160  0.02016  0.011687  0.006221  \n",
       "96   0.076191  0.043655  0.030881  0.026743  0.02004  0.009715  0.003944  \n",
       "97   0.080666  0.049541  0.033859  0.031175  0.02537  0.014503  0.005464  \n",
       "\n",
       "[3 rows x 24 columns]"
      ]
     },
     "execution_count": 6,
     "metadata": {},
     "output_type": "execute_result"
    }
   ],
   "source": [
    "# 참고: GroupBy 때문에 역번호가 자동으로 INDEX로 변함.\n",
    "# TODO : 시간에 해당하는 것만 합쳐서 가져오기\n",
    "df_weight = (\n",
    "    df_weight.iloc[:, [0, *range(6, len(df_weight.columns))]].groupby(\"역번호\").sum()\n",
    ")\n",
    "\n",
    "# n~m시를 n 으로 바꾸기\n",
    "time_to_integer = {\n",
    "    curr: new_name for curr, new_name in zip(target_columns, list(range(1, 25)))\n",
    "}\n",
    "df_weight = df_weight.rename(columns=time_to_integer)\n",
    "\n",
    "# TODO: 가중치로 만들고 value를 가중치로 다시 바꾸기.\n",
    "for index in tqdm(df_weight_SUM.index):\n",
    "    df_weight.loc[index, :] = df_weight.loc[index, :] / df_weight_SUM.loc[index, \"합계\"]\n",
    "\n",
    "# TODO: 환승역 중복이 제거 되어 있어서 다시 추가함\n",
    "# 어캐알았음? -> 에러나서 삽질함.\n",
    "df_weight.loc[301, :] = df_weight.loc[208, :]\n",
    "df_weight.loc[401, :] = df_weight.loc[309, :]\n",
    "\n",
    "df_weight.head(3)"
   ]
  },
  {
   "cell_type": "markdown",
   "metadata": {},
   "source": [
    "## Weghted Sum Calculate step"
   ]
  },
  {
   "cell_type": "markdown",
   "metadata": {},
   "source": [
    "### Weighted Sum ready Processing\n",
    "간단히 프로세싱을 보고 싶으면 아래의 example session을 참고"
   ]
  },
  {
   "cell_type": "code",
   "execution_count": 7,
   "metadata": {},
   "outputs": [
    {
     "name": "stderr",
     "output_type": "stream",
     "text": [
      "100%|██████████| 228/228 [00:00<00:00, 297.53it/s]\n",
      "100%|██████████| 228/228 [00:00<00:00, 737.26it/s]\n"
     ]
    },
    {
     "name": "stdout",
     "output_type": "stream",
     "text": [
      "                             ArriveInterval  DepartInterval\n",
      "DirectionVector StationList                                \n",
      "0               95                 6.052231        6.052231\n",
      "                96                 6.078447        6.076206\n"
     ]
    },
    {
     "name": "stderr",
     "output_type": "stream",
     "text": [
      "100%|██████████| 28/28 [00:00<00:00, 290.42it/s]\n",
      "100%|██████████| 28/28 [00:00<00:00, 805.35it/s]\n"
     ]
    },
    {
     "name": "stdout",
     "output_type": "stream",
     "text": [
      "                             ArriveInterval  DepartInterval\n",
      "DirectionVector StationList                                \n",
      "6               401                7.813510             NaN\n",
      "                402                7.817525         7.81886\n"
     ]
    },
    {
     "name": "stderr",
     "output_type": "stream",
     "text": [
      "100%|██████████| 200/200 [00:00<00:00, 314.70it/s]\n",
      "100%|██████████| 200/200 [00:00<00:00, 745.86it/s]\n"
     ]
    },
    {
     "name": "stdout",
     "output_type": "stream",
     "text": [
      "                             ArriveInterval  DepartInterval\n",
      "DirectionVector StationList                                \n",
      "0               95                 6.331693        6.341629\n",
      "                96                 6.362998        6.359737\n"
     ]
    },
    {
     "name": "stderr",
     "output_type": "stream",
     "text": [
      "100%|██████████| 228/228 [00:00<00:00, 310.73it/s]\n",
      "100%|██████████| 228/228 [00:00<00:00, 766.24it/s]\n"
     ]
    },
    {
     "name": "stdout",
     "output_type": "stream",
     "text": [
      "                             ArriveInterval  DepartInterval\n",
      "DirectionVector StationList                                \n",
      "0               95                 6.074339        6.074339\n",
      "                96                 6.064703        6.062306\n"
     ]
    }
   ],
   "source": [
    "def get_weigthed_mean(path,weight=df_weight):\n",
    "    import util\n",
    "    dat = pd.read_json(path, encoding=\"UTF-8\")\n",
    "    \n",
    "    __dat = (\n",
    "        dat.iloc[:, 2:6]\n",
    "        .sort_values(by=[\"StationList\", \"DirectionVector\", \"ArriveSchedule\"])\n",
    "        .__deepcopy__()\n",
    "    )\n",
    "    \n",
    "    __index = __dat.groupby(by=[\"DirectionVector\", \"StationList\"])\n",
    "    __index = __index.mean().index\n",
    "    \n",
    "    __hour = dat.iloc[:, 4:-1] // 60\n",
    "    __hour[\"DirectionVector\"] = dat[\"DirectionVector\"]\n",
    "    __hour[\"StationList\"] = dat[\"StationList\"]\n",
    "    __weight_table = weight\n",
    "    __weight_table = __weight_table.T.to_dict()\n",
    "\n",
    "\n",
    "    for d_vec, s_code in tqdm(__index):\n",
    "        condtion_df = (__hour[\"DirectionVector\"] == d_vec) & (__hour[\"StationList\"] == s_code)\n",
    "        __hour.loc[condtion_df, \"ArriveSchedule\"] = __hour.loc[\n",
    "            condtion_df, \"ArriveSchedule\"\n",
    "        ].replace(__weight_table[s_code])\n",
    "        __hour.loc[condtion_df, \"DepartSchedule\"] = __hour.loc[\n",
    "            condtion_df, \"DepartSchedule\"\n",
    "        ].replace(__weight_table[s_code])\n",
    "\n",
    "    __weight = __hour.rename(\n",
    "        columns={\"ArriveSchedule\": \"ArriveWeight\", \"DepartSchedule\": \"DepartWeight\"}\n",
    "    )\n",
    "    \n",
    "    __diff = __dat.copy()\n",
    "    for d_vec, s_code in tqdm(__index):\n",
    "        condtion_df = (__diff[\"DirectionVector\"] == d_vec) & (__diff[\"StationList\"] == s_code)\n",
    "        __diff.loc[condtion_df, \"ArriveSchedule\"] = __diff.loc[\n",
    "            condtion_df, \"ArriveSchedule\"\n",
    "        ].diff()\n",
    "        __diff.loc[condtion_df, \"DepartSchedule\"] = __diff.loc[\n",
    "            condtion_df, \"DepartSchedule\"\n",
    "        ].diff()\n",
    "\n",
    "    __diff = __diff.rename(\n",
    "        columns={\"ArriveSchedule\": \"ArriveInterval\", \"DepartSchedule\": \"DepartInterval\"}\n",
    "    )\n",
    "    \n",
    "    __weight = __weight.reindex()\n",
    "    __diff = __diff.reindex()\n",
    "    operation_target = {\"ArriveInterval\": \"ArriveWeight\", \"DepartInterval\": \"DepartWeight\"}\n",
    "    __weighted_interval = util.df_mul_DiffColName(__weight,__diff,operation_target)\n",
    "\n",
    "    __weighted_interval_grouped = __weighted_interval.groupby(by=[\"DirectionVector\",\"StationList\"]).sum()\n",
    "    __weight_sum_grouped = __weight.groupby(by=[\"DirectionVector\",\"StationList\"]).sum()\n",
    "    \n",
    "    # import sys;sys.exit()\n",
    "    return util.df_div_DiffColName(__weighted_interval_grouped,__weight_sum_grouped,operation_target)\n",
    "\n",
    "# 요일 별로 처리하기.\n",
    "for loadPath,saveFile in zip(PATH_STATION_SCHEDULE_SEPERATED_DAYTYPE,PATH_SCHEDULE_INTERVAL_MEAN):\n",
    "    weighted_interval_mean = get_weigthed_mean(loadPath)\n",
    "    print(weighted_interval_mean.head(2))\n",
    "    util.savePickle(weighted_interval_mean,saveFile)"
   ]
  },
  {
   "cell_type": "markdown",
   "metadata": {},
   "source": [
    "### Calculate Weighted SUM 역마다 가중 평균 배차간격 구하기"
   ]
  },
  {
   "cell_type": "code",
   "execution_count": 8,
   "metadata": {},
   "outputs": [
    {
     "data": {
      "text/plain": [
       "(355.9588973127273, 363.9968771614468, 392.5459131354582, 404.6896758014144)"
      ]
     },
     "execution_count": 8,
     "metadata": {},
     "output_type": "execute_result"
    }
   ],
   "source": [
    "path = PATH_SCHEDULE_INTERVAL_MEAN\n",
    "\n",
    "# import sys;sys.exit()\n",
    "# 6일 평균.\n",
    "tmp = util.loadPickle(path[3]).mean(axis=1) * 5  # 평일\n",
    "tmp += util.loadPickle(path[0]).mean(axis=1)  # 토요일\n",
    "tmp /= 6\n",
    "tmp = tmp.groupby(by=\"StationList\").mean()\n",
    "tmp *= 60  # Time Unit is Second!!\n",
    "\n",
    "PATH_WEIGHTED_MEAN_INTERVAL = \"../trimmed_data/WeightedIntervalMean.pickle\"\n",
    "util.savePickle(tmp, PATH_WEIGHTED_MEAN_INTERVAL)\n",
    "(tmp[95],tmp[201],tmp[301],tmp[401])"
   ]
  },
  {
   "cell_type": "markdown",
   "metadata": {},
   "source": [
    "### Example Session\n",
    "---\n",
    "이곳부터는 실행되는 자세한 코드 상태를 보여줍니다"
   ]
  },
  {
   "cell_type": "code",
   "execution_count": 9,
   "metadata": {},
   "outputs": [
    {
     "data": {
      "text/html": [
       "<div>\n",
       "<style scoped>\n",
       "    .dataframe tbody tr th:only-of-type {\n",
       "        vertical-align: middle;\n",
       "    }\n",
       "\n",
       "    .dataframe tbody tr th {\n",
       "        vertical-align: top;\n",
       "    }\n",
       "\n",
       "    .dataframe thead th {\n",
       "        text-align: right;\n",
       "    }\n",
       "</style>\n",
       "<table border=\"1\" class=\"dataframe\">\n",
       "  <thead>\n",
       "    <tr style=\"text-align: right;\">\n",
       "      <th></th>\n",
       "      <th>TrainCode</th>\n",
       "      <th>LineNumber</th>\n",
       "      <th>DirectionVector</th>\n",
       "      <th>StationList</th>\n",
       "      <th>ArriveSchedule</th>\n",
       "      <th>DepartSchedule</th>\n",
       "      <th>DayType</th>\n",
       "    </tr>\n",
       "  </thead>\n",
       "  <tbody>\n",
       "    <tr>\n",
       "      <th>36435</th>\n",
       "      <td>4296</td>\n",
       "      <td>4</td>\n",
       "      <td>7</td>\n",
       "      <td>412</td>\n",
       "      <td>1481</td>\n",
       "      <td>1481.0</td>\n",
       "      <td>토요일</td>\n",
       "    </tr>\n",
       "    <tr>\n",
       "      <th>36436</th>\n",
       "      <td>4296</td>\n",
       "      <td>4</td>\n",
       "      <td>7</td>\n",
       "      <td>413</td>\n",
       "      <td>1482</td>\n",
       "      <td>1483.0</td>\n",
       "      <td>토요일</td>\n",
       "    </tr>\n",
       "    <tr>\n",
       "      <th>36437</th>\n",
       "      <td>4296</td>\n",
       "      <td>4</td>\n",
       "      <td>7</td>\n",
       "      <td>414</td>\n",
       "      <td>1484</td>\n",
       "      <td>NaN</td>\n",
       "      <td>토요일</td>\n",
       "    </tr>\n",
       "  </tbody>\n",
       "</table>\n",
       "</div>"
      ],
      "text/plain": [
       "       TrainCode  LineNumber  DirectionVector  StationList  ArriveSchedule  \\\n",
       "36435       4296           4                7          412            1481   \n",
       "36436       4296           4                7          413            1482   \n",
       "36437       4296           4                7          414            1484   \n",
       "\n",
       "       DepartSchedule DayType  \n",
       "36435          1481.0     토요일  \n",
       "36436          1483.0     토요일  \n",
       "36437             NaN     토요일  "
      ]
     },
     "execution_count": 9,
     "metadata": {},
     "output_type": "execute_result"
    }
   ],
   "source": [
    "# Load Data\n",
    "path = PATH_STATION_SCHEDULE_SEPERATED_DAYTYPE[0]\n",
    "dat = pd.read_json(path, encoding=\"UTF-8\")\n",
    "dat.tail(3)"
   ]
  },
  {
   "cell_type": "code",
   "execution_count": 10,
   "metadata": {},
   "outputs": [
    {
     "name": "stdout",
     "output_type": "stream",
     "text": [
      "\n",
      "__dat 예시 :\n",
      "      DirectionVector  StationList  ArriveSchedule  DepartSchedule\n",
      "6640                0           95             304           304.0\n",
      "6680                0           95             318           318.0\n",
      "6720                0           95             330           330.0\n",
      "\n",
      "__index 예시 :\n",
      "(0, 95)  (0, 96)  (0, 97)  228\n"
     ]
    }
   ],
   "source": [
    "# Get INDEX\n",
    "# INDEX의 타입은 MUTI INDEX 입니다.\n",
    "# 멀티인덱스는 순서쌍으로 Duple로 표현됩니다.\n",
    "__dat = (\n",
    "    dat.iloc[:, 2:6]\n",
    "    .sort_values(by=[\"StationList\", \"DirectionVector\", \"ArriveSchedule\"])\n",
    "    .__deepcopy__()\n",
    ")\n",
    "print(\"\\n__dat 예시 :\")\n",
    "print(__dat.head(3))\n",
    "\n",
    "__index = __dat.groupby(by=[\"DirectionVector\", \"StationList\"])\n",
    "__index = __index.mean().index\n",
    "print(\"\\n__index 예시 :\")\n",
    "print(*__index[:3], len(__index), sep=\"  \")"
   ]
  },
  {
   "cell_type": "code",
   "execution_count": 11,
   "metadata": {},
   "outputs": [
    {
     "name": "stderr",
     "output_type": "stream",
     "text": [
      "  0%|          | 0/228 [00:00<?, ?it/s]"
     ]
    },
    {
     "name": "stderr",
     "output_type": "stream",
     "text": [
      "100%|██████████| 228/228 [00:00<00:00, 296.86it/s]"
     ]
    },
    {
     "name": "stdout",
     "output_type": "stream",
     "text": [
      "\n",
      "__hour 예시 :\n",
      "   ArriveWeight  DepartWeight  DirectionVector  StationList\n",
      "0      0.003707      0.003707                1          134\n",
      "1      0.006896      0.006896                1          133\n",
      "2      0.009026      0.009026                1          132 36438\n"
     ]
    },
    {
     "name": "stderr",
     "output_type": "stream",
     "text": [
      "\n"
     ]
    }
   ],
   "source": [
    "# Hours에 따른 LookUp Table을 weight와 매칭 해준다.\n",
    "__hour = dat.iloc[:, 4:-1] // 60\n",
    "__hour[\"DirectionVector\"] = dat[\"DirectionVector\"]\n",
    "__hour[\"StationList\"] = dat[\"StationList\"]\n",
    "__weight_table = df_weight\n",
    "__weight_table = __weight_table.T.to_dict()\n",
    "\n",
    "\n",
    "for d_vec, s_code in tqdm(__index):\n",
    "    condtion_df = (__hour[\"DirectionVector\"] == d_vec) & (__hour[\"StationList\"] == s_code)\n",
    "    __hour.loc[condtion_df, \"ArriveSchedule\"] = __hour.loc[\n",
    "        condtion_df, \"ArriveSchedule\"\n",
    "    ].replace(__weight_table[s_code])\n",
    "    __hour.loc[condtion_df, \"DepartSchedule\"] = __hour.loc[\n",
    "        condtion_df, \"DepartSchedule\"\n",
    "    ].replace(__weight_table[s_code])\n",
    "\n",
    "__weight = __hour.rename(\n",
    "    columns={\"ArriveSchedule\": \"ArriveWeight\", \"DepartSchedule\": \"DepartWeight\"}\n",
    ")\n",
    "\n",
    "print(\"\\n__hour 예시 :\")\n",
    "print(__weight.head(3), len(__weight))"
   ]
  },
  {
   "cell_type": "code",
   "execution_count": 12,
   "metadata": {},
   "outputs": [
    {
     "name": "stderr",
     "output_type": "stream",
     "text": [
      "100%|██████████| 228/228 [00:00<00:00, 753.57it/s]"
     ]
    },
    {
     "name": "stdout",
     "output_type": "stream",
     "text": [
      "\n",
      "__diff 예시 :\n",
      "      DirectionVector  StationList  ArriveInterval  DepartInterval\n",
      "6640                0           95             NaN             NaN\n",
      "6680                0           95            14.0            14.0\n",
      "6720                0           95            12.0            12.0 36438\n"
     ]
    },
    {
     "name": "stderr",
     "output_type": "stream",
     "text": [
      "\n"
     ]
    }
   ],
   "source": [
    "# Schedule Difference 구하기\n",
    "__diff = __dat.copy()\n",
    "for d_vec, s_code in tqdm(__index):\n",
    "    condtion_df = (__diff[\"DirectionVector\"] == d_vec) & (__diff[\"StationList\"] == s_code)\n",
    "    __diff.loc[condtion_df, \"ArriveSchedule\"] = __diff.loc[\n",
    "        condtion_df, \"ArriveSchedule\"\n",
    "    ].diff()\n",
    "    __diff.loc[condtion_df, \"DepartSchedule\"] = __diff.loc[\n",
    "        condtion_df, \"DepartSchedule\"\n",
    "    ].diff()\n",
    "\n",
    "__diff = __diff.rename(\n",
    "    columns={\"ArriveSchedule\": \"ArriveInterval\", \"DepartSchedule\": \"DepartInterval\"}\n",
    ")\n",
    "\n",
    "print(\"\\n__diff 예시 :\")\n",
    "print(__diff.head(3), len(__diff))\n",
    "    # import sys; sys.exit()"
   ]
  },
  {
   "cell_type": "code",
   "execution_count": 13,
   "metadata": {},
   "outputs": [
    {
     "data": {
      "text/html": [
       "<div>\n",
       "<style scoped>\n",
       "    .dataframe tbody tr th:only-of-type {\n",
       "        vertical-align: middle;\n",
       "    }\n",
       "\n",
       "    .dataframe tbody tr th {\n",
       "        vertical-align: top;\n",
       "    }\n",
       "\n",
       "    .dataframe thead th {\n",
       "        text-align: right;\n",
       "    }\n",
       "</style>\n",
       "<table border=\"1\" class=\"dataframe\">\n",
       "  <thead>\n",
       "    <tr style=\"text-align: right;\">\n",
       "      <th></th>\n",
       "      <th></th>\n",
       "      <th>ArriveInterval</th>\n",
       "      <th>DepartInterval</th>\n",
       "    </tr>\n",
       "    <tr>\n",
       "      <th>DirectionVector</th>\n",
       "      <th>StationList</th>\n",
       "      <th></th>\n",
       "      <th></th>\n",
       "    </tr>\n",
       "  </thead>\n",
       "  <tbody>\n",
       "    <tr>\n",
       "      <th rowspan=\"3\" valign=\"top\">7</th>\n",
       "      <th>412</th>\n",
       "      <td>7.218161</td>\n",
       "      <td>7.219375</td>\n",
       "    </tr>\n",
       "    <tr>\n",
       "      <th>413</th>\n",
       "      <td>7.137433</td>\n",
       "      <td>7.137013</td>\n",
       "    </tr>\n",
       "    <tr>\n",
       "      <th>414</th>\n",
       "      <td>7.163189</td>\n",
       "      <td>NaN</td>\n",
       "    </tr>\n",
       "  </tbody>\n",
       "</table>\n",
       "</div>"
      ],
      "text/plain": [
       "                             ArriveInterval  DepartInterval\n",
       "DirectionVector StationList                                \n",
       "7               412                7.218161        7.219375\n",
       "                413                7.137433        7.137013\n",
       "                414                7.163189             NaN"
      ]
     },
     "execution_count": 13,
     "metadata": {},
     "output_type": "execute_result"
    }
   ],
   "source": [
    "import util\n",
    "__weight = __weight.reindex()\n",
    "__diff = __diff.reindex()\n",
    "operation_target = {\"ArriveInterval\": \"ArriveWeight\", \"DepartInterval\": \"DepartWeight\"}\n",
    "__weighted_interval = util.df_mul_DiffColName(__weight,__diff,operation_target)\n",
    "\n",
    "# Weighted Sum\n",
    "__weighted_interval_grouped = __weighted_interval.groupby(by=[\"DirectionVector\",\"StationList\"]).sum()\n",
    "__weight_sum_grouped = __weight.groupby(by=[\"DirectionVector\",\"StationList\"]).sum()\n",
    "util.df_div_DiffColName(__weighted_interval_grouped,__weight_sum_grouped,operation_target).tail(3)"
   ]
  }
 ],
 "metadata": {
  "kernelspec": {
   "display_name": "py39",
   "language": "python",
   "name": "python3"
  },
  "language_info": {
   "codemirror_mode": {
    "name": "ipython",
    "version": 3
   },
   "file_extension": ".py",
   "mimetype": "text/x-python",
   "name": "python",
   "nbconvert_exporter": "python",
   "pygments_lexer": "ipython3",
   "version": "3.9.19"
  }
 },
 "nbformat": 4,
 "nbformat_minor": 2
}
