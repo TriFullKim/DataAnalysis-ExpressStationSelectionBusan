{
 "cells": [
  {
   "cell_type": "code",
   "execution_count": 1,
   "metadata": {},
   "outputs": [
    {
     "name": "stdout",
     "output_type": "stream",
     "text": [
      "len(subway_graph) == len(interval_time) :  True\n"
     ]
    },
    {
     "name": "stderr",
     "output_type": "stream",
     "text": [
      "/home/tfk/miniconda3/envs/py39/lib/python3.9/site-packages/tqdm/auto.py:21: TqdmWarning: IProgress not found. Please update jupyter and ipywidgets. See https://ipywidgets.readthedocs.io/en/stable/user_install.html\n",
      "  from .autonotebook import tqdm as notebook_tqdm\n"
     ]
    }
   ],
   "source": [
    "import pandas as pd\n",
    "from util import *\n",
    "from stationUtil import *\n",
    "from graph import *"
   ]
  },
  {
   "cell_type": "code",
   "execution_count": 2,
   "metadata": {},
   "outputs": [],
   "source": [
    "SUM_FLUX_METRIC = pd.read_json(\"../database/SUM_FLUX_IO_METRIC.json\")\n",
    "IMPLICIT_METRIC = pd.read_json(\"../database/IMPLICIT_METRIC.json\")"
   ]
  },
  {
   "cell_type": "code",
   "execution_count": 3,
   "metadata": {},
   "outputs": [
    {
     "data": {
      "text/html": [
       "<div>\n",
       "<style scoped>\n",
       "    .dataframe tbody tr th:only-of-type {\n",
       "        vertical-align: middle;\n",
       "    }\n",
       "\n",
       "    .dataframe tbody tr th {\n",
       "        vertical-align: top;\n",
       "    }\n",
       "\n",
       "    .dataframe thead th {\n",
       "        text-align: right;\n",
       "    }\n",
       "</style>\n",
       "<table border=\"1\" class=\"dataframe\">\n",
       "  <thead>\n",
       "    <tr style=\"text-align: right;\">\n",
       "      <th></th>\n",
       "      <th>IN_FLUX</th>\n",
       "      <th>OUT_FLUX</th>\n",
       "    </tr>\n",
       "  </thead>\n",
       "  <tbody>\n",
       "    <tr>\n",
       "      <th>401</th>\n",
       "      <td>10.000000</td>\n",
       "      <td>10.000000</td>\n",
       "    </tr>\n",
       "    <tr>\n",
       "      <th>402</th>\n",
       "      <td>3.571429</td>\n",
       "      <td>5.000000</td>\n",
       "    </tr>\n",
       "    <tr>\n",
       "      <th>403</th>\n",
       "      <td>6.428571</td>\n",
       "      <td>8.571429</td>\n",
       "    </tr>\n",
       "    <tr>\n",
       "      <th>404</th>\n",
       "      <td>2.142857</td>\n",
       "      <td>2.142857</td>\n",
       "    </tr>\n",
       "    <tr>\n",
       "      <th>405</th>\n",
       "      <td>5.714286</td>\n",
       "      <td>5.714286</td>\n",
       "    </tr>\n",
       "  </tbody>\n",
       "</table>\n",
       "</div>"
      ],
      "text/plain": [
       "       IN_FLUX   OUT_FLUX\n",
       "401  10.000000  10.000000\n",
       "402   3.571429   5.000000\n",
       "403   6.428571   8.571429\n",
       "404   2.142857   2.142857\n",
       "405   5.714286   5.714286"
      ]
     },
     "execution_count": 3,
     "metadata": {},
     "output_type": "execute_result"
    }
   ],
   "source": [
    "# 정규화함. 호선 별로\n",
    "SUM_FLUX_METRIC_GRADE = SUM_FLUX_METRIC.copy(deep=True)\n",
    "for line in (1, 2, 3, 4):\n",
    "    SUM_FLUX_METRIC_GRADE.loc[line_num_to_range(line), \"IN_FLUX\":\"OUT_FLUX\"] = SUM_FLUX_METRIC_GRADE.loc[line_num_to_range(line), \"IN_FLUX\":\"OUT_FLUX\"].rank(method=\"min\")\n",
    "    SUM_FLUX_METRIC_GRADE.loc[line_num_to_range(line), \"IN_FLUX\":\"OUT_FLUX\"] /= SUM_FLUX_METRIC_GRADE.loc[line_num_to_range(line), \"IN_FLUX\":\"OUT_FLUX\"].max()\n",
    "    SUM_FLUX_METRIC_GRADE.loc[line_num_to_range(line), \"IN_FLUX\":\"OUT_FLUX\"] *= 10\n",
    "    \n",
    "SUM_FLUX_METRIC_GRADE.loc[line_num_to_range(4), :].head()"
   ]
  },
  {
   "cell_type": "code",
   "execution_count": 4,
   "metadata": {},
   "outputs": [
    {
     "data": {
      "text/html": [
       "<div>\n",
       "<style scoped>\n",
       "    .dataframe tbody tr th:only-of-type {\n",
       "        vertical-align: middle;\n",
       "    }\n",
       "\n",
       "    .dataframe tbody tr th {\n",
       "        vertical-align: top;\n",
       "    }\n",
       "\n",
       "    .dataframe thead th {\n",
       "        text-align: right;\n",
       "    }\n",
       "</style>\n",
       "<table border=\"1\" class=\"dataframe\">\n",
       "  <thead>\n",
       "    <tr style=\"text-align: right;\">\n",
       "      <th></th>\n",
       "      <th>직장인구</th>\n",
       "      <th>주거인구</th>\n",
       "      <th>유동인구</th>\n",
       "    </tr>\n",
       "  </thead>\n",
       "  <tbody>\n",
       "    <tr>\n",
       "      <th>401</th>\n",
       "      <td>6.428571</td>\n",
       "      <td>7.142857</td>\n",
       "      <td>7.857143</td>\n",
       "    </tr>\n",
       "    <tr>\n",
       "      <th>402</th>\n",
       "      <td>7.857143</td>\n",
       "      <td>8.571429</td>\n",
       "      <td>9.285714</td>\n",
       "    </tr>\n",
       "    <tr>\n",
       "      <th>403</th>\n",
       "      <td>10.000000</td>\n",
       "      <td>10.000000</td>\n",
       "      <td>10.000000</td>\n",
       "    </tr>\n",
       "    <tr>\n",
       "      <th>404</th>\n",
       "      <td>9.285714</td>\n",
       "      <td>9.285714</td>\n",
       "      <td>8.571429</td>\n",
       "    </tr>\n",
       "    <tr>\n",
       "      <th>405</th>\n",
       "      <td>8.571429</td>\n",
       "      <td>7.857143</td>\n",
       "      <td>7.142857</td>\n",
       "    </tr>\n",
       "  </tbody>\n",
       "</table>\n",
       "</div>"
      ],
      "text/plain": [
       "          직장인구       주거인구       유동인구\n",
       "401   6.428571   7.142857   7.857143\n",
       "402   7.857143   8.571429   9.285714\n",
       "403  10.000000  10.000000  10.000000\n",
       "404   9.285714   9.285714   8.571429\n",
       "405   8.571429   7.857143   7.142857"
      ]
     },
     "execution_count": 4,
     "metadata": {},
     "output_type": "execute_result"
    }
   ],
   "source": [
    "# 정규화함. 호선 별로\n",
    "IMPLICIT_METRIC_GRADE = IMPLICIT_METRIC.copy(deep=True)\n",
    "for line in (1, 2, 3, 4):\n",
    "    IMPLICIT_METRIC_GRADE.loc[line_num_to_range(line), \"직장인구\":\"유동인구\"] = IMPLICIT_METRIC_GRADE.loc[line_num_to_range(line), \"직장인구\":\"유동인구\"].rank(method=\"min\")\n",
    "    IMPLICIT_METRIC_GRADE.loc[line_num_to_range(line), \"직장인구\":\"유동인구\"] /= IMPLICIT_METRIC_GRADE.loc[line_num_to_range(line), \"직장인구\":\"유동인구\"].max()\n",
    "    IMPLICIT_METRIC_GRADE.loc[line_num_to_range(line), \"직장인구\":\"유동인구\"] *= 10\n",
    "\n",
    "IMPLICIT_METRIC_GRADE.loc[line_num_to_range(4), :].head()"
   ]
  },
  {
   "cell_type": "code",
   "execution_count": 5,
   "metadata": {},
   "outputs": [
    {
     "data": {
      "text/html": [
       "<div>\n",
       "<style scoped>\n",
       "    .dataframe tbody tr th:only-of-type {\n",
       "        vertical-align: middle;\n",
       "    }\n",
       "\n",
       "    .dataframe tbody tr th {\n",
       "        vertical-align: top;\n",
       "    }\n",
       "\n",
       "    .dataframe thead th {\n",
       "        text-align: right;\n",
       "    }\n",
       "</style>\n",
       "<table border=\"1\" class=\"dataframe\">\n",
       "  <thead>\n",
       "    <tr style=\"text-align: right;\">\n",
       "      <th></th>\n",
       "      <th>FLUX</th>\n",
       "      <th>IMPLICIT</th>\n",
       "      <th>LINE</th>\n",
       "    </tr>\n",
       "  </thead>\n",
       "  <tbody>\n",
       "    <tr>\n",
       "      <th>95</th>\n",
       "      <td>4.500</td>\n",
       "      <td>0.750000</td>\n",
       "      <td>1</td>\n",
       "    </tr>\n",
       "    <tr>\n",
       "      <th>96</th>\n",
       "      <td>1.875</td>\n",
       "      <td>1.666667</td>\n",
       "      <td>1</td>\n",
       "    </tr>\n",
       "    <tr>\n",
       "      <th>97</th>\n",
       "      <td>3.000</td>\n",
       "      <td>3.250000</td>\n",
       "      <td>1</td>\n",
       "    </tr>\n",
       "    <tr>\n",
       "      <th>98</th>\n",
       "      <td>1.000</td>\n",
       "      <td>4.916667</td>\n",
       "      <td>1</td>\n",
       "    </tr>\n",
       "    <tr>\n",
       "      <th>99</th>\n",
       "      <td>1.500</td>\n",
       "      <td>5.000000</td>\n",
       "      <td>1</td>\n",
       "    </tr>\n",
       "  </tbody>\n",
       "</table>\n",
       "</div>"
      ],
      "text/plain": [
       "     FLUX  IMPLICIT  LINE\n",
       "95  4.500  0.750000     1\n",
       "96  1.875  1.666667     1\n",
       "97  3.000  3.250000     1\n",
       "98  1.000  4.916667     1\n",
       "99  1.500  5.000000     1"
      ]
     },
     "execution_count": 5,
     "metadata": {},
     "output_type": "execute_result"
    }
   ],
   "source": [
    "FLUX_METRIC_MEAN = SUM_FLUX_METRIC_GRADE.mean(axis=1)\n",
    "IMPLICIT_METRIC_MEAN = IMPLICIT_METRIC_GRADE.mean(axis=1)\n",
    "\n",
    "DF_METRIC = pd.concat([FLUX_METRIC_MEAN, IMPLICIT_METRIC_MEAN], axis=1)\n",
    "DF_METRIC = DF_METRIC.rename(columns={0: \"FLUX\", 1: \"IMPLICIT\"})\n",
    "\n",
    "DF_METRIC[\"LINE\"] = DF_METRIC.index\n",
    "DF_METRIC[\"LINE\"] = DF_METRIC[\"LINE\"].apply(get_line)\n",
    "DF_METRIC.head()"
   ]
  },
  {
   "cell_type": "code",
   "execution_count": 6,
   "metadata": {},
   "outputs": [],
   "source": [
    "def calc_grade(_tup):\n",
    "    flux, impl = _tup\n",
    "    if flux < 2 and impl < 2:\n",
    "        return 5\n",
    "    elif flux < 4 and impl < 4:\n",
    "        return 4\n",
    "    elif flux < 6 and impl < 6:\n",
    "        return 3\n",
    "    elif flux < 8 and impl < 8:\n",
    "        return 2\n",
    "    elif flux <= 10 and impl <= 10:\n",
    "        return 1"
   ]
  },
  {
   "cell_type": "code",
   "execution_count": 7,
   "metadata": {},
   "outputs": [
    {
     "data": {
      "text/html": [
       "<div>\n",
       "<style scoped>\n",
       "    .dataframe tbody tr th:only-of-type {\n",
       "        vertical-align: middle;\n",
       "    }\n",
       "\n",
       "    .dataframe tbody tr th {\n",
       "        vertical-align: top;\n",
       "    }\n",
       "\n",
       "    .dataframe thead th {\n",
       "        text-align: right;\n",
       "    }\n",
       "</style>\n",
       "<table border=\"1\" class=\"dataframe\">\n",
       "  <thead>\n",
       "    <tr style=\"text-align: right;\">\n",
       "      <th></th>\n",
       "      <th>FLUX</th>\n",
       "      <th>IMPLICIT</th>\n",
       "      <th>LINE</th>\n",
       "      <th>GRADE</th>\n",
       "    </tr>\n",
       "  </thead>\n",
       "  <tbody>\n",
       "    <tr>\n",
       "      <th>95</th>\n",
       "      <td>4.500</td>\n",
       "      <td>0.750000</td>\n",
       "      <td>1</td>\n",
       "      <td>3</td>\n",
       "    </tr>\n",
       "    <tr>\n",
       "      <th>96</th>\n",
       "      <td>1.875</td>\n",
       "      <td>1.666667</td>\n",
       "      <td>1</td>\n",
       "      <td>5</td>\n",
       "    </tr>\n",
       "    <tr>\n",
       "      <th>97</th>\n",
       "      <td>3.000</td>\n",
       "      <td>3.250000</td>\n",
       "      <td>1</td>\n",
       "      <td>4</td>\n",
       "    </tr>\n",
       "    <tr>\n",
       "      <th>98</th>\n",
       "      <td>1.000</td>\n",
       "      <td>4.916667</td>\n",
       "      <td>1</td>\n",
       "      <td>3</td>\n",
       "    </tr>\n",
       "    <tr>\n",
       "      <th>99</th>\n",
       "      <td>1.500</td>\n",
       "      <td>5.000000</td>\n",
       "      <td>1</td>\n",
       "      <td>3</td>\n",
       "    </tr>\n",
       "  </tbody>\n",
       "</table>\n",
       "</div>"
      ],
      "text/plain": [
       "     FLUX  IMPLICIT  LINE  GRADE\n",
       "95  4.500  0.750000     1      3\n",
       "96  1.875  1.666667     1      5\n",
       "97  3.000  3.250000     1      4\n",
       "98  1.000  4.916667     1      3\n",
       "99  1.500  5.000000     1      3"
      ]
     },
     "execution_count": 7,
     "metadata": {},
     "output_type": "execute_result"
    }
   ],
   "source": [
    "# Calculate GRADE\n",
    "DF_METRIC[\"GRADE\"] = (\n",
    "    DF_METRIC[\"FLUX\"].apply(str) + \",\" + DF_METRIC[\"IMPLICIT\"].apply(str)\n",
    ")\n",
    "DF_METRIC[\"GRADE\"] = DF_METRIC[\"GRADE\"].apply(\n",
    "    lambda _X: tuple(map(float, _X.split(\",\")))\n",
    ")\n",
    "DF_METRIC[\"GRADE\"] = DF_METRIC[\"GRADE\"].apply(calc_grade)\n",
    "\n",
    "DF_METRIC.to_json(\"../database/METRIC_INTEGRATED.json\")\n",
    "DF_METRIC.head()"
   ]
  }
 ],
 "metadata": {
  "kernelspec": {
   "display_name": "py39",
   "language": "python",
   "name": "python3"
  },
  "language_info": {
   "codemirror_mode": {
    "name": "ipython",
    "version": 3
   },
   "file_extension": ".py",
   "mimetype": "text/x-python",
   "name": "python",
   "nbconvert_exporter": "python",
   "pygments_lexer": "ipython3",
   "version": "3.9.19"
  }
 },
 "nbformat": 4,
 "nbformat_minor": 2
}
