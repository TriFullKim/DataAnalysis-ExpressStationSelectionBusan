{
 "cells": [
  {
   "cell_type": "code",
   "execution_count": 1,
   "metadata": {},
   "outputs": [],
   "source": [
    "import pandas as pd\n",
    "from util import *"
   ]
  },
  {
   "cell_type": "code",
   "execution_count": 2,
   "metadata": {},
   "outputs": [
    {
     "data": {
      "text/plain": [
       "(dict, 212)"
      ]
     },
     "execution_count": 2,
     "metadata": {},
     "output_type": "execute_result"
    }
   ],
   "source": [
    "stationNameCode = loadPickle(\"../trimmed_data/stationNameCode.pickel\")\n",
    "( type(stationNameCode), stationNameCode[\"경성대.부경대\"] )"
   ]
  },
  {
   "cell_type": "code",
   "execution_count": 3,
   "metadata": {},
   "outputs": [
    {
     "data": {
      "text/html": [
       "<div>\n",
       "<style scoped>\n",
       "    .dataframe tbody tr th:only-of-type {\n",
       "        vertical-align: middle;\n",
       "    }\n",
       "\n",
       "    .dataframe tbody tr th {\n",
       "        vertical-align: top;\n",
       "    }\n",
       "\n",
       "    .dataframe thead th {\n",
       "        text-align: right;\n",
       "    }\n",
       "</style>\n",
       "<table border=\"1\" class=\"dataframe\">\n",
       "  <thead>\n",
       "    <tr style=\"text-align: right;\">\n",
       "      <th></th>\n",
       "      <th>LineCode</th>\n",
       "      <th>StationName</th>\n",
       "      <th>HJDONG_NAME</th>\n",
       "      <th>HJDONG_AREA</th>\n",
       "      <th>NEAR_STATION_AREA</th>\n",
       "    </tr>\n",
       "  </thead>\n",
       "  <tbody>\n",
       "    <tr>\n",
       "      <th>0</th>\n",
       "      <td>1</td>\n",
       "      <td>동매</td>\n",
       "      <td>부산광역시 사하구 괴정1동</td>\n",
       "      <td>1138082.148</td>\n",
       "      <td>36465.620</td>\n",
       "    </tr>\n",
       "    <tr>\n",
       "      <th>1</th>\n",
       "      <td>1</td>\n",
       "      <td>동매</td>\n",
       "      <td>부산광역시 사하구 괴정4동</td>\n",
       "      <td>866771.804</td>\n",
       "      <td>158372.769</td>\n",
       "    </tr>\n",
       "    <tr>\n",
       "      <th>2</th>\n",
       "      <td>1</td>\n",
       "      <td>동매</td>\n",
       "      <td>부산광역시 사하구 당리동</td>\n",
       "      <td>3927869.185</td>\n",
       "      <td>96049.312</td>\n",
       "    </tr>\n",
       "    <tr>\n",
       "      <th>3</th>\n",
       "      <td>1</td>\n",
       "      <td>동매</td>\n",
       "      <td>부산광역시 사하구 하단1동</td>\n",
       "      <td>8258339.734</td>\n",
       "      <td>4562.966</td>\n",
       "    </tr>\n",
       "    <tr>\n",
       "      <th>4</th>\n",
       "      <td>1</td>\n",
       "      <td>동매</td>\n",
       "      <td>부산광역시 사하구 신평1동</td>\n",
       "      <td>1765292.312</td>\n",
       "      <td>1765292.312</td>\n",
       "    </tr>\n",
       "  </tbody>\n",
       "</table>\n",
       "</div>"
      ],
      "text/plain": [
       "   LineCode StationName     HJDONG_NAME  HJDONG_AREA  NEAR_STATION_AREA\n",
       "0         1          동매  부산광역시 사하구 괴정1동  1138082.148          36465.620\n",
       "1         1          동매  부산광역시 사하구 괴정4동   866771.804         158372.769\n",
       "2         1          동매   부산광역시 사하구 당리동  3927869.185          96049.312\n",
       "3         1          동매  부산광역시 사하구 하단1동  8258339.734           4562.966\n",
       "4         1          동매  부산광역시 사하구 신평1동  1765292.312        1765292.312"
      ]
     },
     "execution_count": 3,
     "metadata": {},
     "output_type": "execute_result"
    }
   ],
   "source": [
    "HJDONG_AREA_GIS = pd.read_csv(\"../trimmed_data/HJDONG_AREA_GIS.csv\")\n",
    "HJDONG_AREA_GIS.head()"
   ]
  },
  {
   "cell_type": "code",
   "execution_count": 4,
   "metadata": {},
   "outputs": [
    {
     "data": {
      "text/html": [
       "<div>\n",
       "<style scoped>\n",
       "    .dataframe tbody tr th:only-of-type {\n",
       "        vertical-align: middle;\n",
       "    }\n",
       "\n",
       "    .dataframe tbody tr th {\n",
       "        vertical-align: top;\n",
       "    }\n",
       "\n",
       "    .dataframe thead th {\n",
       "        text-align: right;\n",
       "    }\n",
       "</style>\n",
       "<table border=\"1\" class=\"dataframe\">\n",
       "  <thead>\n",
       "    <tr style=\"text-align: right;\">\n",
       "      <th></th>\n",
       "      <th>HJDONG</th>\n",
       "      <th>직장인구</th>\n",
       "      <th>주거인구</th>\n",
       "      <th>유동인구</th>\n",
       "    </tr>\n",
       "  </thead>\n",
       "  <tbody>\n",
       "    <tr>\n",
       "      <th>0</th>\n",
       "      <td>대저1동</td>\n",
       "      <td>13999.0</td>\n",
       "      <td>5912.0</td>\n",
       "      <td>142306.0</td>\n",
       "    </tr>\n",
       "    <tr>\n",
       "      <th>1</th>\n",
       "      <td>대저2동</td>\n",
       "      <td>22963.0</td>\n",
       "      <td>6615.0</td>\n",
       "      <td>138681.0</td>\n",
       "    </tr>\n",
       "    <tr>\n",
       "      <th>2</th>\n",
       "      <td>강동동</td>\n",
       "      <td>3346.0</td>\n",
       "      <td>3892.0</td>\n",
       "      <td>60696.0</td>\n",
       "    </tr>\n",
       "    <tr>\n",
       "      <th>3</th>\n",
       "      <td>명지1동</td>\n",
       "      <td>14891.0</td>\n",
       "      <td>54365.0</td>\n",
       "      <td>159545.0</td>\n",
       "    </tr>\n",
       "    <tr>\n",
       "      <th>4</th>\n",
       "      <td>명지2동</td>\n",
       "      <td>7542.0</td>\n",
       "      <td>30168.0</td>\n",
       "      <td>236941.0</td>\n",
       "    </tr>\n",
       "  </tbody>\n",
       "</table>\n",
       "</div>"
      ],
      "text/plain": [
       "  HJDONG     직장인구     주거인구      유동인구\n",
       "0   대저1동  13999.0   5912.0  142306.0\n",
       "1   대저2동  22963.0   6615.0  138681.0\n",
       "2    강동동   3346.0   3892.0   60696.0\n",
       "3   명지1동  14891.0  54365.0  159545.0\n",
       "4   명지2동   7542.0  30168.0  236941.0"
      ]
     },
     "execution_count": 4,
     "metadata": {},
     "output_type": "execute_result"
    }
   ],
   "source": [
    "FLUX_METRIC = pd.read_csv(\"../trimmed_data/FLUX_METRIC.csv\")\n",
    "FLUX_METRIC.head()"
   ]
  }
 ],
 "metadata": {
  "kernelspec": {
   "display_name": "py39",
   "language": "python",
   "name": "python3"
  },
  "language_info": {
   "codemirror_mode": {
    "name": "ipython",
    "version": 3
   },
   "file_extension": ".py",
   "mimetype": "text/x-python",
   "name": "python",
   "nbconvert_exporter": "python",
   "pygments_lexer": "ipython3",
   "version": "3.9.19"
  }
 },
 "nbformat": 4,
 "nbformat_minor": 2
}
