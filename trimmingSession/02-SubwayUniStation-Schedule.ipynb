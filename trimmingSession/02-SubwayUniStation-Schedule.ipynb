{
 "cells": [
  {
   "cell_type": "code",
   "execution_count": 1,
   "metadata": {},
   "outputs": [],
   "source": [
    "import numpy as np\n",
    "import pandas as pd"
   ]
  },
  {
   "cell_type": "code",
   "execution_count": 2,
   "metadata": {},
   "outputs": [],
   "source": [
    "LoadPath_SubwayStation_Schedule = \"../raw_data/selected/부산교통공사_부산도시철도 운행 정보_20230710.csv\"\n",
    "SavePath= \"../trimmed_data\"\n",
    "TARGET_COLUMNS = [\"요일구분\",\"열차번호\" ,\"운행구간정거장\",\"정거장도착시각\",\"정거장출발시각\"]\n",
    "TARGET_COLUMNS_ENG = [\"DayType\",\"TrainCode\",\"StationList\", \"ArriveSchedule\",\"DepartSchedule\"]\n",
    "# \"운행구간기점명\", \"운행구간종점명\",\n",
    "# \"StartStationName\", \"EndStationName\","
   ]
  },
  {
   "cell_type": "markdown",
   "metadata": {},
   "source": [
    "# `SubwayUniStation-Schedule.ipynb`\n",
    "> `배차간역` : 한 역에서 어떤 열차가 지나가고 다음 열차가 올 때까지의 시간\n",
    "- 한 역에서의 `배차간격` 데이터"
   ]
  },
  {
   "cell_type": "markdown",
   "metadata": {},
   "source": [
    "## 1. 데이터 불러오기"
   ]
  },
  {
   "cell_type": "code",
   "execution_count": 3,
   "metadata": {},
   "outputs": [
    {
     "data": {
      "text/html": [
       "<div>\n",
       "<style scoped>\n",
       "    .dataframe tbody tr th:only-of-type {\n",
       "        vertical-align: middle;\n",
       "    }\n",
       "\n",
       "    .dataframe tbody tr th {\n",
       "        vertical-align: top;\n",
       "    }\n",
       "\n",
       "    .dataframe thead th {\n",
       "        text-align: right;\n",
       "    }\n",
       "</style>\n",
       "<table border=\"1\" class=\"dataframe\">\n",
       "  <thead>\n",
       "    <tr style=\"text-align: right;\">\n",
       "      <th></th>\n",
       "      <th>열차번호</th>\n",
       "      <th>노선번호</th>\n",
       "      <th>노선명</th>\n",
       "      <th>운행구간기점명</th>\n",
       "      <th>운행구간종점명</th>\n",
       "      <th>운행유형</th>\n",
       "      <th>요일구분</th>\n",
       "      <th>운행구간정거장</th>\n",
       "      <th>정거장도착시각</th>\n",
       "      <th>정거장출발시각</th>\n",
       "      <th>운행속도</th>\n",
       "      <th>운영기관전화번호</th>\n",
       "      <th>데이터기준일자</th>\n",
       "    </tr>\n",
       "  </thead>\n",
       "  <tbody>\n",
       "    <tr>\n",
       "      <th>0</th>\n",
       "      <td>1001</td>\n",
       "      <td>S2601</td>\n",
       "      <td>부산 도시철도 1호선</td>\n",
       "      <td>노포</td>\n",
       "      <td>다대포해수욕장</td>\n",
       "      <td>일반</td>\n",
       "      <td>평일</td>\n",
       "      <td>001-노포+002-범어사+003-남산+004-두실+005-구서+006-장전+007...</td>\n",
       "      <td>001-05:08+002-05:09+003-05:11+004-05:13+005-05...</td>\n",
       "      <td>001-05:08+002-05:10+003-05:12+004-05:13+005-05...</td>\n",
       "      <td>39.6km/h</td>\n",
       "      <td>1544-5005</td>\n",
       "      <td>2023-07-11</td>\n",
       "    </tr>\n",
       "    <tr>\n",
       "      <th>1</th>\n",
       "      <td>1003</td>\n",
       "      <td>S2601</td>\n",
       "      <td>부산 도시철도 1호선</td>\n",
       "      <td>노포</td>\n",
       "      <td>다대포해수욕장</td>\n",
       "      <td>일반</td>\n",
       "      <td>평일</td>\n",
       "      <td>001-노포+002-범어사+003-남산+004-두실+005-구서+006-장전+007...</td>\n",
       "      <td>001-05:18+002-05:20+003-05:22+004-05:23+005-05...</td>\n",
       "      <td>001-05:18+002-05:20+003-05:22+004-05:24+005-05...</td>\n",
       "      <td>39.6km/h</td>\n",
       "      <td>1544-5005</td>\n",
       "      <td>2023-07-11</td>\n",
       "    </tr>\n",
       "    <tr>\n",
       "      <th>2</th>\n",
       "      <td>1005</td>\n",
       "      <td>S2601</td>\n",
       "      <td>부산 도시철도 1호선</td>\n",
       "      <td>노포</td>\n",
       "      <td>다대포해수욕장</td>\n",
       "      <td>일반</td>\n",
       "      <td>평일</td>\n",
       "      <td>001-노포+002-범어사+003-남산+004-두실+005-구서+006-장전+007...</td>\n",
       "      <td>001-05:29+002-05:31+003-05:33+004-05:34+005-05...</td>\n",
       "      <td>001-05:29+002-05:31+003-05:33+004-05:35+005-05...</td>\n",
       "      <td>39.6km/h</td>\n",
       "      <td>1544-5005</td>\n",
       "      <td>2023-07-11</td>\n",
       "    </tr>\n",
       "  </tbody>\n",
       "</table>\n",
       "</div>"
      ],
      "text/plain": [
       "   열차번호   노선번호          노선명 운행구간기점명  운행구간종점명 운행유형 요일구분  \\\n",
       "0  1001  S2601  부산 도시철도 1호선      노포  다대포해수욕장   일반   평일   \n",
       "1  1003  S2601  부산 도시철도 1호선      노포  다대포해수욕장   일반   평일   \n",
       "2  1005  S2601  부산 도시철도 1호선      노포  다대포해수욕장   일반   평일   \n",
       "\n",
       "                                             운행구간정거장  \\\n",
       "0  001-노포+002-범어사+003-남산+004-두실+005-구서+006-장전+007...   \n",
       "1  001-노포+002-범어사+003-남산+004-두실+005-구서+006-장전+007...   \n",
       "2  001-노포+002-범어사+003-남산+004-두실+005-구서+006-장전+007...   \n",
       "\n",
       "                                             정거장도착시각  \\\n",
       "0  001-05:08+002-05:09+003-05:11+004-05:13+005-05...   \n",
       "1  001-05:18+002-05:20+003-05:22+004-05:23+005-05...   \n",
       "2  001-05:29+002-05:31+003-05:33+004-05:34+005-05...   \n",
       "\n",
       "                                             정거장출발시각      운행속도   운영기관전화번호  \\\n",
       "0  001-05:08+002-05:10+003-05:12+004-05:13+005-05...  39.6km/h  1544-5005   \n",
       "1  001-05:18+002-05:20+003-05:22+004-05:24+005-05...  39.6km/h  1544-5005   \n",
       "2  001-05:29+002-05:31+003-05:33+004-05:35+005-05...  39.6km/h  1544-5005   \n",
       "\n",
       "      데이터기준일자  \n",
       "0  2023-07-11  \n",
       "1  2023-07-11  \n",
       "2  2023-07-11  "
      ]
     },
     "execution_count": 3,
     "metadata": {},
     "output_type": "execute_result"
    }
   ],
   "source": [
    "# RawData\n",
    "db = pd.read_csv(LoadPath_SubwayStation_Schedule,encoding=\"EUC-KR\")\n",
    "db.head(3)"
   ]
  },
  {
   "cell_type": "markdown",
   "metadata": {},
   "source": [
    "## 2. 데이터 처리 및 임베딩"
   ]
  },
  {
   "cell_type": "markdown",
   "metadata": {},
   "source": [
    "### 2.1 방향 임베딩"
   ]
  },
  {
   "cell_type": "code",
   "execution_count": 4,
   "metadata": {},
   "outputs": [
    {
     "name": "stdout",
     "output_type": "stream",
     "text": [
      "EMBEDING TARGET :\n",
      "['다대포해수욕장노포', '노포다대포해수욕장', '신평노포', '노포신평', '장산호포', '호포장산', '장산양산', '양산장산', '전포양산', '양산전포', '수영대저', '대저수영', '미남안평', '안평미남', '신평다대포해수욕장', '호포양산', '광안양산', '구명장산', '장산광안']\n",
      "{0, 1, 2, 3, 4, 5, 6, 7, 8, 9, 10, 11, 12, 13, 14, 15, 16, 17, 18}\n"
     ]
    }
   ],
   "source": [
    "# 노선의 방향을 Embedding\n",
    "directionVector = db[\"운행구간기점명\"] + db[\"운행구간종점명\"]\n",
    "directionVector_eigen = list(set((directionVector).to_list()))\n",
    "directionVector_eigen = [\n",
    "    \"다대포해수욕장노포\",\"노포다대포해수욕장\",\n",
    "    \"신평노포\",\"노포신평\",\n",
    "    \"장산호포\",\"호포장산\",\n",
    "    \"장산양산\",\"양산장산\",\n",
    "    \"전포양산\",\"양산전포\",\n",
    "    \"수영대저\",\"대저수영\",\n",
    "    \"미남안평\",\"안평미남\",\n",
    "    \"신평다대포해수욕장\",\n",
    "    \"호포양산\",\n",
    "    \"광안양산\",\n",
    "    \"구명장산\",\n",
    "    \"장산광안\",\n",
    "]\n",
    "\n",
    "# Check Embedding\n",
    "directionVector_index = [ directionVector_eigen.index(direct) for direct in directionVector ]\n",
    "print(f\"EMBEDING TARGET :\\n{directionVector_eigen}\\n{set(directionVector_index)}\")"
   ]
  },
  {
   "cell_type": "code",
   "execution_count": 5,
   "metadata": {},
   "outputs": [
    {
     "data": {
      "text/html": [
       "<div>\n",
       "<style scoped>\n",
       "    .dataframe tbody tr th:only-of-type {\n",
       "        vertical-align: middle;\n",
       "    }\n",
       "\n",
       "    .dataframe tbody tr th {\n",
       "        vertical-align: top;\n",
       "    }\n",
       "\n",
       "    .dataframe thead th {\n",
       "        text-align: right;\n",
       "    }\n",
       "</style>\n",
       "<table border=\"1\" class=\"dataframe\">\n",
       "  <thead>\n",
       "    <tr style=\"text-align: right;\">\n",
       "      <th></th>\n",
       "      <th>DayType</th>\n",
       "      <th>TrainCode</th>\n",
       "      <th>DirectionVector</th>\n",
       "      <th>StationList</th>\n",
       "      <th>ArriveSchedule</th>\n",
       "      <th>DepartSchedule</th>\n",
       "    </tr>\n",
       "  </thead>\n",
       "  <tbody>\n",
       "    <tr>\n",
       "      <th>0</th>\n",
       "      <td>평일</td>\n",
       "      <td>1001</td>\n",
       "      <td>1</td>\n",
       "      <td>001-노포+002-범어사+003-남산+004-두실+005-구서+006-장전+007...</td>\n",
       "      <td>001-05:08+002-05:09+003-05:11+004-05:13+005-05...</td>\n",
       "      <td>001-05:08+002-05:10+003-05:12+004-05:13+005-05...</td>\n",
       "    </tr>\n",
       "    <tr>\n",
       "      <th>1</th>\n",
       "      <td>평일</td>\n",
       "      <td>1003</td>\n",
       "      <td>1</td>\n",
       "      <td>001-노포+002-범어사+003-남산+004-두실+005-구서+006-장전+007...</td>\n",
       "      <td>001-05:18+002-05:20+003-05:22+004-05:23+005-05...</td>\n",
       "      <td>001-05:18+002-05:20+003-05:22+004-05:24+005-05...</td>\n",
       "    </tr>\n",
       "    <tr>\n",
       "      <th>2</th>\n",
       "      <td>평일</td>\n",
       "      <td>1005</td>\n",
       "      <td>1</td>\n",
       "      <td>001-노포+002-범어사+003-남산+004-두실+005-구서+006-장전+007...</td>\n",
       "      <td>001-05:29+002-05:31+003-05:33+004-05:34+005-05...</td>\n",
       "      <td>001-05:29+002-05:31+003-05:33+004-05:35+005-05...</td>\n",
       "    </tr>\n",
       "  </tbody>\n",
       "</table>\n",
       "</div>"
      ],
      "text/plain": [
       "  DayType  TrainCode  DirectionVector  \\\n",
       "0      평일       1001                1   \n",
       "1      평일       1003                1   \n",
       "2      평일       1005                1   \n",
       "\n",
       "                                         StationList  \\\n",
       "0  001-노포+002-범어사+003-남산+004-두실+005-구서+006-장전+007...   \n",
       "1  001-노포+002-범어사+003-남산+004-두실+005-구서+006-장전+007...   \n",
       "2  001-노포+002-범어사+003-남산+004-두실+005-구서+006-장전+007...   \n",
       "\n",
       "                                      ArriveSchedule  \\\n",
       "0  001-05:08+002-05:09+003-05:11+004-05:13+005-05...   \n",
       "1  001-05:18+002-05:20+003-05:22+004-05:23+005-05...   \n",
       "2  001-05:29+002-05:31+003-05:33+004-05:34+005-05...   \n",
       "\n",
       "                                      DepartSchedule  \n",
       "0  001-05:08+002-05:10+003-05:12+004-05:13+005-05...  \n",
       "1  001-05:18+002-05:20+003-05:22+004-05:24+005-05...  \n",
       "2  001-05:29+002-05:31+003-05:33+004-05:35+005-05...  "
      ]
     },
     "execution_count": 5,
     "metadata": {},
     "output_type": "execute_result"
    }
   ],
   "source": [
    "STATION_SCHEDULE = db.loc[:, TARGET_COLUMNS]\n",
    "STATION_SCHEDULE = STATION_SCHEDULE.rename(\n",
    "    columns={idx: new_name for idx, new_name in zip(TARGET_COLUMNS, TARGET_COLUMNS_ENG)}\n",
    ")\n",
    "\n",
    "# Insert Direction Vector\n",
    "STATION_SCHEDULE.insert(loc=2,column=\"DirectionVector\",value=pd.Series(directionVector_index))\n",
    "\n",
    "# Save\n",
    "with open(f\"{SavePath}/SubwayStation-Schedule.csv\",mode=\"w\",encoding=\"UTF-8\") as f:\n",
    "    f.write(STATION_SCHEDULE.to_csv(index=False))\n",
    "STATION_SCHEDULE.head(3)"
   ]
  },
  {
   "cell_type": "markdown",
   "metadata": {},
   "source": [
    "### 2.2 시간 데이터 처리 및 역명 처리"
   ]
  },
  {
   "cell_type": "code",
   "execution_count": 6,
   "metadata": {},
   "outputs": [
    {
     "data": {
      "text/html": [
       "<div>\n",
       "<style scoped>\n",
       "    .dataframe tbody tr th:only-of-type {\n",
       "        vertical-align: middle;\n",
       "    }\n",
       "\n",
       "    .dataframe tbody tr th {\n",
       "        vertical-align: top;\n",
       "    }\n",
       "\n",
       "    .dataframe thead th {\n",
       "        text-align: right;\n",
       "    }\n",
       "</style>\n",
       "<table border=\"1\" class=\"dataframe\">\n",
       "  <thead>\n",
       "    <tr style=\"text-align: right;\">\n",
       "      <th></th>\n",
       "      <th>DayType</th>\n",
       "      <th>TrainCode</th>\n",
       "      <th>LineNumber</th>\n",
       "      <th>DirectionVector</th>\n",
       "      <th>StationList</th>\n",
       "      <th>ArriveSchedule</th>\n",
       "      <th>DepartSchedule</th>\n",
       "    </tr>\n",
       "  </thead>\n",
       "  <tbody>\n",
       "    <tr>\n",
       "      <th>0</th>\n",
       "      <td>평일</td>\n",
       "      <td>1001</td>\n",
       "      <td>1</td>\n",
       "      <td>1</td>\n",
       "      <td>[노포, 범어사, 남산, 두실, 구서, 장전, 부산대, 온천장, 명륜, 동래, 교대...</td>\n",
       "      <td>[308, 309, 311, 313, 315, 317, 319, 321, 323, ...</td>\n",
       "      <td>[308, 310, 312, 313, 315, 317, 319, 321, 323, ...</td>\n",
       "    </tr>\n",
       "    <tr>\n",
       "      <th>1</th>\n",
       "      <td>평일</td>\n",
       "      <td>1003</td>\n",
       "      <td>1</td>\n",
       "      <td>1</td>\n",
       "      <td>[노포, 범어사, 남산, 두실, 구서, 장전, 부산대, 온천장, 명륜, 동래, 교대...</td>\n",
       "      <td>[318, 320, 322, 323, 325, 327, 329, 331, 333, ...</td>\n",
       "      <td>[318, 320, 322, 324, 326, 328, 329, 331, 333, ...</td>\n",
       "    </tr>\n",
       "    <tr>\n",
       "      <th>2</th>\n",
       "      <td>평일</td>\n",
       "      <td>1005</td>\n",
       "      <td>1</td>\n",
       "      <td>1</td>\n",
       "      <td>[노포, 범어사, 남산, 두실, 구서, 장전, 부산대, 온천장, 명륜, 동래, 교대...</td>\n",
       "      <td>[329, 331, 333, 334, 336, 338, 340, 342, 344, ...</td>\n",
       "      <td>[329, 331, 333, 335, 337, 339, 340, 342, 344, ...</td>\n",
       "    </tr>\n",
       "  </tbody>\n",
       "</table>\n",
       "</div>"
      ],
      "text/plain": [
       "  DayType  TrainCode LineNumber  DirectionVector  \\\n",
       "0      평일       1001          1                1   \n",
       "1      평일       1003          1                1   \n",
       "2      평일       1005          1                1   \n",
       "\n",
       "                                         StationList  \\\n",
       "0  [노포, 범어사, 남산, 두실, 구서, 장전, 부산대, 온천장, 명륜, 동래, 교대...   \n",
       "1  [노포, 범어사, 남산, 두실, 구서, 장전, 부산대, 온천장, 명륜, 동래, 교대...   \n",
       "2  [노포, 범어사, 남산, 두실, 구서, 장전, 부산대, 온천장, 명륜, 동래, 교대...   \n",
       "\n",
       "                                      ArriveSchedule  \\\n",
       "0  [308, 309, 311, 313, 315, 317, 319, 321, 323, ...   \n",
       "1  [318, 320, 322, 323, 325, 327, 329, 331, 333, ...   \n",
       "2  [329, 331, 333, 334, 336, 338, 340, 342, 344, ...   \n",
       "\n",
       "                                      DepartSchedule  \n",
       "0  [308, 310, 312, 313, 315, 317, 319, 321, 323, ...  \n",
       "1  [318, 320, 322, 324, 326, 328, 329, 331, 333, ...  \n",
       "2  [329, 331, 333, 335, 337, 339, 340, 342, 344, ...  "
      ]
     },
     "execution_count": 6,
     "metadata": {},
     "output_type": "execute_result"
    }
   ],
   "source": [
    "# 도착시간을 minute으로 mapping 하기위한 함수 정의\n",
    "def hhmm_to_minute(hhmm: str):\n",
    "    \"\"\"\n",
    "    hhmm_to_minute String Time Format(hh:mm) to Int Minute Time Format for Calculate Difference\n",
    "\n",
    "    Args:\n",
    "        hhmm (string): hh:mm format Time String\n",
    "\n",
    "    Returns:\n",
    "        int: Minute Time\n",
    "    \"\"\"\n",
    "    HM = hhmm.split(\":\")\n",
    "    if \"\" in HM:\n",
    "        return np.NaN\n",
    "    H, M = int(HM[0]), int(HM[1])\n",
    "    minutes = H * 60 + M if H != 0 else 24 * 60 + M\n",
    "    return minutes\n",
    "\n",
    "# trimming 1\n",
    "trim_target = TARGET_COLUMNS_ENG[2:5]\n",
    "trimmed_data = [\n",
    "    STATION_SCHEDULE[trim_target].loc[:, trim_target[0]]\n",
    "    .apply(lambda _x: _x.split(\"+\"))\n",
    "    .apply(lambda _x: [e.split(\"-\")[-1] for e in _x]),\n",
    "    STATION_SCHEDULE[trim_target].loc[:, trim_target[1]]\n",
    "    .apply(lambda _x: _x.split(\"+\"))\n",
    "    .apply(lambda _x: [e.split(\"-\")[-1] for e in _x])\n",
    "    .apply(lambda _x: [hhmm_to_minute(e) for e in _x]),\n",
    "    STATION_SCHEDULE[trim_target].loc[:, trim_target[2]]\n",
    "    .apply(lambda _x: _x.split(\"+\"))\n",
    "    .apply(lambda _x: [e.split(\"-\")[-1] for e in _x])\n",
    "    .apply(lambda _x: [hhmm_to_minute(e) for e in _x]),\n",
    "]\n",
    "\n",
    "# Update to trimmed data\n",
    "for target_feature, data in zip(trim_target,trimmed_data):\n",
    "    STATION_SCHEDULE[target_feature] = data\n",
    "\n",
    "# trimming 2 - 노선:INT 추가\n",
    "STATION_SCHEDULE.insert(loc=2,column=\"LineNumber\",value=db[\"노선명\"].apply(lambda _x: _x.split(\" \")[-1].replace(\"호선\",\"\")))\n",
    "\n",
    "#Check\n",
    "STATION_SCHEDULE.head(3)"
   ]
  },
  {
   "cell_type": "markdown",
   "metadata": {},
   "source": [
    "## 3 요일 별로 데이터 분리하기 "
   ]
  },
  {
   "cell_type": "code",
   "execution_count": 7,
   "metadata": {},
   "outputs": [
    {
     "name": "stdout",
     "output_type": "stream",
     "text": [
      "['토요일', '평일', '일요일', '공휴일']\n"
     ]
    }
   ],
   "source": [
    "# 요일 Embedding\n",
    "dayType_eigen = list(set((db[\"요일구분\"]).to_list()))\n",
    "print(dayType_eigen)\n",
    "\n",
    "# 요일별로 저장\n",
    "for day in dayType_eigen:\n",
    "    with open(f\"{SavePath}/SubwayStation-Schedule-{day}.json\",mode=\"w\",encoding=\"UTF-8\") as f:\n",
    "        f.write(STATION_SCHEDULE[db[\"요일구분\"] == day].iloc[:,1:].to_json(index=False))"
   ]
  }
 ],
 "metadata": {
  "kernelspec": {
   "display_name": "py39",
   "language": "python",
   "name": "python3"
  },
  "language_info": {
   "codemirror_mode": {
    "name": "ipython",
    "version": 3
   },
   "file_extension": ".py",
   "mimetype": "text/x-python",
   "name": "python",
   "nbconvert_exporter": "python",
   "pygments_lexer": "ipython3",
   "version": "3.9.19"
  }
 },
 "nbformat": 4,
 "nbformat_minor": 2
}
