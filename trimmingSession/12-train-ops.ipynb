{
 "cells": [
  {
   "cell_type": "code",
   "execution_count": 140,
   "metadata": {},
   "outputs": [],
   "source": [
    "import matplotlib.pyplot as plt\n",
    "import numpy as np\n",
    "import pandas as pd\n",
    "import util\n",
    "from stationUtil import *\n",
    "from graph import *"
   ]
  },
  {
   "cell_type": "code",
   "execution_count": 141,
   "metadata": {},
   "outputs": [
    {
     "name": "stdout",
     "output_type": "stream",
     "text": [
      "len(subway_graph) == len(interval_time) :  True\n",
      "(119, 219, True) (123, 305, True) (125, 402, True) (208, 301, True) (219, 119, True) (233, 313, True) (301, 208, True) (305, 123, True) (309, 401, True) (313, 233, True) (401, 309, True) (402, 125, True)\n"
     ]
    },
    {
     "data": {
      "text/plain": [
       "{'stoppingTime': 20, 'time': 180, 'dist': 14}"
      ]
     },
     "execution_count": 141,
     "metadata": {},
     "output_type": "execute_result"
    }
   ],
   "source": [
    "# LOAD WEIGHTED GRAPH\n",
    "df = util.loadPickle(util.PATH_INTER_STATION_SPEND_TIME)\n",
    "subway_graph_index, subway_graph = fn_export_subway_graph(df)\n",
    "exchange_relation_index = fn_export_exchange_station_index(idx=subway_graph_index)\n",
    "\n",
    "print(*exchange_relation_index)\n",
    "subway_graph[(95, 96, False)]"
   ]
  },
  {
   "cell_type": "code",
   "execution_count": 142,
   "metadata": {},
   "outputs": [
    {
     "data": {
      "text/plain": [
       "(21600, 89940)"
      ]
     },
     "execution_count": 142,
     "metadata": {},
     "output_type": "execute_result"
    }
   ],
   "source": [
    "# Train Operation Start Time\n",
    "HOUR_TO_SEC = 3600\n",
    "MIN_TO_SEC = 60\n",
    "\n",
    "# UNIT is SECEOND\n",
    "SCHEDULE_START = 6 * HOUR_TO_SEC + 0 * MIN_TO_SEC\n",
    "SCHEDULE_END = 24 * HOUR_TO_SEC + 59 * MIN_TO_SEC\n",
    "(SCHEDULE_START,SCHEDULE_END)"
   ]
  },
  {
   "cell_type": "code",
   "execution_count": 143,
   "metadata": {},
   "outputs": [
    {
     "data": {
      "text/plain": [
       "array([356, 364, 393, 405], dtype=int32)"
      ]
     },
     "execution_count": 143,
     "metadata": {},
     "output_type": "execute_result"
    }
   ],
   "source": [
    "# From 04.ipynb\n",
    "AVERAGE_TRAIN_INTERVAL = np.array([355.9588973127273, 363.9968771614468, 392.5459131354582, 404.6896758014144]).round().astype(np.int32)\n",
    "AVERAGE_TRAIN_INTERVAL"
   ]
  },
  {
   "cell_type": "code",
   "execution_count": 147,
   "metadata": {},
   "outputs": [],
   "source": [
    "def line_time_table(graph, line_num: int, EXCLUDE_STATION=[]):\n",
    "    line_scode_list = line_num_to_range(line_num)\n",
    "    IS_TRANSFER = False\n",
    "    IS_END_OF_STATION = [95, 134, 201, 243, 301, 317, 401, 414]\n",
    "\n",
    "    schedule = []\n",
    "    for idx, scode in enumerate(line_scode_list):\n",
    "        if idx == len(line_scode_list) - 1:\n",
    "            continue\n",
    "        if scode in IS_END_OF_STATION:\n",
    "            continue\n",
    "        move_t = graph[(scode, scode + 1, IS_TRANSFER)][\"time\"]\n",
    "        stop_t = graph[(scode, scode + 1, IS_TRANSFER)][\"stoppingTime\"]\n",
    "        d = graph[(scode, scode + 1, IS_TRANSFER)][\"dist\"]\n",
    "        if schedule == []:\n",
    "            schedule.append((0 + move_t, 0 + d))\n",
    "            schedule.append((schedule[-1][0] + stop_t, schedule[-1][1]))\n",
    "            continue\n",
    "        if scode in EXCLUDE_STATION:\n",
    "            schedule.append((schedule[-1][0] + move_t, schedule[-1][1] + d))\n",
    "            continue\n",
    "        schedule.append((schedule[-1][0] + move_t, schedule[-1][1] + d))\n",
    "        schedule.append((schedule[-1][0] + stop_t, schedule[-1][1]))\n",
    "\n",
    "    return schedule"
   ]
  },
  {
   "cell_type": "code",
   "execution_count": null,
   "metadata": {},
   "outputs": [],
   "source": [
    "EXC = [\n",
    "    109,\n",
    "    113,\n",
    "    117,\n",
    "    121,\n",
    "    122,\n",
    "    132,\n",
    "    100,\n",
    "    102,\n",
    "    108,\n",
    "    114,\n",
    "    116,\n",
    "    120,\n",
    "    133,\n",
    "    97,\n",
    "    98,\n",
    "    99,\n",
    "    101,\n",
    "    103,\n",
    "    104,\n",
    "    105,\n",
    "    106,\n",
    "    107,\n",
    "    115,\n",
    "    123,\n",
    "    124,\n",
    "    125,\n",
    "    127,\n",
    "    128,\n",
    "    129,\n",
    "    96,\n",
    "    126,\n",
    "    130,\n",
    "    131,\n",
    "]"
   ]
  },
  {
   "cell_type": "code",
   "execution_count": null,
   "metadata": {},
   "outputs": [],
   "source": [
    "LINE = get_line(EXC[0])\n",
    "points = line_time_table(subway_graph, LINE)\n",
    "points_express = line_time_table(subway_graph, LINE, EXCLUDE_STATION=EXC)"
   ]
  },
  {
   "cell_type": "code",
   "execution_count": 148,
   "metadata": {},
   "outputs": [
    {
     "data": {
      "image/png": "[encoded data removed]",
      "text/plain": [
       "<Figure size 640x480 with 1 Axes>"
      ]
     },
     "metadata": {},
     "output_type": "display_data"
    }
   ],
   "source": [
    "points = np.array(points)\n",
    "points[:,0] += SCHEDULE_START\n",
    "# + AVERAGE_TRAIN_INTERVAL[LINE-1]*150\n",
    "points_express = np.array(points_express)\n",
    "points_express[:,0] += SCHEDULE_START\n",
    "\n",
    "# Extract x and y coordinates\n",
    "x_coords, y_coords = zip(*points)\n",
    "x_exp, y_exp = zip(*points_express)\n",
    "# Create a scatter plot\n",
    "# plt.scatter(x_coords, y_coords, marker='o', color='b', label='Points')\n",
    "\n",
    "# Connect the points with lines\n",
    "for i in range(len(points) - 1):\n",
    "    plt.plot(\n",
    "        [x_coords[i], x_coords[i + 1]],\n",
    "        [y_coords[i], y_coords[i + 1]],\n",
    "        color=\"r\",\n",
    "        linestyle=\"-\",\n",
    "    )\n",
    "\n",
    "for i in range(len(points_express) - 1):\n",
    "    plt.plot(\n",
    "        [x_exp[i], x_exp[i + 1]], [y_exp[i], y_exp[i + 1]], color=\"b\", linestyle=\"-\"\n",
    "    )\n",
    "\n",
    "# Add labels and title\n",
    "plt.xlabel(\"Time\")\n",
    "plt.ylabel(\"Dist\")\n",
    "plt.title(\"Schedule\")\n",
    "\n",
    "# Show the plot\n",
    "plt.grid(True)\n",
    "# plt.legend()\n",
    "plt.savefig(\"test.svg\", format=\"svg\")\n",
    "plt.show()"
   ]
  },
  {
   "cell_type": "code",
   "execution_count": null,
   "metadata": {},
   "outputs": [],
   "source": []
  },
  {
   "cell_type": "code",
   "execution_count": null,
   "metadata": {},
   "outputs": [],
   "source": []
  }
 ],
 "metadata": {
  "kernelspec": {
   "display_name": "py39",
   "language": "python",
   "name": "python3"
  },
  "language_info": {
   "codemirror_mode": {
    "name": "ipython",
    "version": 3
   },
   "file_extension": ".py",
   "mimetype": "text/x-python",
   "name": "python",
   "nbconvert_exporter": "python",
   "pygments_lexer": "ipython3",
   "version": "3.9.19"
  }
 },
 "nbformat": 4,
 "nbformat_minor": 2
}
