{
 "cells": [
  {
   "cell_type": "code",
   "execution_count": 14,
   "metadata": {},
   "outputs": [],
   "source": [
    "import numpy as np\n",
    "import pandas as pd\n",
    "from tqdm import tqdm\n"
   ]
  },
  {
   "cell_type": "code",
   "execution_count": 15,
   "metadata": {},
   "outputs": [
    {
     "name": "stdout",
     "output_type": "stream",
     "text": [
      "97\n"
     ]
    }
   ],
   "source": [
    "TRAIN_CODE = pd.read_csv(\"../trimmed_data/SubwayStation-Code.csv\")\n",
    "TRAIN_CODE = TRAIN_CODE.set_index(keys=\"StationName\")\n",
    "print(TRAIN_CODE.loc[\"낫개\",\"StationCode\"])\n",
    "\n",
    "DAYTYPE = ['토요일', '일요일', '공휴일', '평일']\n",
    "LoadPath_SubwayStation_Schedule_DayType = [f\"../trimmed_data/SubwayStation-Schedule-{day}.json\" for day in DAYTYPE]\n",
    "SaveFilePath= [f\"../trimmed_data/SubwayStation-ScheduleInterval-{day}.json\" for day in DAYTYPE]"
   ]
  },
  {
   "cell_type": "markdown",
   "metadata": {},
   "source": [
    "# `SubwayUniStation-ScheduleSeperation.ipynb`\n",
    "02 에서 만든 데이터로 쪼게기."
   ]
  },
  {
   "cell_type": "markdown",
   "metadata": {},
   "source": [
    "## 1. 데이터 불러오기"
   ]
  },
  {
   "cell_type": "code",
   "execution_count": 16,
   "metadata": {},
   "outputs": [
    {
     "name": "stderr",
     "output_type": "stream",
     "text": [
      "  0%|          | 0/1277 [00:00<?, ?it/s]"
     ]
    },
    {
     "name": "stderr",
     "output_type": "stream",
     "text": [
      "/tmp/ipykernel_67041/3953280398.py:22: FutureWarning: The behavior of DataFrame concatenation with empty or all-NA entries is deprecated. In a future version, this will no longer exclude empty or all-NA columns when determining the result dtypes. To retain the old behavior, exclude the relevant entries before the concat operation.\n",
      "  df = pd.concat([df, _unit], ignore_index=True)      # 35.6 sec\n",
      "100%|██████████| 1277/1277 [00:42<00:00, 29.84it/s]\n"
     ]
    },
    {
     "name": "stdout",
     "output_type": "stream",
     "text": [
      "SAVE >>> ../trimmed_data/SubwayStation-ScheduleInterval-토요일.json\n"
     ]
    },
    {
     "name": "stderr",
     "output_type": "stream",
     "text": [
      "  0%|          | 0/278 [00:00<?, ?it/s]/tmp/ipykernel_67041/3953280398.py:22: FutureWarning: The behavior of DataFrame concatenation with empty or all-NA entries is deprecated. In a future version, this will no longer exclude empty or all-NA columns when determining the result dtypes. To retain the old behavior, exclude the relevant entries before the concat operation.\n",
      "  df = pd.concat([df, _unit], ignore_index=True)      # 35.6 sec\n",
      "100%|██████████| 278/278 [00:03<00:00, 89.09it/s]\n"
     ]
    },
    {
     "name": "stdout",
     "output_type": "stream",
     "text": [
      "SAVE >>> ../trimmed_data/SubwayStation-ScheduleInterval-일요일.json\n"
     ]
    },
    {
     "name": "stderr",
     "output_type": "stream",
     "text": [
      "  0%|          | 0/924 [00:00<?, ?it/s]/tmp/ipykernel_67041/3953280398.py:22: FutureWarning: The behavior of DataFrame concatenation with empty or all-NA entries is deprecated. In a future version, this will no longer exclude empty or all-NA columns when determining the result dtypes. To retain the old behavior, exclude the relevant entries before the concat operation.\n",
      "  df = pd.concat([df, _unit], ignore_index=True)      # 35.6 sec\n",
      "100%|██████████| 924/924 [00:31<00:00, 29.79it/s]\n"
     ]
    },
    {
     "name": "stdout",
     "output_type": "stream",
     "text": [
      "SAVE >>> ../trimmed_data/SubwayStation-ScheduleInterval-공휴일.json\n"
     ]
    },
    {
     "name": "stderr",
     "output_type": "stream",
     "text": [
      "  0%|          | 0/1354 [00:00<?, ?it/s]/tmp/ipykernel_67041/3953280398.py:22: FutureWarning: The behavior of DataFrame concatenation with empty or all-NA entries is deprecated. In a future version, this will no longer exclude empty or all-NA columns when determining the result dtypes. To retain the old behavior, exclude the relevant entries before the concat operation.\n",
      "  df = pd.concat([df, _unit], ignore_index=True)      # 35.6 sec\n",
      "100%|██████████| 1354/1354 [00:45<00:00, 29.74it/s]\n"
     ]
    },
    {
     "name": "stdout",
     "output_type": "stream",
     "text": [
      "SAVE >>> ../trimmed_data/SubwayStation-ScheduleInterval-평일.json\n"
     ]
    },
    {
     "data": {
      "text/html": [
       "<div>\n",
       "<style scoped>\n",
       "    .dataframe tbody tr th:only-of-type {\n",
       "        vertical-align: middle;\n",
       "    }\n",
       "\n",
       "    .dataframe tbody tr th {\n",
       "        vertical-align: top;\n",
       "    }\n",
       "\n",
       "    .dataframe thead th {\n",
       "        text-align: right;\n",
       "    }\n",
       "</style>\n",
       "<table border=\"1\" class=\"dataframe\">\n",
       "  <thead>\n",
       "    <tr style=\"text-align: right;\">\n",
       "      <th></th>\n",
       "      <th>TrainCode</th>\n",
       "      <th>LineNumber</th>\n",
       "      <th>DirectionVector</th>\n",
       "      <th>StationList</th>\n",
       "      <th>ArriveSchedule</th>\n",
       "      <th>DepartSchedule</th>\n",
       "      <th>DayType</th>\n",
       "    </tr>\n",
       "  </thead>\n",
       "  <tbody>\n",
       "    <tr>\n",
       "      <th>0</th>\n",
       "      <td>1001</td>\n",
       "      <td>1</td>\n",
       "      <td>1</td>\n",
       "      <td>노포</td>\n",
       "      <td>308.0</td>\n",
       "      <td>308</td>\n",
       "      <td>평일</td>\n",
       "    </tr>\n",
       "    <tr>\n",
       "      <th>1</th>\n",
       "      <td>1001</td>\n",
       "      <td>1</td>\n",
       "      <td>1</td>\n",
       "      <td>범어사</td>\n",
       "      <td>309.0</td>\n",
       "      <td>310</td>\n",
       "      <td>평일</td>\n",
       "    </tr>\n",
       "    <tr>\n",
       "      <th>2</th>\n",
       "      <td>1001</td>\n",
       "      <td>1</td>\n",
       "      <td>1</td>\n",
       "      <td>남산</td>\n",
       "      <td>311.0</td>\n",
       "      <td>312</td>\n",
       "      <td>평일</td>\n",
       "    </tr>\n",
       "  </tbody>\n",
       "</table>\n",
       "</div>"
      ],
      "text/plain": [
       "   TrainCode  LineNumber  DirectionVector StationList  ArriveSchedule  \\\n",
       "0       1001           1                1          노포           308.0   \n",
       "1       1001           1                1         범어사           309.0   \n",
       "2       1001           1                1          남산           311.0   \n",
       "\n",
       "   DepartSchedule DayType  \n",
       "0             308      평일  \n",
       "1             310      평일  \n",
       "2             312      평일  "
      ]
     },
     "execution_count": 16,
     "metadata": {},
     "output_type": "execute_result"
    }
   ],
   "source": [
    "for day,path,savepath in zip(DAYTYPE,LoadPath_SubwayStation_Schedule_DayType,SaveFilePath):\n",
    "    db = pd.read_json(path,encoding=\"UTF-8\")\n",
    "    column = db.columns.to_list()\n",
    "    df = pd.DataFrame({c: [] for c in column})\n",
    "    \n",
    "    for i in tqdm(db.index):\n",
    "        tCode, lNumber, dVect, sList, aSchedule, dSchedule = db.loc[i, :]\n",
    "        for s, a, d in zip(sList, aSchedule, dSchedule):\n",
    "            _unit = pd.DataFrame(\n",
    "                {\n",
    "                    column[0]: [int(tCode)],\n",
    "                    column[1]: [int(lNumber)],\n",
    "                    column[2]: [int(dVect)],\n",
    "                    column[3]: [s],\n",
    "                    column[4]: [a],\n",
    "                    column[5]: [d],\n",
    "                    \"DayType\": day,\n",
    "                }\n",
    "            )\n",
    "            # df.loc[len(df)] = pd.Series({'A': 6, 'B': 'f'})   # 1 minute 28.3 sec\n",
    "            # df = df._append(_unit)                            # 38.5 sec\n",
    "            df = pd.concat([df, _unit], ignore_index=True)      # 35.6 sec\n",
    "    trim_target = [*column[0:3],*column[5:7]]\n",
    "    for idx in trim_target:\n",
    "        df[idx] = pd.to_numeric(df[idx].fillna(0),downcast=\"integer\")\n",
    "\n",
    "    with open(savepath,mode=\"w\",encoding=\"UTF-8\") as f:\n",
    "        f.write(df.to_json(index=False))\n",
    "        print(f\"SAVE >>> {savepath}\")\n",
    "df.head(3)"
   ]
  }
 ],
 "metadata": {
  "kernelspec": {
   "display_name": "py39",
   "language": "python",
   "name": "python3"
  },
  "language_info": {
   "codemirror_mode": {
    "name": "ipython",
    "version": 3
   },
   "file_extension": ".py",
   "mimetype": "text/x-python",
   "name": "python",
   "nbconvert_exporter": "python",
   "pygments_lexer": "ipython3",
   "version": "3.9.19"
  }
 },
 "nbformat": 4,
 "nbformat_minor": 2
}
