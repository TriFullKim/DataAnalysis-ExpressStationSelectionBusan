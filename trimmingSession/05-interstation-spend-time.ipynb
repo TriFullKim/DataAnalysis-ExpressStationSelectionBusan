{
 "cells": [
  {
   "cell_type": "code",
   "execution_count": 1,
   "metadata": {},
   "outputs": [],
   "source": [
    "import numpy as np\n",
    "import pandas as pd\n",
    "import util"
   ]
  },
  {
   "cell_type": "code",
   "execution_count": 2,
   "metadata": {},
   "outputs": [],
   "source": [
    "import yaml\n",
    "#API KEY\n",
    "with open(\"../security.yaml\") as f:\n",
    "    SYS_CONFIG = yaml.safe_load(f)"
   ]
  },
  {
   "cell_type": "markdown",
   "metadata": {},
   "source": [
    "# `SubwayBiStation-IntervalTime.ipynb`\n",
    "> API 정보 - https://www.data.go.kr/tcs/dss/selectApiDataDetailView.do?publicDataPk=15001019#tab_layer_detail_function\\\n",
    "> `소모시간` = 도시철도가 어떤 역에서 다른 역까지 이동하는데 걸리는 순수 시간\\\n",
    "> `정차시간` = 도시철도가 어떤 역에서 도착한 후 정지하여 다음 역으로 출발하기 전 까지의 순수 시간\\\n",
    "> `실질배차간격` = `철도사용자의최악대기시간(환승시간제외)` = 철도사용자가 한 역에서 어떤 열차가 지나가는 것을 보고 다음 열차가 올 때까지의 시간\n",
    "- 두 역에서의 `소모시간`을 데이터\n",
    "- 한 역에서의 `정차시간`을 데이터"
   ]
  },
  {
   "cell_type": "markdown",
   "metadata": {},
   "source": [
    "## 1. `소모시간`, `정차시간` 을 알기 위해 API로 데이터 Loading"
   ]
  },
  {
   "cell_type": "markdown",
   "metadata": {},
   "source": [
    "```py\n",
    "ENCODING        \"EUC-KR\"\n",
    "startSn         출발역명:str\n",
    "startSc\t        출발역코드:int      (ex.신평:101, 안평:414)\n",
    "endSn\t        도착역명:str\n",
    "endSc\t        도착역코드:int      (ex.신평:101, 안평:414)\n",
    "dist\t        이동거리:int        단위:0.1 km (ex 16->1.6 km)\n",
    "time\t        이동시간:int        단위:초(sec)\n",
    "stoppingTime\t정차시간:int        단위:초(sec)\n",
    "exchange        환승구분:str|Null   \"Y\" => 환승역\n",
    "                                   \"N\" => 경전철\n",
    "                                   \"\"(공란) => 일반역```\n"
   ]
  },
  {
   "cell_type": "code",
   "execution_count": 3,
   "metadata": {},
   "outputs": [],
   "source": [
    "# GET API REQ\n",
    "url = \"http://data.humetro.busan.kr/voc/api/open_api_distance.tnn\"\n",
    "params = {\"serviceKey\": SYS_CONFIG[\"API_KEY\"], \"act\": \"json\", \"numOfRows\": 328}\n",
    "\n",
    "import requests\n",
    "\n",
    "response = requests.get(url, params=params)"
   ]
  },
  {
   "cell_type": "code",
   "execution_count": 4,
   "metadata": {},
   "outputs": [],
   "source": [
    "# TRIM AND SAVE REQ\n",
    "import json\n",
    "\n",
    "\n",
    "# SET JSON DECODER\n",
    "# https://stackoverflow.com/questions/45068797/how-to-convert-string-int-json-into-real-int-with-json-loads\n",
    "class Decoder(json.JSONDecoder):\n",
    "    def decode(self, s):\n",
    "        result = super().decode(\n",
    "            s\n",
    "        )  # result = super(Decoder, self).decode(s) for Python 2.x\n",
    "        return self._decode(result)\n",
    "\n",
    "    def _decode(self, o):\n",
    "        if isinstance(o, str):\n",
    "            if o == \"Y\":\n",
    "                return True\n",
    "            elif o == \"N\":\n",
    "                return False\n",
    "            elif o == \"\":\n",
    "                return None\n",
    "\n",
    "            try:\n",
    "                return int(o)\n",
    "            except ValueError:\n",
    "                return o\n",
    "        elif isinstance(o, dict):\n",
    "            return {k: self._decode(v) for k, v in o.items()}\n",
    "        elif isinstance(o, list):\n",
    "            return [self._decode(v) for v in o]\n",
    "        else:\n",
    "            return o"
   ]
  },
  {
   "cell_type": "code",
   "execution_count": 5,
   "metadata": {},
   "outputs": [
    {
     "data": {
      "text/plain": [
       "[   dist startSn endSn  exchange  startSc  endSc  stoppingTime  time\n",
       " 0    17      동매    신평     False      100    101            30   180\n",
       " 1    12      동매    장림     False      100     99            20   180\n",
       " 2    17      신평    동매     False      101    100            30   180,\n",
       "     dist startSn endSn  exchange  startSc  endSc  stoppingTime  time\n",
       " 40     1      서면    서면      True      119    219             0   120\n",
       " 50     1      연산    연산      True      123    305             0   180\n",
       " 56     3      동래    동래      True      125    402             0   360]"
      ]
     },
     "execution_count": 5,
     "metadata": {},
     "output_type": "execute_result"
    }
   ],
   "source": [
    "# TRIM AND SAVE REQ\n",
    "df_interstation_info = json.loads(\n",
    "    req := response.content.decode(\"EUC-KR\"), cls=Decoder\n",
    ")\n",
    "df_interstation_info = df_interstation_info[\"response\"][\"body\"][\"item\"]\n",
    "df_interstation_info = pd.DataFrame(df_interstation_info)\n",
    "df_interstation_info = df_interstation_info.loc[:,[\"dist\",\"startSn\",\"endSn\",\"exchange\",\"startSc\",\"endSc\",\"stoppingTime\",\"time\"]] #순서변경\n",
    "df_interstation_info = df_interstation_info[(df_interstation_info[\"startSc\"] < 500) & (df_interstation_info[\"endSc\"] < 500)]\n",
    "\n",
    "PATH_INTER_STATION_SPEND_TIME = \"../trimmed_data/IntervalTimeAPI.pickle\"\n",
    "util.savePickle(df_interstation_info,PATH_INTER_STATION_SPEND_TIME)\n",
    "interval_time = util.loadPickle(PATH_INTER_STATION_SPEND_TIME)\n",
    "\n",
    "PATH_INTER_STATION_EXCHANGE_TIME = \"../trimmed_data/ExchangeTimeAPI.pickle\"\n",
    "df_exchange_time = interval_time[interval_time[\"exchange\"]==True]\n",
    "util.savePickle(df_exchange_time,PATH_INTER_STATION_EXCHANGE_TIME)\n",
    "exchange_time = util.loadPickle(PATH_INTER_STATION_EXCHANGE_TIME)\n",
    "\n",
    "[interval_time.head(3),exchange_time.head(3)]"
   ]
  },
  {
   "cell_type": "markdown",
   "metadata": {},
   "source": [
    "## 2. 역 to 역 시간 구하기\n",
    "- 시작역, 끝역\n",
    "- 무정차대상역들\n",
    "  - IF 지정X THEN 일반노선에서 소모 시간 RETURN\n",
    "```\n",
    "attributes = [\n",
    "    \"startSn\",\n",
    "    \"startSc\",\n",
    "    \"endSn\",\n",
    "    \"endSc\",\n",
    "    \"dist\",\n",
    "    \"time\",\n",
    "    \"stoppingTime\",\n",
    "    \"exchange\",\n",
    "]\n",
    "```"
   ]
  },
  {
   "cell_type": "code",
   "execution_count": 6,
   "metadata": {},
   "outputs": [
    {
     "data": {
      "text/plain": [
       "True"
      ]
     },
     "execution_count": 6,
     "metadata": {},
     "output_type": "execute_result"
    }
   ],
   "source": [
    "def data_interstation_spend_time():\n",
    "    import util\n",
    "    interval_time = util.loadPickle(util.PATH_INTER_STATION_SPEND_TIME)\n",
    "\n",
    "    subway_graph = interval_time.loc[\n",
    "        :, [\"exchange\", \"startSc\", \"endSc\", \"stoppingTime\", \"time\"]\n",
    "    ]\n",
    "    subway_graph = subway_graph.groupby(by=[\"startSc\", \"endSc\", \"exchange\"]).sum()\n",
    "    print(\"len(subway_graph) == len(interval_time) : \",len(subway_graph) == len(interval_time))\n",
    "\n",
    "    subway_graph = subway_graph.T.to_dict()\n",
    "    subway_graph_index = list(subway_graph.keys())\n",
    "    return subway_graph_index, subway_graph\n",
    "\n",
    "def line_range(sCode_x):\n",
    "    if sCode_x < 200:\n",
    "        return range(0, 200)\n",
    "    elif sCode_x < 300:\n",
    "        return range(200, 300)\n",
    "    elif sCode_x < 400:\n",
    "        return range(300, 400)\n",
    "    elif sCode_x < 500:\n",
    "        return range(400, 500)\n",
    "    else:\n",
    "        assert False, \"MUST sCode_x < 500 (4호선까지 존재 합니다.)\"\n",
    "\n",
    "\n",
    "def isExchange(sCode_x, sCode_y):\n",
    "    \"\"\"경로에서 환승이 일어 났는지 확인하는 함수\"\"\"\n",
    "    assert sCode_x > 0 and sCode_y > 0, ValueError\n",
    "    _X, _Y = sCode_x // 100, sCode_y // 100\n",
    "    if _X > 1 and _Y > 1:\n",
    "        return _X != _Y\n",
    "    elif _X <= 1 and _Y <= 1:\n",
    "        return False\n",
    "    else:\n",
    "        return True\n",
    "    \n",
    "isExchange(97,312)"
   ]
  },
  {
   "cell_type": "code",
   "execution_count": 7,
   "metadata": {},
   "outputs": [
    {
     "name": "stdout",
     "output_type": "stream",
     "text": [
      "len(subway_graph) == len(interval_time) :  True\n",
      "(119, 219, True) (123, 305, True) (125, 402, True) (208, 301, True) (219, 119, True) (233, 313, True) (301, 208, True) (305, 123, True) (309, 401, True) (313, 233, True) (401, 309, True) (402, 125, True)\n",
      "{(95, 96, False): {'stoppingTime': 20, 'time': 180}, (96, 95, False): {'stoppingTime': 20, 'time': 180}, (96, 97, False): {'stoppingTime': 20, 'time': 120}, (97, 96, False): {'stoppingTime': 20, 'time': 120}, (97, 98, False): {'stoppingTime': 20, 'time': 120}, (98, 97, False): {'stoppingTime': 20, 'time': 120}, (98, 99, False): {'stoppingTime': 20, 'time': 120}, (99, 98, False): {'stoppingTime': 20, 'time': 120}, (99, 100, False): {'stoppingTime': 20, 'time': 180}, (100, 99, False): {'stoppingTime': 20, 'time': 180}, (100, 101, False): {'stoppingTime': 30, 'time': 180}, (101, 100, False): {'stoppingTime': 30, 'time': 180}, (101, 102, False): {'stoppingTime': 0, 'time': 140}, (102, 101, False): {'stoppingTime': 30, 'time': 150}, (102, 103, False): {'stoppingTime': 30, 'time': 70}, (103, 102, False): {'stoppingTime': 20, 'time': 75}, (103, 104, False): {'stoppingTime': 20, 'time': 80}, (104, 103, False): {'stoppingTime': 20, 'time': 80}, (104, 105, False): {'stoppingTime': 20, 'time': 75}, (105, 104, False): {'stoppingTime': 30, 'time': 80}, (105, 106, False): {'stoppingTime': 30, 'time': 65}, (106, 105, False): {'stoppingTime': 20, 'time': 70}, (106, 107, False): {'stoppingTime': 20, 'time': 110}, (107, 106, False): {'stoppingTime': 20, 'time': 105}, (107, 108, False): {'stoppingTime': 20, 'time': 125}, (108, 107, False): {'stoppingTime': 20, 'time': 130}, (108, 109, False): {'stoppingTime': 20, 'time': 115}, (109, 108, False): {'stoppingTime': 20, 'time': 125}, (109, 110, False): {'stoppingTime': 20, 'time': 110}, (110, 109, False): {'stoppingTime': 30, 'time': 110}, (110, 111, False): {'stoppingTime': 30, 'time': 65}, (111, 110, False): {'stoppingTime': 30, 'time': 65}, (111, 112, False): {'stoppingTime': 30, 'time': 80}, (112, 111, False): {'stoppingTime': 30, 'time': 80}, (112, 113, False): {'stoppingTime': 30, 'time': 80}, (113, 112, False): {'stoppingTime': 30, 'time': 80}, (113, 114, False): {'stoppingTime': 30, 'time': 70}, (114, 113, False): {'stoppingTime': 20, 'time': 75}, (114, 115, False): {'stoppingTime': 20, 'time': 70}, (115, 114, False): {'stoppingTime': 30, 'time': 65}, (115, 116, False): {'stoppingTime': 30, 'time': 75}, (116, 115, False): {'stoppingTime': 20, 'time': 80}, (116, 117, False): {'stoppingTime': 20, 'time': 85}, (117, 116, False): {'stoppingTime': 30, 'time': 85}, (117, 118, False): {'stoppingTime': 30, 'time': 65}, (118, 117, False): {'stoppingTime': 30, 'time': 70}, (118, 119, False): {'stoppingTime': 30, 'time': 100}, (119, 118, False): {'stoppingTime': 50, 'time': 85}, (119, 120, False): {'stoppingTime': 50, 'time': 65}, (119, 219, True): {'stoppingTime': 0, 'time': 120}, (120, 119, False): {'stoppingTime': 50, 'time': 65}, (120, 121, False): {'stoppingTime': 30, 'time': 95}, (121, 120, False): {'stoppingTime': 30, 'time': 95}, (121, 122, False): {'stoppingTime': 30, 'time': 70}, (122, 121, False): {'stoppingTime': 30, 'time': 75}, (122, 123, False): {'stoppingTime': 30, 'time': 75}, (123, 122, False): {'stoppingTime': 50, 'time': 75}, (123, 124, False): {'stoppingTime': 50, 'time': 85}, (123, 305, True): {'stoppingTime': 0, 'time': 180}, (124, 123, False): {'stoppingTime': 30, 'time': 85}, (124, 125, False): {'stoppingTime': 30, 'time': 85}, (125, 124, False): {'stoppingTime': 30, 'time': 90}, (125, 126, False): {'stoppingTime': 30, 'time': 70}, (125, 402, True): {'stoppingTime': 0, 'time': 360}, (126, 125, False): {'stoppingTime': 20, 'time': 75}, (126, 127, False): {'stoppingTime': 20, 'time': 85}, (127, 126, False): {'stoppingTime': 30, 'time': 85}, (127, 128, False): {'stoppingTime': 30, 'time': 85}, (128, 127, False): {'stoppingTime': 30, 'time': 85}, (128, 129, False): {'stoppingTime': 30, 'time': 80}, (129, 128, False): {'stoppingTime': 30, 'time': 80}, (129, 130, False): {'stoppingTime': 30, 'time': 95}, (130, 129, False): {'stoppingTime': 20, 'time': 85}, (130, 131, False): {'stoppingTime': 20, 'time': 90}, (131, 130, False): {'stoppingTime': 20, 'time': 85}, (131, 132, False): {'stoppingTime': 20, 'time': 75}, (132, 131, False): {'stoppingTime': 20, 'time': 70}, (132, 133, False): {'stoppingTime': 20, 'time': 85}, (133, 132, False): {'stoppingTime': 20, 'time': 80}, (133, 134, False): {'stoppingTime': 20, 'time': 125}, (134, 133, False): {'stoppingTime': 0, 'time': 110}, (201, 202, False): {'stoppingTime': 0, 'time': 90}, (202, 201, False): {'stoppingTime': 20, 'time': 105}, (202, 203, False): {'stoppingTime': 20, 'time': 80}, (203, 202, False): {'stoppingTime': 30, 'time': 85}, (203, 204, False): {'stoppingTime': 30, 'time': 105}, (204, 203, False): {'stoppingTime': 20, 'time': 105}, (204, 205, False): {'stoppingTime': 20, 'time': 95}, (205, 204, False): {'stoppingTime': 20, 'time': 95}, (205, 206, False): {'stoppingTime': 20, 'time': 80}, (206, 205, False): {'stoppingTime': 20, 'time': 85}, (206, 207, False): {'stoppingTime': 20, 'time': 100}, (207, 206, False): {'stoppingTime': 20, 'time': 100}, (207, 208, False): {'stoppingTime': 20, 'time': 135}, (208, 207, False): {'stoppingTime': 30, 'time': 125}, (208, 209, False): {'stoppingTime': 30, 'time': 75}, (208, 301, True): {'stoppingTime': 0, 'time': 180}, (209, 208, False): {'stoppingTime': 20, 'time': 80}, (209, 210, False): {'stoppingTime': 20, 'time': 80}, (210, 209, False): {'stoppingTime': 20, 'time': 75}, (210, 211, False): {'stoppingTime': 20, 'time': 85}, (211, 210, False): {'stoppingTime': 20, 'time': 85}, (211, 212, False): {'stoppingTime': 20, 'time': 75}, (212, 211, False): {'stoppingTime': 30, 'time': 75}, (212, 213, False): {'stoppingTime': 30, 'time': 75}, (213, 212, False): {'stoppingTime': 20, 'time': 75}, (213, 214, False): {'stoppingTime': 20, 'time': 70}, (214, 213, False): {'stoppingTime': 20, 'time': 70}, (214, 215, False): {'stoppingTime': 20, 'time': 85}, (215, 214, False): {'stoppingTime': 20, 'time': 90}, (215, 216, False): {'stoppingTime': 20, 'time': 95}, (216, 215, False): {'stoppingTime': 20, 'time': 90}, (216, 217, False): {'stoppingTime': 20, 'time': 80}, (217, 216, False): {'stoppingTime': 20, 'time': 80}, (217, 218, False): {'stoppingTime': 20, 'time': 80}, (218, 217, False): {'stoppingTime': 20, 'time': 85}, (218, 219, False): {'stoppingTime': 20, 'time': 115}, (219, 119, True): {'stoppingTime': 0, 'time': 120}, (219, 218, False): {'stoppingTime': 50, 'time': 115}, (219, 220, False): {'stoppingTime': 50, 'time': 80}, (220, 219, False): {'stoppingTime': 20, 'time': 80}, (220, 221, False): {'stoppingTime': 20, 'time': 75}, (221, 220, False): {'stoppingTime': 20, 'time': 75}, (221, 222, False): {'stoppingTime': 20, 'time': 80}, (222, 221, False): {'stoppingTime': 20, 'time': 80}, (222, 223, False): {'stoppingTime': 20, 'time': 90}, (223, 222, False): {'stoppingTime': 20, 'time': 90}, (223, 224, False): {'stoppingTime': 20, 'time': 85}, (224, 223, False): {'stoppingTime': 20, 'time': 90}, (224, 225, False): {'stoppingTime': 20, 'time': 75}, (225, 224, False): {'stoppingTime': 20, 'time': 75}, (225, 226, False): {'stoppingTime': 20, 'time': 105}, (226, 225, False): {'stoppingTime': 20, 'time': 105}, (226, 227, False): {'stoppingTime': 20, 'time': 105}, (227, 226, False): {'stoppingTime': 30, 'time': 105}, (227, 228, False): {'stoppingTime': 30, 'time': 105}, (228, 227, False): {'stoppingTime': 20, 'time': 110}, (228, 229, False): {'stoppingTime': 20, 'time': 75}, (229, 228, False): {'stoppingTime': 20, 'time': 75}, (229, 230, False): {'stoppingTime': 20, 'time': 85}, (230, 229, False): {'stoppingTime': 20, 'time': 90}, (230, 231, False): {'stoppingTime': 20, 'time': 95}, (231, 230, False): {'stoppingTime': 20, 'time': 90}, (231, 232, False): {'stoppingTime': 20, 'time': 75}, (232, 231, False): {'stoppingTime': 20, 'time': 75}, (232, 233, False): {'stoppingTime': 20, 'time': 130}, (233, 232, False): {'stoppingTime': 30, 'time': 125}, (233, 234, False): {'stoppingTime': 30, 'time': 125}, (233, 313, True): {'stoppingTime': 0, 'time': 180}, (234, 233, False): {'stoppingTime': 20, 'time': 125}, (234, 235, False): {'stoppingTime': 20, 'time': 130}, (235, 234, False): {'stoppingTime': 30, 'time': 125}, (235, 236, False): {'stoppingTime': 30, 'time': 100}, (236, 235, False): {'stoppingTime': 20, 'time': 95}, (236, 237, False): {'stoppingTime': 20, 'time': 105}, (237, 236, False): {'stoppingTime': 20, 'time': 105}, (237, 238, False): {'stoppingTime': 20, 'time': 85}, (238, 237, False): {'stoppingTime': 20, 'time': 85}, (238, 239, False): {'stoppingTime': 20, 'time': 145}, (239, 238, False): {'stoppingTime': 0, 'time': 130}, (239, 240, False): {'stoppingTime': 20, 'time': 280}, (240, 239, False): {'stoppingTime': 0, 'time': 280}, (240, 241, False): {'stoppingTime': 0, 'time': 90}, (241, 240, False): {'stoppingTime': 0, 'time': 90}, (241, 242, False): {'stoppingTime': 0, 'time': 100}, (242, 241, False): {'stoppingTime': 30, 'time': 100}, (242, 243, False): {'stoppingTime': 30, 'time': 140}, (243, 242, False): {'stoppingTime': 0, 'time': 140}, (301, 208, True): {'stoppingTime': 0, 'time': 180}, (301, 302, False): {'stoppingTime': 20, 'time': 120}, (302, 301, False): {'stoppingTime': 20, 'time': 125}, (302, 303, False): {'stoppingTime': 20, 'time': 90}, (303, 302, False): {'stoppingTime': 20, 'time': 100}, (303, 304, False): {'stoppingTime': 20, 'time': 115}, (304, 303, False): {'stoppingTime': 20, 'time': 105}, (304, 305, False): {'stoppingTime': 20, 'time': 95}, (305, 123, True): {'stoppingTime': 0, 'time': 180}, (305, 304, False): {'stoppingTime': 50, 'time': 100}, (305, 306, False): {'stoppingTime': 50, 'time': 70}, (306, 305, False): {'stoppingTime': 20, 'time': 75}, (306, 307, False): {'stoppingTime': 20, 'time': 70}, (307, 306, False): {'stoppingTime': 30, 'time': 75}, (307, 308, False): {'stoppingTime': 30, 'time': 80}, (308, 307, False): {'stoppingTime': 20, 'time': 85}, (308, 309, False): {'stoppingTime': 20, 'time': 95}, (309, 308, False): {'stoppingTime': 30, 'time': 95}, (309, 310, False): {'stoppingTime': 30, 'time': 230}, (309, 401, True): {'stoppingTime': 0, 'time': 240}, (310, 309, False): {'stoppingTime': 20, 'time': 235}, (310, 311, False): {'stoppingTime': 20, 'time': 100}, (311, 310, False): {'stoppingTime': 20, 'time': 95}, (311, 312, False): {'stoppingTime': 20, 'time': 85}, (312, 311, False): {'stoppingTime': 20, 'time': 85}, (312, 313, False): {'stoppingTime': 20, 'time': 70}, (313, 233, True): {'stoppingTime': 0, 'time': 180}, (313, 312, False): {'stoppingTime': 50, 'time': 65}, (313, 314, False): {'stoppingTime': 50, 'time': 110}, (314, 313, False): {'stoppingTime': 20, 'time': 120}, (314, 315, False): {'stoppingTime': 20, 'time': 145}, (315, 314, False): {'stoppingTime': 20, 'time': 135}, (315, 316, False): {'stoppingTime': 20, 'time': 90}, (316, 315, False): {'stoppingTime': 20, 'time': 90}, (316, 317, False): {'stoppingTime': 20, 'time': 95}, (317, 316, False): {'stoppingTime': 0, 'time': 75}, (401, 309, True): {'stoppingTime': 0, 'time': 240}, (401, 402, False): {'stoppingTime': 25, 'time': 105}, (402, 125, True): {'stoppingTime': 0, 'time': 360}, (402, 401, False): {'stoppingTime': 25, 'time': 110}, (402, 403, False): {'stoppingTime': 25, 'time': 70}, (403, 402, False): {'stoppingTime': 20, 'time': 70}, (403, 404, False): {'stoppingTime': 20, 'time': 70}, (404, 403, False): {'stoppingTime': 20, 'time': 70}, (404, 405, False): {'stoppingTime': 20, 'time': 80}, (405, 404, False): {'stoppingTime': 20, 'time': 80}, (405, 406, False): {'stoppingTime': 20, 'time': 75}, (406, 405, False): {'stoppingTime': 20, 'time': 70}, (406, 407, False): {'stoppingTime': 20, 'time': 115}, (407, 406, False): {'stoppingTime': 20, 'time': 115}, (407, 408, False): {'stoppingTime': 20, 'time': 80}, (408, 407, False): {'stoppingTime': 20, 'time': 85}, (408, 409, False): {'stoppingTime': 20, 'time': 80}, (409, 408, False): {'stoppingTime': 20, 'time': 80}, (409, 410, False): {'stoppingTime': 20, 'time': 105}, (410, 409, False): {'stoppingTime': 20, 'time': 105}, (410, 411, False): {'stoppingTime': 20, 'time': 120}, (411, 410, False): {'stoppingTime': 20, 'time': 120}, (411, 412, False): {'stoppingTime': 20, 'time': 105}, (412, 411, False): {'stoppingTime': 20, 'time': 105}, (412, 413, False): {'stoppingTime': 20, 'time': 80}, (413, 412, False): {'stoppingTime': 20, 'time': 80}, (413, 414, False): {'stoppingTime': 20, 'time': 110}, (414, 413, False): {'stoppingTime': 30, 'time': 105}}\n",
      "301 309\n",
      "305 309\n",
      "309 309\n",
      "313 309\n",
      "313 s at R\n"
     ]
    },
    {
     "data": {
      "text/plain": [
       "([301, 305], [313])"
      ]
     },
     "execution_count": 7,
     "metadata": {},
     "output_type": "execute_result"
    }
   ],
   "source": [
    "subway_graph_index, subway_graph = data_interstation_spend_time()\n",
    "\n",
    "# 환승정보역 관계를 갖는 index 추출\n",
    "exchange_relation_index = []\n",
    "for _index in subway_graph_index:\n",
    "    _, _, exchange = _index\n",
    "    if exchange is True:\n",
    "        exchange_relation_index.append(_index)\n",
    "print(*exchange_relation_index)\n",
    "print(subway_graph)\n",
    "\n",
    "\n",
    "# exchange_relation = []\n",
    "# for startSc,endSc,exchange in subway_graph_index:\n",
    "#     _index = (startSc,endSc,exchange)\n",
    "#     if exchange is True:\n",
    "#         exchange_relation.append(_index)\n",
    "# exchange_relation\n",
    "\n",
    "sCode_x, sCode_y = 97, 312\n",
    "\n",
    "\n",
    "def find_exchange_inline(sCode: int):\n",
    "    result_arr = []\n",
    "    for _index in exchange_relation_index:\n",
    "        startSc, _, _ = _index\n",
    "        if startSc in line_range(sCode):\n",
    "            result_arr.append(startSc)\n",
    "    return result_arr\n",
    "\n",
    "\n",
    "def find_same_station(sCode: int):  # -> list[Any]:\n",
    "    _same_stations = []\n",
    "    for _index in exchange_relation_index:\n",
    "        startSc, endSc, _ = _index\n",
    "        if sCode == startSc:\n",
    "            _same_stations.append(endSc)\n",
    "    return _same_stations\n",
    "\n",
    "\n",
    "def find_exchange_near(sCode: int):\n",
    "    _exchange_candidate = find_exchange_inline(sCode)\n",
    "    _diff = [abs(s - sCode) for s in _exchange_candidate]\n",
    "    _result_index = _diff.index(min(_diff))\n",
    "    _near_station = [_exchange_candidate[_result_index]]\n",
    "    _near_station.extend(find_same_station(_near_station[0]))\n",
    "    return _near_station\n",
    "\n",
    "\n",
    "def make_RL_Node_inline(sCode: int):\n",
    "    l_node, r_node = [], []\n",
    "    for s in find_exchange_inline(sCode):\n",
    "        print(s,sCode)\n",
    "        if sCode < s:\n",
    "            r_node.append(s)\n",
    "            print(s,\"s at R\")\n",
    "        elif s < sCode:\n",
    "            l_node.append(s)\n",
    "    return l_node, r_node\n",
    "        \n",
    "make_RL_Node_inline(309)\n",
    "\n",
    "# print(\n",
    "#     find_exchange_inline(sCode_x),\n",
    "#     find_same_station(sCode_x),\n",
    "#     find_exchange_near(sCode_x),\n",
    "#     find_exchange_inline(sCode_y),\n",
    "#     find_same_station(sCode_y),\n",
    "#     find_exchange_near(sCode_y),\n",
    "# )"
   ]
  },
  {
   "cell_type": "code",
   "execution_count": null,
   "metadata": {},
   "outputs": [],
   "source": []
  }
 ],
 "metadata": {
  "kernelspec": {
   "display_name": "py39",
   "language": "python",
   "name": "python3"
  },
  "language_info": {
   "codemirror_mode": {
    "name": "ipython",
    "version": 3
   },
   "file_extension": ".py",
   "mimetype": "text/x-python",
   "name": "python",
   "nbconvert_exporter": "python",
   "pygments_lexer": "ipython3",
   "version": "3.9.19"
  }
 },
 "nbformat": 4,
 "nbformat_minor": 2
}
