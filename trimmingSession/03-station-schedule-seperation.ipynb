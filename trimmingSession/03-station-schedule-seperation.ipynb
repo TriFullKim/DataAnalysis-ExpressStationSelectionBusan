{
 "cells": [
  {
   "cell_type": "markdown",
   "metadata": {},
   "source": [
    "# `03-station-schedule-seperation.ipynb`\n",
    "02 에서 만든 데이터로 쪼게기."
   ]
  },
  {
   "cell_type": "code",
   "execution_count": 1,
   "metadata": {},
   "outputs": [],
   "source": [
    "%load_ext autoreload\n",
    "%autoreload 2\n",
    "\n",
    "import warnings\n",
    "\n",
    "warnings.simplefilter(action=\"ignore\", category=FutureWarning)"
   ]
  },
  {
   "cell_type": "code",
   "execution_count": 2,
   "metadata": {},
   "outputs": [],
   "source": [
    "import pandas as pd\n",
    "from tqdm import tqdm\n",
    "import util\n",
    "import stationUtil"
   ]
  },
  {
   "cell_type": "code",
   "execution_count": 3,
   "metadata": {},
   "outputs": [],
   "source": [
    "DAYTYPE = [\"토요일\", \"일요일\", \"공휴일\", \"평일\"]\n",
    "PATH_STATION_SCHEDULE_REFINE_DAYTYPE = [\n",
    "    f\"../trimmed_data/stationSchedule{day}.json\" for day in DAYTYPE\n",
    "]\n",
    "PATH_STATION_INTERVAL_DAYTYPE = [\n",
    "    f\"../trimmed_data/stationSchedule{day}-SEPERATED.json\" for day in DAYTYPE\n",
    "]"
   ]
  },
  {
   "cell_type": "markdown",
   "metadata": {},
   "source": [
    "## 1. 데이터 불러오기"
   ]
  },
  {
   "cell_type": "code",
   "execution_count": 14,
   "metadata": {},
   "outputs": [
    {
     "name": "stdout",
     "output_type": "stream",
     "text": [
      "119 219\n"
     ]
    }
   ],
   "source": [
    "path = util.PATH_STATION_INFO_REFINE\n",
    "sName_sCode = pd.read_json(path).iloc[:, [0, 1]].transpose().to_dict()\n",
    "tmp={}\n",
    "for val in sName_sCode.values():\n",
    "    lNumber = stationUtil.get_line(val[\"StationCode\"])\n",
    "    station_name = val[\"StationName\"]\n",
    "    station_name = station_name.replace(\"·\", \".\")\n",
    "    station_name = station_name.replace(\"국제금융센터\", \"국제금융\")\n",
    "    tmp[(lNumber,station_name)] = val[\"StationCode\"]\n",
    "sName_sCode = tmp\n",
    "util.savePickle(sName_sCode, \"../trimmed_data/stationNameCode.pickel\")\n",
    "\n",
    "########## 환승역은 중복되므로 에러가 발생함.\n",
    "# sName_sCode = {}\n",
    "# for key, val in pd.read_json(path).iloc[:, [0, 1]].transpose().to_dict().items():\n",
    "#     # for k,v in key.items():\n",
    "#     sName_sCode[val[\"StationName\"]] = val[\"StationCode\"]\n",
    "\n",
    "# readme.md 참조.\n",
    "# sName_sCode = {key.replace(\"·\", \".\"): val for key, val in sName_sCode.items()}\n",
    "# sName_sCode = {\n",
    "#     key.replace(\"국제금융센터\", \"국제금융\"): val for key, val in sName_sCode.items()\n",
    "# }\n",
    "print(sName_sCode[(1, \"서면\")], sName_sCode[(2, \"서면\")])"
   ]
  },
  {
   "cell_type": "code",
   "execution_count": 15,
   "metadata": {},
   "outputs": [
    {
     "name": "stderr",
     "output_type": "stream",
     "text": [
      "100%|██████████| 1277/1277 [00:39<00:00, 32.50it/s]\n"
     ]
    },
    {
     "name": "stdout",
     "output_type": "stream",
     "text": [
      "SAVE >>> ../trimmed_data/stationSchedule토요일-SEPERATED.json\n"
     ]
    },
    {
     "name": "stderr",
     "output_type": "stream",
     "text": [
      "100%|██████████| 278/278 [00:03<00:00, 81.98it/s]\n"
     ]
    },
    {
     "name": "stdout",
     "output_type": "stream",
     "text": [
      "SAVE >>> ../trimmed_data/stationSchedule일요일-SEPERATED.json\n"
     ]
    },
    {
     "name": "stderr",
     "output_type": "stream",
     "text": [
      "100%|██████████| 924/924 [00:36<00:00, 25.56it/s]\n"
     ]
    },
    {
     "name": "stdout",
     "output_type": "stream",
     "text": [
      "SAVE >>> ../trimmed_data/stationSchedule공휴일-SEPERATED.json\n"
     ]
    },
    {
     "name": "stderr",
     "output_type": "stream",
     "text": [
      "100%|██████████| 1354/1354 [00:51<00:00, 26.10it/s]"
     ]
    },
    {
     "name": "stdout",
     "output_type": "stream",
     "text": [
      "SAVE >>> ../trimmed_data/stationSchedule평일-SEPERATED.json\n"
     ]
    },
    {
     "name": "stderr",
     "output_type": "stream",
     "text": [
      "\n"
     ]
    }
   ],
   "source": [
    "stationNameCode = util.loadPickle(\"../trimmed_data/stationNameCode.pickel\")\n",
    "\n",
    "for day, path, savepath in zip(\n",
    "    DAYTYPE, PATH_STATION_SCHEDULE_REFINE_DAYTYPE, PATH_STATION_INTERVAL_DAYTYPE\n",
    "):\n",
    "    db = pd.read_json(path, encoding=\"UTF-8\")\n",
    "    column = db.columns.to_list()\n",
    "\n",
    "    df = pd.DataFrame({c: [] for c in column})\n",
    "    for i in tqdm(db.index):\n",
    "        tCode, lNumber, dVect, sList, aSchedule, dSchedule = db.loc[i, :]\n",
    "        # print(lNumber,sList);import sys;sys.exit()\n",
    "        for s, a, d in zip(sList, aSchedule, dSchedule):\n",
    "            _unit = pd.DataFrame(\n",
    "                {\n",
    "                    column[0]: [int(tCode)],\n",
    "                    column[2]: [int(dVect)],\n",
    "                    column[1]: [int(lNumber)],\n",
    "                    column[3]: [int( stationNameCode[(lNumber,s)] )],\n",
    "                    column[4]: [a],\n",
    "                    column[5]: [d],\n",
    "                    \"DayType\": day,\n",
    "                }\n",
    "            )\n",
    "            # import sys;sys.exit()\n",
    "            # df.loc[len(df)] = pd.Series({'A': 6, 'B': 'f'})   # 1 minute 28.3 sec\n",
    "            # df = df._append(_unit)                            # 38.5 sec\n",
    "            df = pd.concat([df, _unit], ignore_index=True)  # 35.6 sec\n",
    "\n",
    "    # 모든 숫자는 정수형 입니다. 타입 수정을 위해 수정합니다.\n",
    "    trim_target = column[:8]\n",
    "    for idx in trim_target:\n",
    "        df[idx] = pd.to_numeric(df[idx], downcast=\"integer\")\n",
    "\n",
    "    with open(savepath, mode=\"w\", encoding=\"UTF-8\") as f:\n",
    "        f.write(df.to_json(index=False))\n",
    "        print(f\"SAVE >>> {savepath}\")"
   ]
  },
  {
   "cell_type": "code",
   "execution_count": null,
   "metadata": {},
   "outputs": [
    {
     "data": {
      "text/html": [
       "<div>\n",
       "<style scoped>\n",
       "    .dataframe tbody tr th:only-of-type {\n",
       "        vertical-align: middle;\n",
       "    }\n",
       "\n",
       "    .dataframe tbody tr th {\n",
       "        vertical-align: top;\n",
       "    }\n",
       "\n",
       "    .dataframe thead th {\n",
       "        text-align: right;\n",
       "    }\n",
       "</style>\n",
       "<table border=\"1\" class=\"dataframe\">\n",
       "  <thead>\n",
       "    <tr style=\"text-align: right;\">\n",
       "      <th></th>\n",
       "      <th>TrainCode</th>\n",
       "      <th>LineNumber</th>\n",
       "      <th>DirectionVector</th>\n",
       "      <th>StationList</th>\n",
       "      <th>ArriveSchedule</th>\n",
       "      <th>DepartSchedule</th>\n",
       "      <th>DayType</th>\n",
       "    </tr>\n",
       "  </thead>\n",
       "  <tbody>\n",
       "    <tr>\n",
       "      <th>38446</th>\n",
       "      <td>4310</td>\n",
       "      <td>4</td>\n",
       "      <td>7</td>\n",
       "      <td>410</td>\n",
       "      <td>1476</td>\n",
       "      <td>1476.0</td>\n",
       "      <td>평일</td>\n",
       "    </tr>\n",
       "    <tr>\n",
       "      <th>38447</th>\n",
       "      <td>4310</td>\n",
       "      <td>4</td>\n",
       "      <td>7</td>\n",
       "      <td>411</td>\n",
       "      <td>1478</td>\n",
       "      <td>1479.0</td>\n",
       "      <td>평일</td>\n",
       "    </tr>\n",
       "    <tr>\n",
       "      <th>38448</th>\n",
       "      <td>4310</td>\n",
       "      <td>4</td>\n",
       "      <td>7</td>\n",
       "      <td>412</td>\n",
       "      <td>1481</td>\n",
       "      <td>1481.0</td>\n",
       "      <td>평일</td>\n",
       "    </tr>\n",
       "    <tr>\n",
       "      <th>38449</th>\n",
       "      <td>4310</td>\n",
       "      <td>4</td>\n",
       "      <td>7</td>\n",
       "      <td>413</td>\n",
       "      <td>1482</td>\n",
       "      <td>1483.0</td>\n",
       "      <td>평일</td>\n",
       "    </tr>\n",
       "    <tr>\n",
       "      <th>38450</th>\n",
       "      <td>4310</td>\n",
       "      <td>4</td>\n",
       "      <td>7</td>\n",
       "      <td>414</td>\n",
       "      <td>1484</td>\n",
       "      <td>NaN</td>\n",
       "      <td>평일</td>\n",
       "    </tr>\n",
       "  </tbody>\n",
       "</table>\n",
       "</div>"
      ],
      "text/plain": [
       "       TrainCode  LineNumber  DirectionVector  StationList  ArriveSchedule  \\\n",
       "38446       4310           4                7          410            1476   \n",
       "38447       4310           4                7          411            1478   \n",
       "38448       4310           4                7          412            1481   \n",
       "38449       4310           4                7          413            1482   \n",
       "38450       4310           4                7          414            1484   \n",
       "\n",
       "       DepartSchedule DayType  \n",
       "38446          1476.0      평일  \n",
       "38447          1479.0      평일  \n",
       "38448          1481.0      평일  \n",
       "38449          1483.0      평일  \n",
       "38450             NaN      평일  "
      ]
     },
     "execution_count": 10,
     "metadata": {},
     "output_type": "execute_result"
    }
   ],
   "source": [
    "df.tail()"
   ]
  }
 ],
 "metadata": {
  "kernelspec": {
   "display_name": "py39",
   "language": "python",
   "name": "python3"
  },
  "language_info": {
   "codemirror_mode": {
    "name": "ipython",
    "version": 3
   },
   "file_extension": ".py",
   "mimetype": "text/x-python",
   "name": "python",
   "nbconvert_exporter": "python",
   "pygments_lexer": "ipython3",
   "version": "3.9.19"
  }
 },
 "nbformat": 4,
 "nbformat_minor": 2
}
