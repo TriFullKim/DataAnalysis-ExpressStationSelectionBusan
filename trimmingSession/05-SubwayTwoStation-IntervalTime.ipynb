{
 "cells": [
  {
   "cell_type": "code",
   "execution_count": 56,
   "metadata": {},
   "outputs": [],
   "source": [
    "import numpy as np\n",
    "import pandas as pd"
   ]
  },
  {
   "cell_type": "code",
   "execution_count": 57,
   "metadata": {},
   "outputs": [],
   "source": [
    "import yaml\n",
    "\n",
    "with open(\"../security.yaml\") as f:\n",
    "    SYS_CONFIG = yaml.safe_load(f)"
   ]
  },
  {
   "cell_type": "markdown",
   "metadata": {},
   "source": [
    "# `SubwayBiStation-IntervalTime.ipynb`\n",
    "> API 정보 - https://www.data.go.kr/tcs/dss/selectApiDataDetailView.do?publicDataPk=15001019#tab_layer_detail_function\\\n",
    "> `소모시간` = 도시철도가 어떤 역에서 다른 역까지 이동하는데 걸리는 순수 시간\\\n",
    "> `정차시간` = 도시철도가 어떤 역에서 도착한 후 정지하여 다음 역으로 출발하기 전 까지의 순수 시간\\\n",
    "> `실질배차간격` = `철도사용자의최악대기시간(환승시간제외)` = 철도사용자가 한 역에서 어떤 열차가 지나가는 것을 보고 다음 열차가 올 때까지의 시간\n",
    "- 두 역에서의 `소모시간`을 데이터\n",
    "- 한 역에서의 `정차시간`을 데이터"
   ]
  },
  {
   "cell_type": "markdown",
   "metadata": {},
   "source": [
    "## 1. `소모시간`, `정차시간` 을 알기 위해 API로 데이터 Loading"
   ]
  },
  {
   "cell_type": "markdown",
   "metadata": {},
   "source": [
    "```py\n",
    "ENCODING        \"EUC-KR\"\n",
    "startSn         출발역명:str\n",
    "startSc\t        출발역코드:int      (ex.신평:101, 안평:414)\n",
    "endSn\t        도착역명:str\n",
    "endSc\t        도착역코드:int      (ex.신평:101, 안평:414)\n",
    "dist\t        이동거리:int        단위:0.1 km (ex 16->1.6 km)\n",
    "time\t        이동시간:int        단위:초(sec)\n",
    "stoppingTime\t정차시간:int        단위:초(sec)\n",
    "exchange        환승구분:str|Null   \"Y\" => 환승역\n",
    "                                   \"N\" => 경전철\n",
    "                                   \"\"(공란) => 일반역```\n"
   ]
  },
  {
   "cell_type": "code",
   "execution_count": 58,
   "metadata": {},
   "outputs": [],
   "source": [
    "# GET API REQ\n",
    "url = \"http://data.humetro.busan.kr/voc/api/open_api_distance.tnn\"\n",
    "params = {\"serviceKey\": SYS_CONFIG[\"API_KEY\"], \"act\": \"json\", \"numOfRows\": 328}\n",
    "\n",
    "import requests\n",
    "\n",
    "response = requests.get(url, params=params)"
   ]
  },
  {
   "cell_type": "code",
   "execution_count": 69,
   "metadata": {},
   "outputs": [],
   "source": [
    "# TRIM AND SAVE REQ\n",
    "import json\n",
    "\n",
    "\n",
    "# SET JSON DECODER\n",
    "# https://stackoverflow.com/questions/45068797/how-to-convert-string-int-json-into-real-int-with-json-loads\n",
    "class Decoder(json.JSONDecoder):\n",
    "    def decode(self, s):\n",
    "        result = super().decode(\n",
    "            s\n",
    "        )  # result = super(Decoder, self).decode(s) for Python 2.x\n",
    "        return self._decode(result)\n",
    "\n",
    "    def _decode(self, o):\n",
    "        if isinstance(o, str):\n",
    "            if o == \"Y\":\n",
    "                return True\n",
    "            elif o == \"N\":\n",
    "                return False\n",
    "            elif o == \"\":\n",
    "                return None\n",
    "\n",
    "            try:\n",
    "                return int(o)\n",
    "            except ValueError:\n",
    "                return o\n",
    "        elif isinstance(o, dict):\n",
    "            return {k: self._decode(v) for k, v in o.items()}\n",
    "        elif isinstance(o, list):\n",
    "            return [self._decode(v) for v in o]\n",
    "        else:\n",
    "            return o"
   ]
  },
  {
   "cell_type": "code",
   "execution_count": 70,
   "metadata": {},
   "outputs": [],
   "source": [
    "# TRIM AND SAVE REQ\n",
    "with open(\n",
    "    \"../trimmed_data/SubwayTwoStation-IntervalTime.json\", mode=\"w\", encoding=\"UTF-8\"\n",
    ") as f:\n",
    "    \"\"\"UTF-8로 저장함.\"\"\"\n",
    "    INTERVAL_TIME_RAW = json.loads(\n",
    "        req := response.content.decode(\"EUC-KR\"), cls=Decoder\n",
    "    )\n",
    "    INTERVAL_TIME_RAW = INTERVAL_TIME_RAW[\"response\"][\"body\"][\"item\"]\n",
    "    json.dump(INTERVAL_TIME_RAW, f, indent=4)"
   ]
  },
  {
   "cell_type": "code",
   "execution_count": 77,
   "metadata": {},
   "outputs": [
    {
     "name": "stdout",
     "output_type": "stream",
     "text": [
      "{'dist': 17, 'endSc': 101, 'endSn': '신평', 'exchange': False, 'startSc': 100, 'startSn': '동매', 'stoppingTime': 30, 'time': 180}\n"
     ]
    }
   ],
   "source": [
    "#LOAD JSON FILE\n",
    "with open(\"../trimmed_data/SubwayTwoStation-IntervalTime.json\",mode=\"r\",encoding=\"UTF-8\") as f:\n",
    "    TIME_INTERVAL =json.load(f)\n",
    "print(TIME_INTERVAL[0])"
   ]
  }
 ],
 "metadata": {
  "kernelspec": {
   "display_name": "py39",
   "language": "python",
   "name": "python3"
  },
  "language_info": {
   "codemirror_mode": {
    "name": "ipython",
    "version": 3
   },
   "file_extension": ".py",
   "mimetype": "text/x-python",
   "name": "python",
   "nbconvert_exporter": "python",
   "pygments_lexer": "ipython3",
   "version": "3.9.19"
  }
 },
 "nbformat": 4,
 "nbformat_minor": 2
}
