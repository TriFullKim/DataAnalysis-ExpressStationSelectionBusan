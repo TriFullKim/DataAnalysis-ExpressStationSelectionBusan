{
 "cells": [
  {
   "cell_type": "code",
   "execution_count": 1,
   "metadata": {},
   "outputs": [],
   "source": [
    "# 지하철역_목록\n",
    "# A010.csv\n",
    "# A001.csv\n",
    "# # 시간별_50M 셀_생활인구\n",
    "# # J002.csv\n",
    "# # 일별_성연령_유입지_생활인구"
   ]
  },
  {
   "cell_type": "markdown",
   "metadata": {},
   "source": [
    "```DATE_YYYYMMDD_GEN   행 데이터 기준\n",
    "CARD_ID             카드식별 번호\n",
    "T_STATUS            승하차 상태\n",
    "EB_ROUTE_NO         EB 노선번호\n",
    "ROUTE_NO            노선번호\n",
    "STN_CD              정류장 코드\n",
    "STN_NM              정류장 명칭\n",
    "TAG_TIME            카드 사용 시간\n",
    "PASSENGER_CNT       탑승인원\n",
    "@ There is no Nullable\n",
    "```"
   ]
  },
  {
   "cell_type": "code",
   "execution_count": 2,
   "metadata": {},
   "outputs": [
    {
     "ename": "NameError",
     "evalue": "name 'df' is not defined",
     "output_type": "error",
     "traceback": [
      "\u001b[0;31m---------------------------------------------------------------------------\u001b[0m",
      "\u001b[0;31mNameError\u001b[0m                                 Traceback (most recent call last)",
      "Cell \u001b[0;32mIn[2], line 19\u001b[0m\n\u001b[1;32m      4\u001b[0m \u001b[38;5;66;03m# path = \"./tp_raw_db/A001.csv\"\u001b[39;00m\n\u001b[1;32m      5\u001b[0m \u001b[38;5;66;03m# df = pd.read_csv(path)\u001b[39;00m\n\u001b[1;32m      7\u001b[0m target_column \u001b[38;5;241m=\u001b[39m [\n\u001b[1;32m      8\u001b[0m     \u001b[38;5;124m\"\u001b[39m\u001b[38;5;124mSTN_NM\u001b[39m\u001b[38;5;124m\"\u001b[39m,\n\u001b[1;32m      9\u001b[0m     \u001b[38;5;124m\"\u001b[39m\u001b[38;5;124mROUTE_NO\u001b[39m\u001b[38;5;124m\"\u001b[39m,\n\u001b[0;32m   (...)\u001b[0m\n\u001b[1;32m     16\u001b[0m     \u001b[38;5;124m\"\u001b[39m\u001b[38;5;124mTAG_TIME\u001b[39m\u001b[38;5;124m\"\u001b[39m,\n\u001b[1;32m     17\u001b[0m ]\n\u001b[0;32m---> 19\u001b[0m df \u001b[38;5;241m=\u001b[39m \u001b[43mdf\u001b[49m\u001b[38;5;241m.\u001b[39mloc[:, target_column]\n\u001b[1;32m     21\u001b[0m \u001b[38;5;66;03m# YYYYMMDD to YYYY*365 + (year of days)\u001b[39;00m\n\u001b[1;32m     22\u001b[0m df\u001b[38;5;241m.\u001b[39mloc[\u001b[38;5;124m\"\u001b[39m\u001b[38;5;124mDATE_YYYYMMDD_GEN\u001b[39m\u001b[38;5;124m\"\u001b[39m] \u001b[38;5;241m=\u001b[39m df\u001b[38;5;241m.\u001b[39mloc[\u001b[38;5;124m\"\u001b[39m\u001b[38;5;124mDATE_YYYYMMDD_GEN\u001b[39m\u001b[38;5;124m\"\u001b[39m]\u001b[38;5;241m.\u001b[39mapply(\n\u001b[1;32m     23\u001b[0m     \u001b[38;5;28;01mlambda\u001b[39;00m _X: util\u001b[38;5;241m.\u001b[39mconvert_to_year_and_day(_X)\n\u001b[1;32m     24\u001b[0m )\n",
      "\u001b[0;31mNameError\u001b[0m: name 'df' is not defined"
     ]
    }
   ],
   "source": [
    "import pandas as pd\n",
    "import util\n",
    "\n",
    "# path = \"./tp_raw_db/A001.csv\"\n",
    "# df = pd.read_csv(path)\n",
    "\n",
    "target_column = [\n",
    "    \"STN_NM\",\n",
    "    \"ROUTE_NO\",\n",
    "    \"EB_ROUTE_NO\",\n",
    "    \"DATE_YYYYMMDD_GEN\",\n",
    "    \"STN_CD\",\n",
    "    \"CARD_ID\",\n",
    "    \"T_STATUS\",\n",
    "    \"PASSENGER_CNT\",\n",
    "    \"TAG_TIME\",\n",
    "]\n",
    "\n",
    "df = df.loc[:, target_column]\n",
    "\n",
    "# YYYYMMDD to YYYY*365 + (year of days)\n",
    "df.loc[\"DATE_YYYYMMDD_GEN\"] = df.loc[\"DATE_YYYYMMDD_GEN\"].apply(\n",
    "    lambda _X: util.convert_to_year_and_day(_X)\n",
    ")\n",
    "\n",
    "# 지하철_요소_조건 =df.loc[:,...]\n",
    "# df = df[지하철_요소_조건]\n",
    "\n",
    "# ready for make O/D\n",
    "df_grouped = df.groupby(by=[\"DATE_YYYYMMDD_GEN\",\"CARD_ID\",\"T_STATUS\"])\n"
   ]
  },
  {
   "cell_type": "code",
   "execution_count": null,
   "metadata": {},
   "outputs": [],
   "source": [
    "# A011\n",
    "path=\"./tp_meta_db/A011.csv\"\n",
    "df = pd.read_csv(path)\n",
    "\n",
    "target_column = [\n",
    "    \"SWST_ID\",\n",
    "    \"TZ_AREA_VAL\",\n",
    "]\n",
    "\n"
   ]
  }
 ],
 "metadata": {
  "kernelspec": {
   "display_name": "py39",
   "language": "python",
   "name": "python3"
  },
  "language_info": {
   "codemirror_mode": {
    "name": "ipython",
    "version": 3
   },
   "file_extension": ".py",
   "mimetype": "text/x-python",
   "name": "python",
   "nbconvert_exporter": "python",
   "pygments_lexer": "ipython3",
   "version": "3.9.19"
  }
 },
 "nbformat": 4,
 "nbformat_minor": 2
}
