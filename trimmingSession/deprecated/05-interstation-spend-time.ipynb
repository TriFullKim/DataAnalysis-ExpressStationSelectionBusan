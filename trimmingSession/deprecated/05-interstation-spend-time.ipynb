{
 "cells": [
  {
   "cell_type": "markdown",
   "metadata": {},
   "source": [
    "# `SubwayBiStation-IntervalTime.ipynb`\n",
    "> API 정보 - https://www.data.go.kr/tcs/dss/selectApiDataDetailView.do?publicDataPk=15001019#tab_layer_detail_function\\\n",
    "> `소모시간` = 도시철도가 어떤 역에서 다른 역까지 이동하는데 걸리는 순수 시간\\\n",
    "> `정차시간` = 도시철도가 어떤 역에서 도착한 후 정지하여 다음 역으로 출발하기 전 까지의 순수 시간\\\n",
    "> `실질배차간격` = `철도사용자의최악대기시간(환승시간제외)` = 철도사용자가 한 역에서 어떤 열차가 지나가는 것을 보고 다음 열차가 올 때까지의 시간\n",
    "- 두 역에서의 `소모시간`을 데이터\n",
    "- 한 역에서의 `정차시간`을 데이터"
   ]
  },
  {
   "cell_type": "code",
   "execution_count": 1,
   "metadata": {},
   "outputs": [],
   "source": [
    "import numpy as np\n",
    "import pandas as pd\n",
    "import json\n",
    "import util"
   ]
  },
  {
   "cell_type": "code",
   "execution_count": 2,
   "metadata": {},
   "outputs": [],
   "source": [
    "import yaml\n",
    "\n",
    "# API KEY 불러오기\n",
    "with open(\"../security.yaml\") as f:\n",
    "    SYS_CONFIG = yaml.safe_load(f)"
   ]
  },
  {
   "cell_type": "markdown",
   "metadata": {},
   "source": [
    "## 1. `소모시간`, `정차시간` 을 알기 위해 API로 데이터 Loading"
   ]
  },
  {
   "cell_type": "markdown",
   "metadata": {},
   "source": [
    "```py\n",
    "ENCODING        \"EUC-KR\"\n",
    "startSn         출발역명:str\n",
    "startSc\t        출발역코드:int      (ex.신평:101, 안평:414)\n",
    "endSn\t        도착역명:str\n",
    "endSc\t        도착역코드:int      (ex.신평:101, 안평:414)\n",
    "dist\t        이동거리:int        단위:0.1 km (ex 16->1.6 km)\n",
    "time\t        이동시간:int        단위:초(sec)\n",
    "stoppingTime\t정차시간:int        단위:초(sec)\n",
    "exchange        환승구분:str|Null   \"Y\" => 환승역\n",
    "                                   \"N\" => 경전철\n",
    "                                   \"\"(공란) => 일반역```\n"
   ]
  },
  {
   "cell_type": "code",
   "execution_count": 3,
   "metadata": {},
   "outputs": [],
   "source": [
    "import requests\n",
    "\n",
    "url = \"http://data.humetro.busan.kr/voc/api/open_api_distance.tnn\"\n",
    "params = {\"serviceKey\": SYS_CONFIG[\"API_KEY\"], \"act\": \"json\", \"numOfRows\": 328}\n",
    "\n",
    "# GET API REQ\n",
    "response = requests.get(url, params=params)"
   ]
  },
  {
   "cell_type": "code",
   "execution_count": 4,
   "metadata": {},
   "outputs": [],
   "source": [
    "# SET custom JSON DECODER (JSON STRING TO PYTHON OBJEC DECODER)\n",
    "# https://stackoverflow.com/questions/45068797/how-to-convert-string-int-json-into-real-int-with-json-loads\n",
    "class Decoder(json.JSONDecoder):\n",
    "    def decode(self, s):\n",
    "        result = super().decode(\n",
    "            s\n",
    "        )  # result = super(Decoder, self).decode(s) for Python 2.x\n",
    "        return self._decode(result)\n",
    "\n",
    "    def _decode(self, o):\n",
    "        # string이면 API에서  Y/N/\"\" 인 경우로 황승역 여부를 뜻함.\n",
    "        if isinstance(o, str):\n",
    "            if o == \"Y\":\n",
    "                return True\n",
    "            elif o == \"N\":\n",
    "                return False\n",
    "            elif o == \"\":\n",
    "                return None\n",
    "\n",
    "            try:\n",
    "                return int(o)\n",
    "            except ValueError:\n",
    "                return o\n",
    "        # 나머지는 지알아서 하는거임 ㅇㅇ\n",
    "        elif isinstance(o, dict):\n",
    "            return {k: self._decode(v) for k, v in o.items()}\n",
    "        elif isinstance(o, list):\n",
    "            return [self._decode(v) for v in o]\n",
    "        else:\n",
    "            return o"
   ]
  },
  {
   "cell_type": "code",
   "execution_count": 5,
   "metadata": {},
   "outputs": [
    {
     "data": {
      "text/plain": [
       "[   dist startSn endSn  exchange  startSc  endSc  stoppingTime  time\n",
       " 0    17      동매    신평     False      100    101            30   180\n",
       " 1    12      동매    장림     False      100     99            20   180\n",
       " 2    17      신평    동매     False      101    100            30   180,\n",
       "     dist startSn endSn  exchange  startSc  endSc  stoppingTime  time\n",
       " 40     1      서면    서면      True      119    219             0   120\n",
       " 50     1      연산    연산      True      123    305             0   180\n",
       " 56     3      동래    동래      True      125    402             0   360]"
      ]
     },
     "execution_count": 5,
     "metadata": {},
     "output_type": "execute_result"
    }
   ],
   "source": [
    "# 따로 정해준 디코더를 통해 API 응답(json)을 파이썬 캑체(dictionary or list)로 만들어줌\n",
    "df_interstation_info = json.loads(req := response.content.decode(\"EUC-KR\"), cls=Decoder)\n",
    "\n",
    "# API 응답만 가져오기\n",
    "df_interstation_info = df_interstation_info[\"response\"][\"body\"][\"item\"]\n",
    "df_interstation_info = pd.DataFrame(df_interstation_info)\n",
    "column_order_like = [\n",
    "    \"dist\",\n",
    "    \"startSn\",\n",
    "    \"endSn\",\n",
    "    \"exchange\",\n",
    "    \"startSc\",\n",
    "    \"endSc\",\n",
    "    \"stoppingTime\",\n",
    "    \"time\",\n",
    "]\n",
    "df_interstation_info = df_interstation_info.loc[:, column_order_like]  #\n",
    "\n",
    "# 지하철 청보만 가져오기\n",
    "subway_column_only_condition = (df_interstation_info[\"startSc\"] < 500) & (\n",
    "    df_interstation_info[\"endSc\"] < 500\n",
    ")\n",
    "df_interstation_info = df_interstation_info[subway_column_only_condition]\n",
    "\n",
    "# 뽑은 정보 저장하기.\n",
    "PATH_INTER_STATION_SPEND_TIME = \"../trimmed_data/IntervalTimeAPI.pickle\"\n",
    "util.savePickle(df_interstation_info, PATH_INTER_STATION_SPEND_TIME)\n",
    "interval_time = util.loadPickle(PATH_INTER_STATION_SPEND_TIME)\n",
    "\n",
    "# 환승정보만 저장하기.\n",
    "PATH_INTER_STATION_EXCHANGE_TIME = \"../trimmed_data/ExchangeTimeAPI.pickle\"\n",
    "df_exchange_time = interval_time[interval_time[\"exchange\"] == True]\n",
    "util.savePickle(df_exchange_time, PATH_INTER_STATION_EXCHANGE_TIME)\n",
    "exchange_time = util.loadPickle(PATH_INTER_STATION_EXCHANGE_TIME)\n",
    "\n",
    "# 체크\n",
    "[interval_time.head(3), exchange_time.head(3)]"
   ]
  },
  {
   "cell_type": "markdown",
   "metadata": {},
   "source": [
    "## 2. 역 to 역 시간 구하기\n",
    "- 시작역, 끝역\n",
    "- 무정차대상역들\n",
    "  - IF 지정X THEN 일반노선에서 소모 시간 RETURN\n",
    "```\n",
    "attributes = [\n",
    "    \"startSn\",\n",
    "    \"startSc\",\n",
    "    \"endSn\",\n",
    "    \"endSc\",\n",
    "    \"dist\",\n",
    "    \"time\",\n",
    "    \"stoppingTime\",\n",
    "    \"exchange\",\n",
    "]\n",
    "```"
   ]
  },
  {
   "cell_type": "code",
   "execution_count": 6,
   "metadata": {},
   "outputs": [],
   "source": [
    "# 그래프를 만들기위함.\n",
    "# time은 간선(vertex) startSc---endSc 의 가중치\n",
    "# stoppingTime은 노드 endSc 의 가중치\n",
    "# 환승역 일 때의 time 환승 시 소요 시간임.\n",
    "def fn_export_subway_graph(_df):\n",
    "    interval_time = _df\n",
    "    subway_graph = interval_time.loc[\n",
    "        :, [\"exchange\", \"startSc\", \"endSc\", \"stoppingTime\", \"time\",\"dist\"]\n",
    "    ]\n",
    "    subway_graph = subway_graph.groupby(by=[\"startSc\", \"endSc\", \"exchange\"]).sum()\n",
    "    print(\n",
    "        \"len(subway_graph) == len(interval_time) : \",\n",
    "        len(subway_graph) == len(interval_time),\n",
    "    )\n",
    "\n",
    "    subway_graph = subway_graph.T.to_dict()\n",
    "    subway_graph_index = list(subway_graph.keys())\n",
    "\n",
    "    # This RETURN ( (환승여부,startSc,endSc), (stoppingTime, time) )\n",
    "    return subway_graph_index, subway_graph\n",
    "\n",
    "\n",
    "def fn_export_exchange_station_index(idx):\n",
    "    # 환승정보역 관계를 갖는 index 추출\n",
    "    exchange_relation_index = []\n",
    "    for _index in idx:\n",
    "        _, _, exchange = _index\n",
    "        if exchange is True:\n",
    "            exchange_relation_index.append(_index)\n",
    "\n",
    "    # This RETURN ( (환승여부,startSc,endSc)\n",
    "    return exchange_relation_index"
   ]
  },
  {
   "cell_type": "code",
   "execution_count": 7,
   "metadata": {},
   "outputs": [
    {
     "name": "stdout",
     "output_type": "stream",
     "text": [
      "len(subway_graph) == len(interval_time) :  True\n",
      "{(95, 96, False): {'stoppingTime': 20, 'time': 180, 'dist': 14}, (96, 95, False): {'stoppingTime': 20, 'time': 180, 'dist': 14}, (96, 97, False): {'stoppingTime': 20, 'time': 120, 'dist': 12}, (97, 96, False): {'stoppingTime': 20, 'time': 120, 'dist': 12}, (97, 98, False): {'stoppingTime': 20, 'time': 120, 'dist': 11}, (98, 97, False): {'stoppingTime': 20, 'time': 120, 'dist': 11}, (98, 99, False): {'stoppingTime': 20, 'time': 120, 'dist': 8}, (99, 98, False): {'stoppingTime': 20, 'time': 120, 'dist': 8}, (99, 100, False): {'stoppingTime': 20, 'time': 180, 'dist': 12}, (100, 99, False): {'stoppingTime': 20, 'time': 180, 'dist': 12}, (100, 101, False): {'stoppingTime': 30, 'time': 180, 'dist': 17}, (101, 100, False): {'stoppingTime': 30, 'time': 180, 'dist': 17}, (101, 102, False): {'stoppingTime': 0, 'time': 140, 'dist': 16}, (102, 101, False): {'stoppingTime': 30, 'time': 150, 'dist': 16}, (102, 103, False): {'stoppingTime': 30, 'time': 70, 'dist': 8}, (103, 102, False): {'stoppingTime': 20, 'time': 75, 'dist': 8}, (103, 104, False): {'stoppingTime': 20, 'time': 80, 'dist': 9}, (104, 103, False): {'stoppingTime': 20, 'time': 80, 'dist': 9}, (104, 105, False): {'stoppingTime': 20, 'time': 75, 'dist': 9}, (105, 104, False): {'stoppingTime': 30, 'time': 80, 'dist': 9}, (105, 106, False): {'stoppingTime': 30, 'time': 65, 'dist': 8}, (106, 105, False): {'stoppingTime': 20, 'time': 70, 'dist': 8}, (106, 107, False): {'stoppingTime': 20, 'time': 110, 'dist': 14}, (107, 106, False): {'stoppingTime': 20, 'time': 105, 'dist': 14}, (107, 108, False): {'stoppingTime': 20, 'time': 125, 'dist': 7}, (108, 107, False): {'stoppingTime': 20, 'time': 130, 'dist': 7}, (108, 109, False): {'stoppingTime': 20, 'time': 115, 'dist': 12}, (109, 108, False): {'stoppingTime': 20, 'time': 125, 'dist': 12}, (109, 110, False): {'stoppingTime': 20, 'time': 110, 'dist': 10}, (110, 109, False): {'stoppingTime': 30, 'time': 110, 'dist': 10}, (110, 111, False): {'stoppingTime': 30, 'time': 65, 'dist': 7}, (111, 110, False): {'stoppingTime': 30, 'time': 65, 'dist': 7}, (111, 112, False): {'stoppingTime': 30, 'time': 80, 'dist': 9}, (112, 111, False): {'stoppingTime': 30, 'time': 80, 'dist': 9}, (112, 113, False): {'stoppingTime': 30, 'time': 80, 'dist': 11}, (113, 112, False): {'stoppingTime': 30, 'time': 80, 'dist': 11}, (113, 114, False): {'stoppingTime': 30, 'time': 70, 'dist': 8}, (114, 113, False): {'stoppingTime': 20, 'time': 75, 'dist': 8}, (114, 115, False): {'stoppingTime': 20, 'time': 70, 'dist': 8}, (115, 114, False): {'stoppingTime': 30, 'time': 65, 'dist': 8}, (115, 116, False): {'stoppingTime': 30, 'time': 75, 'dist': 10}, (116, 115, False): {'stoppingTime': 20, 'time': 80, 'dist': 10}, (116, 117, False): {'stoppingTime': 20, 'time': 85, 'dist': 9}, (117, 116, False): {'stoppingTime': 30, 'time': 85, 'dist': 9}, (117, 118, False): {'stoppingTime': 30, 'time': 65, 'dist': 8}, (118, 117, False): {'stoppingTime': 30, 'time': 70, 'dist': 8}, (118, 119, False): {'stoppingTime': 30, 'time': 100, 'dist': 12}, (119, 118, False): {'stoppingTime': 50, 'time': 85, 'dist': 12}, (119, 120, False): {'stoppingTime': 50, 'time': 65, 'dist': 6}, (119, 219, True): {'stoppingTime': 0, 'time': 120, 'dist': 1}, (120, 119, False): {'stoppingTime': 50, 'time': 65, 'dist': 6}, (120, 121, False): {'stoppingTime': 30, 'time': 95, 'dist': 14}, (121, 120, False): {'stoppingTime': 30, 'time': 95, 'dist': 14}, (121, 122, False): {'stoppingTime': 30, 'time': 70, 'dist': 8}, (122, 121, False): {'stoppingTime': 30, 'time': 75, 'dist': 8}, (122, 123, False): {'stoppingTime': 30, 'time': 75, 'dist': 9}, (123, 122, False): {'stoppingTime': 50, 'time': 75, 'dist': 9}, (123, 124, False): {'stoppingTime': 50, 'time': 85, 'dist': 10}, (123, 305, True): {'stoppingTime': 0, 'time': 180, 'dist': 1}, (124, 123, False): {'stoppingTime': 30, 'time': 85, 'dist': 10}, (124, 125, False): {'stoppingTime': 30, 'time': 85, 'dist': 12}, (125, 124, False): {'stoppingTime': 30, 'time': 90, 'dist': 12}, (125, 126, False): {'stoppingTime': 30, 'time': 70, 'dist': 8}, (125, 402, True): {'stoppingTime': 0, 'time': 360, 'dist': 3}, (126, 125, False): {'stoppingTime': 20, 'time': 75, 'dist': 8}, (126, 127, False): {'stoppingTime': 20, 'time': 85, 'dist': 10}, (127, 126, False): {'stoppingTime': 30, 'time': 85, 'dist': 10}, (127, 128, False): {'stoppingTime': 30, 'time': 85, 'dist': 11}, (128, 127, False): {'stoppingTime': 30, 'time': 85, 'dist': 11}, (128, 129, False): {'stoppingTime': 30, 'time': 80, 'dist': 10}, (129, 128, False): {'stoppingTime': 30, 'time': 80, 'dist': 10}, (129, 130, False): {'stoppingTime': 30, 'time': 95, 'dist': 11}, (130, 129, False): {'stoppingTime': 20, 'time': 85, 'dist': 11}, (130, 131, False): {'stoppingTime': 20, 'time': 90, 'dist': 10}, (131, 130, False): {'stoppingTime': 20, 'time': 85, 'dist': 10}, (131, 132, False): {'stoppingTime': 20, 'time': 75, 'dist': 10}, (132, 131, False): {'stoppingTime': 20, 'time': 70, 'dist': 10}, (132, 133, False): {'stoppingTime': 20, 'time': 85, 'dist': 9}, (133, 132, False): {'stoppingTime': 20, 'time': 80, 'dist': 9}, (133, 134, False): {'stoppingTime': 20, 'time': 125, 'dist': 12}, (134, 133, False): {'stoppingTime': 0, 'time': 110, 'dist': 12}, (201, 202, False): {'stoppingTime': 0, 'time': 90, 'dist': 9}, (202, 201, False): {'stoppingTime': 20, 'time': 105, 'dist': 9}, (202, 203, False): {'stoppingTime': 20, 'time': 80, 'dist': 9}, (203, 202, False): {'stoppingTime': 30, 'time': 85, 'dist': 9}, (203, 204, False): {'stoppingTime': 30, 'time': 105, 'dist': 12}, (204, 203, False): {'stoppingTime': 20, 'time': 105, 'dist': 12}, (204, 205, False): {'stoppingTime': 20, 'time': 95, 'dist': 11}, (205, 204, False): {'stoppingTime': 20, 'time': 95, 'dist': 11}, (205, 206, False): {'stoppingTime': 20, 'time': 80, 'dist': 8}, (206, 205, False): {'stoppingTime': 20, 'time': 85, 'dist': 8}, (206, 207, False): {'stoppingTime': 20, 'time': 100, 'dist': 10}, (207, 206, False): {'stoppingTime': 20, 'time': 100, 'dist': 10}, (207, 208, False): {'stoppingTime': 20, 'time': 135, 'dist': 9}, (208, 207, False): {'stoppingTime': 30, 'time': 125, 'dist': 9}, (208, 209, False): {'stoppingTime': 30, 'time': 75, 'dist': 9}, (208, 301, True): {'stoppingTime': 0, 'time': 180, 'dist': 1}, (209, 208, False): {'stoppingTime': 20, 'time': 80, 'dist': 9}, (209, 210, False): {'stoppingTime': 20, 'time': 80, 'dist': 9}, (210, 209, False): {'stoppingTime': 20, 'time': 75, 'dist': 9}, (210, 211, False): {'stoppingTime': 20, 'time': 85, 'dist': 9}, (211, 210, False): {'stoppingTime': 20, 'time': 85, 'dist': 9}, (211, 212, False): {'stoppingTime': 20, 'time': 75, 'dist': 8}, (212, 211, False): {'stoppingTime': 30, 'time': 75, 'dist': 8}, (212, 213, False): {'stoppingTime': 30, 'time': 75, 'dist': 9}, (213, 212, False): {'stoppingTime': 20, 'time': 75, 'dist': 9}, (213, 214, False): {'stoppingTime': 20, 'time': 70, 'dist': 7}, (214, 213, False): {'stoppingTime': 20, 'time': 70, 'dist': 7}, (214, 215, False): {'stoppingTime': 20, 'time': 85, 'dist': 9}, (215, 214, False): {'stoppingTime': 20, 'time': 90, 'dist': 9}, (215, 216, False): {'stoppingTime': 20, 'time': 95, 'dist': 8}, (216, 215, False): {'stoppingTime': 20, 'time': 90, 'dist': 8}, (216, 217, False): {'stoppingTime': 20, 'time': 80, 'dist': 8}, (217, 216, False): {'stoppingTime': 20, 'time': 80, 'dist': 8}, (217, 218, False): {'stoppingTime': 20, 'time': 80, 'dist': 8}, (218, 217, False): {'stoppingTime': 20, 'time': 85, 'dist': 8}, (218, 219, False): {'stoppingTime': 20, 'time': 115, 'dist': 11}, (219, 119, True): {'stoppingTime': 0, 'time': 120, 'dist': 1}, (219, 218, False): {'stoppingTime': 50, 'time': 115, 'dist': 11}, (219, 220, False): {'stoppingTime': 50, 'time': 80, 'dist': 8}, (220, 219, False): {'stoppingTime': 20, 'time': 80, 'dist': 8}, (220, 221, False): {'stoppingTime': 20, 'time': 75, 'dist': 7}, (221, 220, False): {'stoppingTime': 20, 'time': 75, 'dist': 7}, (221, 222, False): {'stoppingTime': 20, 'time': 80, 'dist': 9}, (222, 221, False): {'stoppingTime': 20, 'time': 80, 'dist': 9}, (222, 223, False): {'stoppingTime': 20, 'time': 90, 'dist': 11}, (223, 222, False): {'stoppingTime': 20, 'time': 90, 'dist': 11}, (223, 224, False): {'stoppingTime': 20, 'time': 85, 'dist': 8}, (224, 223, False): {'stoppingTime': 20, 'time': 90, 'dist': 8}, (224, 225, False): {'stoppingTime': 20, 'time': 75, 'dist': 9}, (225, 224, False): {'stoppingTime': 20, 'time': 75, 'dist': 9}, (225, 226, False): {'stoppingTime': 20, 'time': 105, 'dist': 12}, (226, 225, False): {'stoppingTime': 20, 'time': 105, 'dist': 12}, (226, 227, False): {'stoppingTime': 20, 'time': 105, 'dist': 11}, (227, 226, False): {'stoppingTime': 30, 'time': 105, 'dist': 11}, (227, 228, False): {'stoppingTime': 30, 'time': 105, 'dist': 12}, (228, 227, False): {'stoppingTime': 20, 'time': 110, 'dist': 12}, (228, 229, False): {'stoppingTime': 20, 'time': 75, 'dist': 8}, (229, 228, False): {'stoppingTime': 20, 'time': 75, 'dist': 8}, (229, 230, False): {'stoppingTime': 20, 'time': 85, 'dist': 10}, (230, 229, False): {'stoppingTime': 20, 'time': 90, 'dist': 10}, (230, 231, False): {'stoppingTime': 20, 'time': 95, 'dist': 11}, (231, 230, False): {'stoppingTime': 20, 'time': 90, 'dist': 11}, (231, 232, False): {'stoppingTime': 20, 'time': 75, 'dist': 7}, (232, 231, False): {'stoppingTime': 20, 'time': 75, 'dist': 7}, (232, 233, False): {'stoppingTime': 20, 'time': 130, 'dist': 12}, (233, 232, False): {'stoppingTime': 30, 'time': 125, 'dist': 12}, (233, 234, False): {'stoppingTime': 30, 'time': 125, 'dist': 15}, (233, 313, True): {'stoppingTime': 0, 'time': 180, 'dist': 1}, (234, 233, False): {'stoppingTime': 20, 'time': 125, 'dist': 15}, (234, 235, False): {'stoppingTime': 20, 'time': 130, 'dist': 15}, (235, 234, False): {'stoppingTime': 30, 'time': 125, 'dist': 15}, (235, 236, False): {'stoppingTime': 30, 'time': 100, 'dist': 12}, (236, 235, False): {'stoppingTime': 20, 'time': 95, 'dist': 12}, (236, 237, False): {'stoppingTime': 20, 'time': 105, 'dist': 15}, (237, 236, False): {'stoppingTime': 20, 'time': 105, 'dist': 15}, (237, 238, False): {'stoppingTime': 20, 'time': 85, 'dist': 10}, (238, 237, False): {'stoppingTime': 20, 'time': 85, 'dist': 10}, (238, 239, False): {'stoppingTime': 20, 'time': 145, 'dist': 15}, (239, 238, False): {'stoppingTime': 0, 'time': 130, 'dist': 15}, (239, 240, False): {'stoppingTime': 20, 'time': 280, 'dist': 35}, (240, 239, False): {'stoppingTime': 0, 'time': 280, 'dist': 35}, (240, 241, False): {'stoppingTime': 0, 'time': 90, 'dist': 10}, (241, 240, False): {'stoppingTime': 0, 'time': 90, 'dist': 10}, (241, 242, False): {'stoppingTime': 0, 'time': 100, 'dist': 11}, (242, 241, False): {'stoppingTime': 30, 'time': 100, 'dist': 11}, (242, 243, False): {'stoppingTime': 30, 'time': 140, 'dist': 16}, (243, 242, False): {'stoppingTime': 0, 'time': 140, 'dist': 16}, (301, 208, True): {'stoppingTime': 0, 'time': 180, 'dist': 1}, (301, 302, False): {'stoppingTime': 20, 'time': 120, 'dist': 10}, (302, 301, False): {'stoppingTime': 20, 'time': 125, 'dist': 10}, (302, 303, False): {'stoppingTime': 20, 'time': 90, 'dist': 12}, (303, 302, False): {'stoppingTime': 20, 'time': 100, 'dist': 12}, (303, 304, False): {'stoppingTime': 20, 'time': 115, 'dist': 11}, (304, 303, False): {'stoppingTime': 20, 'time': 105, 'dist': 11}, (304, 305, False): {'stoppingTime': 20, 'time': 95, 'dist': 11}, (305, 123, True): {'stoppingTime': 0, 'time': 180, 'dist': 1}, (305, 304, False): {'stoppingTime': 50, 'time': 100, 'dist': 11}, (305, 306, False): {'stoppingTime': 50, 'time': 70, 'dist': 7}, (306, 305, False): {'stoppingTime': 20, 'time': 75, 'dist': 7}, (306, 307, False): {'stoppingTime': 20, 'time': 70, 'dist': 7}, (307, 306, False): {'stoppingTime': 30, 'time': 75, 'dist': 7}, (307, 308, False): {'stoppingTime': 30, 'time': 80, 'dist': 8}, (308, 307, False): {'stoppingTime': 20, 'time': 85, 'dist': 8}, (308, 309, False): {'stoppingTime': 20, 'time': 95, 'dist': 8}, (309, 308, False): {'stoppingTime': 30, 'time': 95, 'dist': 8}, (309, 310, False): {'stoppingTime': 30, 'time': 230, 'dist': 33}, (309, 401, True): {'stoppingTime': 0, 'time': 240, 'dist': 2}, (310, 309, False): {'stoppingTime': 20, 'time': 235, 'dist': 33}, (310, 311, False): {'stoppingTime': 20, 'time': 100, 'dist': 11}, (311, 310, False): {'stoppingTime': 20, 'time': 95, 'dist': 11}, (311, 312, False): {'stoppingTime': 20, 'time': 85, 'dist': 10}, (312, 311, False): {'stoppingTime': 20, 'time': 85, 'dist': 10}, (312, 313, False): {'stoppingTime': 20, 'time': 70, 'dist': 7}, (313, 233, True): {'stoppingTime': 0, 'time': 180, 'dist': 1}, (313, 312, False): {'stoppingTime': 50, 'time': 65, 'dist': 7}, (313, 314, False): {'stoppingTime': 50, 'time': 110, 'dist': 11}, (314, 313, False): {'stoppingTime': 20, 'time': 120, 'dist': 11}, (314, 315, False): {'stoppingTime': 20, 'time': 145, 'dist': 16}, (315, 314, False): {'stoppingTime': 20, 'time': 135, 'dist': 16}, (315, 316, False): {'stoppingTime': 20, 'time': 90, 'dist': 11}, (316, 315, False): {'stoppingTime': 20, 'time': 90, 'dist': 11}, (316, 317, False): {'stoppingTime': 20, 'time': 95, 'dist': 8}, (317, 316, False): {'stoppingTime': 0, 'time': 75, 'dist': 8}, (401, 309, True): {'stoppingTime': 0, 'time': 240, 'dist': 2}, (401, 402, False): {'stoppingTime': 25, 'time': 105, 'dist': 10}, (402, 125, True): {'stoppingTime': 0, 'time': 360, 'dist': 3}, (402, 401, False): {'stoppingTime': 25, 'time': 110, 'dist': 10}, (402, 403, False): {'stoppingTime': 25, 'time': 70, 'dist': 7}, (403, 402, False): {'stoppingTime': 20, 'time': 70, 'dist': 7}, (403, 404, False): {'stoppingTime': 20, 'time': 70, 'dist': 7}, (404, 403, False): {'stoppingTime': 20, 'time': 70, 'dist': 7}, (404, 405, False): {'stoppingTime': 20, 'time': 80, 'dist': 7}, (405, 404, False): {'stoppingTime': 20, 'time': 80, 'dist': 7}, (405, 406, False): {'stoppingTime': 20, 'time': 75, 'dist': 7}, (406, 405, False): {'stoppingTime': 20, 'time': 70, 'dist': 7}, (406, 407, False): {'stoppingTime': 20, 'time': 115, 'dist': 10}, (407, 406, False): {'stoppingTime': 20, 'time': 115, 'dist': 10}, (407, 408, False): {'stoppingTime': 20, 'time': 80, 'dist': 8}, (408, 407, False): {'stoppingTime': 20, 'time': 85, 'dist': 8}, (408, 409, False): {'stoppingTime': 20, 'time': 80, 'dist': 8}, (409, 408, False): {'stoppingTime': 20, 'time': 80, 'dist': 8}, (409, 410, False): {'stoppingTime': 20, 'time': 105, 'dist': 12}, (410, 409, False): {'stoppingTime': 20, 'time': 105, 'dist': 12}, (410, 411, False): {'stoppingTime': 20, 'time': 120, 'dist': 14}, (411, 410, False): {'stoppingTime': 20, 'time': 120, 'dist': 14}, (411, 412, False): {'stoppingTime': 20, 'time': 105, 'dist': 11}, (412, 411, False): {'stoppingTime': 20, 'time': 105, 'dist': 11}, (412, 413, False): {'stoppingTime': 20, 'time': 80, 'dist': 8}, (413, 412, False): {'stoppingTime': 20, 'time': 80, 'dist': 8}, (413, 414, False): {'stoppingTime': 20, 'time': 110, 'dist': 11}, (414, 413, False): {'stoppingTime': 30, 'time': 105, 'dist': 11}}\n",
      "(119, 219, True) (123, 305, True) (125, 402, True) (208, 301, True) (219, 119, True) (233, 313, True) (301, 208, True) (305, 123, True) (309, 401, True) (313, 233, True) (401, 309, True) (402, 125, True)\n",
      "{(95, 96, False): {'stoppingTime': 20, 'time': 180, 'dist': 14}, (96, 95, False): {'stoppingTime': 20, 'time': 180, 'dist': 14}, (96, 97, False): {'stoppingTime': 20, 'time': 120, 'dist': 12}, (97, 96, False): {'stoppingTime': 20, 'time': 120, 'dist': 12}, (97, 98, False): {'stoppingTime': 20, 'time': 120, 'dist': 11}, (98, 97, False): {'stoppingTime': 20, 'time': 120, 'dist': 11}, (98, 99, False): {'stoppingTime': 20, 'time': 120, 'dist': 8}, (99, 98, False): {'stoppingTime': 20, 'time': 120, 'dist': 8}, (99, 100, False): {'stoppingTime': 20, 'time': 180, 'dist': 12}, (100, 99, False): {'stoppingTime': 20, 'time': 180, 'dist': 12}, (100, 101, False): {'stoppingTime': 30, 'time': 180, 'dist': 17}, (101, 100, False): {'stoppingTime': 30, 'time': 180, 'dist': 17}, (101, 102, False): {'stoppingTime': 0, 'time': 140, 'dist': 16}, (102, 101, False): {'stoppingTime': 30, 'time': 150, 'dist': 16}, (102, 103, False): {'stoppingTime': 30, 'time': 70, 'dist': 8}, (103, 102, False): {'stoppingTime': 20, 'time': 75, 'dist': 8}, (103, 104, False): {'stoppingTime': 20, 'time': 80, 'dist': 9}, (104, 103, False): {'stoppingTime': 20, 'time': 80, 'dist': 9}, (104, 105, False): {'stoppingTime': 20, 'time': 75, 'dist': 9}, (105, 104, False): {'stoppingTime': 30, 'time': 80, 'dist': 9}, (105, 106, False): {'stoppingTime': 30, 'time': 65, 'dist': 8}, (106, 105, False): {'stoppingTime': 20, 'time': 70, 'dist': 8}, (106, 107, False): {'stoppingTime': 20, 'time': 110, 'dist': 14}, (107, 106, False): {'stoppingTime': 20, 'time': 105, 'dist': 14}, (107, 108, False): {'stoppingTime': 20, 'time': 125, 'dist': 7}, (108, 107, False): {'stoppingTime': 20, 'time': 130, 'dist': 7}, (108, 109, False): {'stoppingTime': 20, 'time': 115, 'dist': 12}, (109, 108, False): {'stoppingTime': 20, 'time': 125, 'dist': 12}, (109, 110, False): {'stoppingTime': 20, 'time': 110, 'dist': 10}, (110, 109, False): {'stoppingTime': 30, 'time': 110, 'dist': 10}, (110, 111, False): {'stoppingTime': 30, 'time': 65, 'dist': 7}, (111, 110, False): {'stoppingTime': 30, 'time': 65, 'dist': 7}, (111, 112, False): {'stoppingTime': 30, 'time': 80, 'dist': 9}, (112, 111, False): {'stoppingTime': 30, 'time': 80, 'dist': 9}, (112, 113, False): {'stoppingTime': 30, 'time': 80, 'dist': 11}, (113, 112, False): {'stoppingTime': 30, 'time': 80, 'dist': 11}, (113, 114, False): {'stoppingTime': 30, 'time': 70, 'dist': 8}, (114, 113, False): {'stoppingTime': 20, 'time': 75, 'dist': 8}, (114, 115, False): {'stoppingTime': 20, 'time': 70, 'dist': 8}, (115, 114, False): {'stoppingTime': 30, 'time': 65, 'dist': 8}, (115, 116, False): {'stoppingTime': 30, 'time': 75, 'dist': 10}, (116, 115, False): {'stoppingTime': 20, 'time': 80, 'dist': 10}, (116, 117, False): {'stoppingTime': 20, 'time': 85, 'dist': 9}, (117, 116, False): {'stoppingTime': 30, 'time': 85, 'dist': 9}, (117, 118, False): {'stoppingTime': 30, 'time': 65, 'dist': 8}, (118, 117, False): {'stoppingTime': 30, 'time': 70, 'dist': 8}, (118, 119, False): {'stoppingTime': 30, 'time': 100, 'dist': 12}, (119, 118, False): {'stoppingTime': 50, 'time': 85, 'dist': 12}, (119, 120, False): {'stoppingTime': 50, 'time': 65, 'dist': 6}, (119, 219, True): {'stoppingTime': 0, 'time': 120, 'dist': 1}, (120, 119, False): {'stoppingTime': 50, 'time': 65, 'dist': 6}, (120, 121, False): {'stoppingTime': 30, 'time': 95, 'dist': 14}, (121, 120, False): {'stoppingTime': 30, 'time': 95, 'dist': 14}, (121, 122, False): {'stoppingTime': 30, 'time': 70, 'dist': 8}, (122, 121, False): {'stoppingTime': 30, 'time': 75, 'dist': 8}, (122, 123, False): {'stoppingTime': 30, 'time': 75, 'dist': 9}, (123, 122, False): {'stoppingTime': 50, 'time': 75, 'dist': 9}, (123, 124, False): {'stoppingTime': 50, 'time': 85, 'dist': 10}, (123, 305, True): {'stoppingTime': 0, 'time': 180, 'dist': 1}, (124, 123, False): {'stoppingTime': 30, 'time': 85, 'dist': 10}, (124, 125, False): {'stoppingTime': 30, 'time': 85, 'dist': 12}, (125, 124, False): {'stoppingTime': 30, 'time': 90, 'dist': 12}, (125, 126, False): {'stoppingTime': 30, 'time': 70, 'dist': 8}, (125, 402, True): {'stoppingTime': 0, 'time': 360, 'dist': 3}, (126, 125, False): {'stoppingTime': 20, 'time': 75, 'dist': 8}, (126, 127, False): {'stoppingTime': 20, 'time': 85, 'dist': 10}, (127, 126, False): {'stoppingTime': 30, 'time': 85, 'dist': 10}, (127, 128, False): {'stoppingTime': 30, 'time': 85, 'dist': 11}, (128, 127, False): {'stoppingTime': 30, 'time': 85, 'dist': 11}, (128, 129, False): {'stoppingTime': 30, 'time': 80, 'dist': 10}, (129, 128, False): {'stoppingTime': 30, 'time': 80, 'dist': 10}, (129, 130, False): {'stoppingTime': 30, 'time': 95, 'dist': 11}, (130, 129, False): {'stoppingTime': 20, 'time': 85, 'dist': 11}, (130, 131, False): {'stoppingTime': 20, 'time': 90, 'dist': 10}, (131, 130, False): {'stoppingTime': 20, 'time': 85, 'dist': 10}, (131, 132, False): {'stoppingTime': 20, 'time': 75, 'dist': 10}, (132, 131, False): {'stoppingTime': 20, 'time': 70, 'dist': 10}, (132, 133, False): {'stoppingTime': 20, 'time': 85, 'dist': 9}, (133, 132, False): {'stoppingTime': 20, 'time': 80, 'dist': 9}, (133, 134, False): {'stoppingTime': 20, 'time': 125, 'dist': 12}, (134, 133, False): {'stoppingTime': 0, 'time': 110, 'dist': 12}, (201, 202, False): {'stoppingTime': 0, 'time': 90, 'dist': 9}, (202, 201, False): {'stoppingTime': 20, 'time': 105, 'dist': 9}, (202, 203, False): {'stoppingTime': 20, 'time': 80, 'dist': 9}, (203, 202, False): {'stoppingTime': 30, 'time': 85, 'dist': 9}, (203, 204, False): {'stoppingTime': 30, 'time': 105, 'dist': 12}, (204, 203, False): {'stoppingTime': 20, 'time': 105, 'dist': 12}, (204, 205, False): {'stoppingTime': 20, 'time': 95, 'dist': 11}, (205, 204, False): {'stoppingTime': 20, 'time': 95, 'dist': 11}, (205, 206, False): {'stoppingTime': 20, 'time': 80, 'dist': 8}, (206, 205, False): {'stoppingTime': 20, 'time': 85, 'dist': 8}, (206, 207, False): {'stoppingTime': 20, 'time': 100, 'dist': 10}, (207, 206, False): {'stoppingTime': 20, 'time': 100, 'dist': 10}, (207, 208, False): {'stoppingTime': 20, 'time': 135, 'dist': 9}, (208, 207, False): {'stoppingTime': 30, 'time': 125, 'dist': 9}, (208, 209, False): {'stoppingTime': 30, 'time': 75, 'dist': 9}, (208, 301, True): {'stoppingTime': 0, 'time': 180, 'dist': 1}, (209, 208, False): {'stoppingTime': 20, 'time': 80, 'dist': 9}, (209, 210, False): {'stoppingTime': 20, 'time': 80, 'dist': 9}, (210, 209, False): {'stoppingTime': 20, 'time': 75, 'dist': 9}, (210, 211, False): {'stoppingTime': 20, 'time': 85, 'dist': 9}, (211, 210, False): {'stoppingTime': 20, 'time': 85, 'dist': 9}, (211, 212, False): {'stoppingTime': 20, 'time': 75, 'dist': 8}, (212, 211, False): {'stoppingTime': 30, 'time': 75, 'dist': 8}, (212, 213, False): {'stoppingTime': 30, 'time': 75, 'dist': 9}, (213, 212, False): {'stoppingTime': 20, 'time': 75, 'dist': 9}, (213, 214, False): {'stoppingTime': 20, 'time': 70, 'dist': 7}, (214, 213, False): {'stoppingTime': 20, 'time': 70, 'dist': 7}, (214, 215, False): {'stoppingTime': 20, 'time': 85, 'dist': 9}, (215, 214, False): {'stoppingTime': 20, 'time': 90, 'dist': 9}, (215, 216, False): {'stoppingTime': 20, 'time': 95, 'dist': 8}, (216, 215, False): {'stoppingTime': 20, 'time': 90, 'dist': 8}, (216, 217, False): {'stoppingTime': 20, 'time': 80, 'dist': 8}, (217, 216, False): {'stoppingTime': 20, 'time': 80, 'dist': 8}, (217, 218, False): {'stoppingTime': 20, 'time': 80, 'dist': 8}, (218, 217, False): {'stoppingTime': 20, 'time': 85, 'dist': 8}, (218, 219, False): {'stoppingTime': 20, 'time': 115, 'dist': 11}, (219, 119, True): {'stoppingTime': 0, 'time': 120, 'dist': 1}, (219, 218, False): {'stoppingTime': 50, 'time': 115, 'dist': 11}, (219, 220, False): {'stoppingTime': 50, 'time': 80, 'dist': 8}, (220, 219, False): {'stoppingTime': 20, 'time': 80, 'dist': 8}, (220, 221, False): {'stoppingTime': 20, 'time': 75, 'dist': 7}, (221, 220, False): {'stoppingTime': 20, 'time': 75, 'dist': 7}, (221, 222, False): {'stoppingTime': 20, 'time': 80, 'dist': 9}, (222, 221, False): {'stoppingTime': 20, 'time': 80, 'dist': 9}, (222, 223, False): {'stoppingTime': 20, 'time': 90, 'dist': 11}, (223, 222, False): {'stoppingTime': 20, 'time': 90, 'dist': 11}, (223, 224, False): {'stoppingTime': 20, 'time': 85, 'dist': 8}, (224, 223, False): {'stoppingTime': 20, 'time': 90, 'dist': 8}, (224, 225, False): {'stoppingTime': 20, 'time': 75, 'dist': 9}, (225, 224, False): {'stoppingTime': 20, 'time': 75, 'dist': 9}, (225, 226, False): {'stoppingTime': 20, 'time': 105, 'dist': 12}, (226, 225, False): {'stoppingTime': 20, 'time': 105, 'dist': 12}, (226, 227, False): {'stoppingTime': 20, 'time': 105, 'dist': 11}, (227, 226, False): {'stoppingTime': 30, 'time': 105, 'dist': 11}, (227, 228, False): {'stoppingTime': 30, 'time': 105, 'dist': 12}, (228, 227, False): {'stoppingTime': 20, 'time': 110, 'dist': 12}, (228, 229, False): {'stoppingTime': 20, 'time': 75, 'dist': 8}, (229, 228, False): {'stoppingTime': 20, 'time': 75, 'dist': 8}, (229, 230, False): {'stoppingTime': 20, 'time': 85, 'dist': 10}, (230, 229, False): {'stoppingTime': 20, 'time': 90, 'dist': 10}, (230, 231, False): {'stoppingTime': 20, 'time': 95, 'dist': 11}, (231, 230, False): {'stoppingTime': 20, 'time': 90, 'dist': 11}, (231, 232, False): {'stoppingTime': 20, 'time': 75, 'dist': 7}, (232, 231, False): {'stoppingTime': 20, 'time': 75, 'dist': 7}, (232, 233, False): {'stoppingTime': 20, 'time': 130, 'dist': 12}, (233, 232, False): {'stoppingTime': 30, 'time': 125, 'dist': 12}, (233, 234, False): {'stoppingTime': 30, 'time': 125, 'dist': 15}, (233, 313, True): {'stoppingTime': 0, 'time': 180, 'dist': 1}, (234, 233, False): {'stoppingTime': 20, 'time': 125, 'dist': 15}, (234, 235, False): {'stoppingTime': 20, 'time': 130, 'dist': 15}, (235, 234, False): {'stoppingTime': 30, 'time': 125, 'dist': 15}, (235, 236, False): {'stoppingTime': 30, 'time': 100, 'dist': 12}, (236, 235, False): {'stoppingTime': 20, 'time': 95, 'dist': 12}, (236, 237, False): {'stoppingTime': 20, 'time': 105, 'dist': 15}, (237, 236, False): {'stoppingTime': 20, 'time': 105, 'dist': 15}, (237, 238, False): {'stoppingTime': 20, 'time': 85, 'dist': 10}, (238, 237, False): {'stoppingTime': 20, 'time': 85, 'dist': 10}, (238, 239, False): {'stoppingTime': 20, 'time': 145, 'dist': 15}, (239, 238, False): {'stoppingTime': 0, 'time': 130, 'dist': 15}, (239, 240, False): {'stoppingTime': 20, 'time': 280, 'dist': 35}, (240, 239, False): {'stoppingTime': 0, 'time': 280, 'dist': 35}, (240, 241, False): {'stoppingTime': 0, 'time': 90, 'dist': 10}, (241, 240, False): {'stoppingTime': 0, 'time': 90, 'dist': 10}, (241, 242, False): {'stoppingTime': 0, 'time': 100, 'dist': 11}, (242, 241, False): {'stoppingTime': 30, 'time': 100, 'dist': 11}, (242, 243, False): {'stoppingTime': 30, 'time': 140, 'dist': 16}, (243, 242, False): {'stoppingTime': 0, 'time': 140, 'dist': 16}, (301, 208, True): {'stoppingTime': 0, 'time': 180, 'dist': 1}, (301, 302, False): {'stoppingTime': 20, 'time': 120, 'dist': 10}, (302, 301, False): {'stoppingTime': 20, 'time': 125, 'dist': 10}, (302, 303, False): {'stoppingTime': 20, 'time': 90, 'dist': 12}, (303, 302, False): {'stoppingTime': 20, 'time': 100, 'dist': 12}, (303, 304, False): {'stoppingTime': 20, 'time': 115, 'dist': 11}, (304, 303, False): {'stoppingTime': 20, 'time': 105, 'dist': 11}, (304, 305, False): {'stoppingTime': 20, 'time': 95, 'dist': 11}, (305, 123, True): {'stoppingTime': 0, 'time': 180, 'dist': 1}, (305, 304, False): {'stoppingTime': 50, 'time': 100, 'dist': 11}, (305, 306, False): {'stoppingTime': 50, 'time': 70, 'dist': 7}, (306, 305, False): {'stoppingTime': 20, 'time': 75, 'dist': 7}, (306, 307, False): {'stoppingTime': 20, 'time': 70, 'dist': 7}, (307, 306, False): {'stoppingTime': 30, 'time': 75, 'dist': 7}, (307, 308, False): {'stoppingTime': 30, 'time': 80, 'dist': 8}, (308, 307, False): {'stoppingTime': 20, 'time': 85, 'dist': 8}, (308, 309, False): {'stoppingTime': 20, 'time': 95, 'dist': 8}, (309, 308, False): {'stoppingTime': 30, 'time': 95, 'dist': 8}, (309, 310, False): {'stoppingTime': 30, 'time': 230, 'dist': 33}, (309, 401, True): {'stoppingTime': 0, 'time': 240, 'dist': 2}, (310, 309, False): {'stoppingTime': 20, 'time': 235, 'dist': 33}, (310, 311, False): {'stoppingTime': 20, 'time': 100, 'dist': 11}, (311, 310, False): {'stoppingTime': 20, 'time': 95, 'dist': 11}, (311, 312, False): {'stoppingTime': 20, 'time': 85, 'dist': 10}, (312, 311, False): {'stoppingTime': 20, 'time': 85, 'dist': 10}, (312, 313, False): {'stoppingTime': 20, 'time': 70, 'dist': 7}, (313, 233, True): {'stoppingTime': 0, 'time': 180, 'dist': 1}, (313, 312, False): {'stoppingTime': 50, 'time': 65, 'dist': 7}, (313, 314, False): {'stoppingTime': 50, 'time': 110, 'dist': 11}, (314, 313, False): {'stoppingTime': 20, 'time': 120, 'dist': 11}, (314, 315, False): {'stoppingTime': 20, 'time': 145, 'dist': 16}, (315, 314, False): {'stoppingTime': 20, 'time': 135, 'dist': 16}, (315, 316, False): {'stoppingTime': 20, 'time': 90, 'dist': 11}, (316, 315, False): {'stoppingTime': 20, 'time': 90, 'dist': 11}, (316, 317, False): {'stoppingTime': 20, 'time': 95, 'dist': 8}, (317, 316, False): {'stoppingTime': 0, 'time': 75, 'dist': 8}, (401, 309, True): {'stoppingTime': 0, 'time': 240, 'dist': 2}, (401, 402, False): {'stoppingTime': 25, 'time': 105, 'dist': 10}, (402, 125, True): {'stoppingTime': 0, 'time': 360, 'dist': 3}, (402, 401, False): {'stoppingTime': 25, 'time': 110, 'dist': 10}, (402, 403, False): {'stoppingTime': 25, 'time': 70, 'dist': 7}, (403, 402, False): {'stoppingTime': 20, 'time': 70, 'dist': 7}, (403, 404, False): {'stoppingTime': 20, 'time': 70, 'dist': 7}, (404, 403, False): {'stoppingTime': 20, 'time': 70, 'dist': 7}, (404, 405, False): {'stoppingTime': 20, 'time': 80, 'dist': 7}, (405, 404, False): {'stoppingTime': 20, 'time': 80, 'dist': 7}, (405, 406, False): {'stoppingTime': 20, 'time': 75, 'dist': 7}, (406, 405, False): {'stoppingTime': 20, 'time': 70, 'dist': 7}, (406, 407, False): {'stoppingTime': 20, 'time': 115, 'dist': 10}, (407, 406, False): {'stoppingTime': 20, 'time': 115, 'dist': 10}, (407, 408, False): {'stoppingTime': 20, 'time': 80, 'dist': 8}, (408, 407, False): {'stoppingTime': 20, 'time': 85, 'dist': 8}, (408, 409, False): {'stoppingTime': 20, 'time': 80, 'dist': 8}, (409, 408, False): {'stoppingTime': 20, 'time': 80, 'dist': 8}, (409, 410, False): {'stoppingTime': 20, 'time': 105, 'dist': 12}, (410, 409, False): {'stoppingTime': 20, 'time': 105, 'dist': 12}, (410, 411, False): {'stoppingTime': 20, 'time': 120, 'dist': 14}, (411, 410, False): {'stoppingTime': 20, 'time': 120, 'dist': 14}, (411, 412, False): {'stoppingTime': 20, 'time': 105, 'dist': 11}, (412, 411, False): {'stoppingTime': 20, 'time': 105, 'dist': 11}, (412, 413, False): {'stoppingTime': 20, 'time': 80, 'dist': 8}, (413, 412, False): {'stoppingTime': 20, 'time': 80, 'dist': 8}, (413, 414, False): {'stoppingTime': 20, 'time': 110, 'dist': 11}, (414, 413, False): {'stoppingTime': 30, 'time': 105, 'dist': 11}}\n"
     ]
    }
   ],
   "source": [
    "df = util.loadPickle(util.PATH_INTER_STATION_SPEND_TIME)\n",
    "subway_graph_index, subway_graph = fn_export_subway_graph(df)\n",
    "print(subway_graph)\n",
    "exchange_relation_index = fn_export_exchange_station_index(idx=subway_graph_index)\n",
    "\n",
    "print(*exchange_relation_index)\n",
    "print(subway_graph)"
   ]
  }
 ],
 "metadata": {
  "kernelspec": {
   "display_name": "py39",
   "language": "python",
   "name": "python3"
  },
  "language_info": {
   "codemirror_mode": {
    "name": "ipython",
    "version": 3
   },
   "file_extension": ".py",
   "mimetype": "text/x-python",
   "name": "python",
   "nbconvert_exporter": "python",
   "pygments_lexer": "ipython3",
   "version": "3.9.19"
  }
 },
 "nbformat": 4,
 "nbformat_minor": 2
}
