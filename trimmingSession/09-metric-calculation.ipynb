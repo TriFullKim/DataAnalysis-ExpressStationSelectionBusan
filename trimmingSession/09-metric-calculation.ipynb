{
 "cells": [
  {
   "cell_type": "code",
   "execution_count": 3,
   "metadata": {},
   "outputs": [],
   "source": [
    "import pandas as pd\n",
    "from tqdm.auto import tqdm\n",
    "from util import *\n",
    "from stationUtil import *\n",
    "from graph import *\n",
    "from glob import glob"
   ]
  },
  {
   "cell_type": "code",
   "execution_count": 4,
   "metadata": {},
   "outputs": [
    {
     "data": {
      "text/plain": [
       "91"
      ]
     },
     "execution_count": 4,
     "metadata": {},
     "output_type": "execute_result"
    }
   ],
   "source": [
    "# DEMAND_GRAPH_PATH = \"../trimmed_data/demand_graph.pickle\"\n",
    "# demand = loadPickle(DEMAND_GRAPH_PATH)\n",
    "f_list = glob(\"../trimmed_data/A001_20*.csv.*\")\n",
    "demand = [loadPickle(p) for p in f_list]\n",
    "demand[0].keys().__len__()\n",
    "demand[0][(95,302)]"
   ]
  },
  {
   "cell_type": "code",
   "execution_count": 5,
   "metadata": {},
   "outputs": [
    {
     "data": {
      "text/plain": [
       "(4547.9284707102415, 41435.181818181816)"
      ]
     },
     "execution_count": 5,
     "metadata": {},
     "output_type": "execute_result"
    }
   ],
   "source": [
    "# 아무것도 제외 하지 않으면 완행열차와 동일하다.\n",
    "UNITFACTOR_P1KM_TO_1KM = 1 / 10\n",
    "UNITFACTOR_1SEC_TO_1HOUR = 1 / 3600\n",
    "EXCLUDE_STATION = []\n",
    "g_time = time_weight_graph(exclude_list=EXCLUDE_STATION)\n",
    "g_dist = dist_weight_graph()\n",
    "\n",
    "sCode_start, sCode_end = 95, 301\n",
    "calc_total_path_weight(g_time, sCode_start, sCode_end), calc_total_path_weight(\n",
    "    g_dist, sCode_start, sCode_end\n",
    ") * sum([d[(95,302)] for d in demand]) / len(demand)  # (Second, 0.1km)"
   ]
  },
  {
   "cell_type": "code",
   "execution_count": 6,
   "metadata": {},
   "outputs": [
    {
     "data": {
      "text/plain": [
       "True"
      ]
     },
     "execution_count": 6,
     "metadata": {},
     "output_type": "execute_result"
    }
   ],
   "source": [
    "def od_metric(scode_start, scode_end):\n",
    "    month_size = len(demand)\n",
    "    d_list = []\n",
    "    for d in demand:\n",
    "        try:\n",
    "            d_list.append(d[(scode_start, scode_end)])\n",
    "        except:\n",
    "            continue\n",
    "    return sum(d_list)/month_size\n",
    "\n",
    "def unit_tranfer_flux_metric(scode_start, scode_end, g_dist=g_dist):\n",
    "    path_dist = (\n",
    "        calc_total_path_weight(g_dist, scode_start, scode_end) * UNITFACTOR_P1KM_TO_1KM\n",
    "    )\n",
    "    path_od = od_metric(scode_start, scode_end)\n",
    "    return (path_dist, path_od)\n",
    "\n",
    "od_metric(95,302) == sum([d[(95,302)] for d in demand]) / len(demand)"
   ]
  },
  {
   "cell_type": "code",
   "execution_count": 13,
   "metadata": {},
   "outputs": [
    {
     "name": "stderr",
     "output_type": "stream",
     "text": [
      "  0%|          | 0/114 [00:00<?, ?it/s]"
     ]
    },
    {
     "name": "stderr",
     "output_type": "stream",
     "text": [
      "100%|██████████| 114/114 [00:00<00:00, 123.18it/s]\n",
      "100%|██████████| 114/114 [00:00<00:00, 5206.63it/s]"
     ]
    },
    {
     "name": "stdout",
     "output_type": "stream",
     "text": [
      "12882\n"
     ]
    },
    {
     "name": "stderr",
     "output_type": "stream",
     "text": [
      "\n"
     ]
    }
   ],
   "source": [
    "# Calc Flux Metric\n",
    "dist = {}\n",
    "od = {}\n",
    "flux_metric = {}\n",
    "s_namecode = loadPickle(\"../trimmed_data/stationNameCode.pickel\").values()\n",
    "s_namecode = set(s_namecode)\n",
    "\n",
    "for target_scode in tqdm(s_namecode):\n",
    "    for calc_scode in s_namecode:\n",
    "        if target_scode == calc_scode:\n",
    "            continue\n",
    "        p_dist, p_od = unit_tranfer_flux_metric(target_scode, calc_scode)\n",
    "        flux_metric[(target_scode, calc_scode)] = p_dist * p_od\n",
    "        dist[(target_scode, calc_scode)] = p_dist\n",
    "        od[(target_scode, calc_scode)] = p_od\n",
    "\n",
    "od_sum = {scode: [0, 0] for scode in s_namecode}\n",
    "sum_flux_IO = {scode: [0, 0] for scode in s_namecode}\n",
    "for target_scode in tqdm(s_namecode):\n",
    "    population_IN, population_OUT = [], []\n",
    "    sflux_IN, sflux_OUT = [], []\n",
    "    for calc_scode in s_namecode:\n",
    "        if target_scode == calc_scode:\n",
    "            continue\n",
    "        sflux_IN.append(flux_metric[(target_scode, calc_scode)])\n",
    "        sflux_OUT.append(flux_metric[(calc_scode, target_scode)])\n",
    "        population_IN.append(od[(target_scode, calc_scode)])\n",
    "        population_OUT.append(od[(calc_scode, target_scode)])\n",
    "\n",
    "    valid_IN = sum([int(s != 0) for s in sflux_IN])\n",
    "    valid_OUT = sum([int(s != 0) for s in sflux_OUT])\n",
    "    sum_flux_IO[target_scode][0] = (\n",
    "        sum(sflux_IN) / valid_IN if not valid_IN == 0 else sum(sflux_IN) * valid_IN\n",
    "    )\n",
    "    sum_flux_IO[target_scode][1] = (\n",
    "        sum(sflux_OUT) / valid_OUT if not valid_OUT == 0 else sum(sflux_IN) * valid_OUT\n",
    "    )\n",
    "    \n",
    "    od_sum[target_scode][0] = sum(population_IN)/len(population_IN)\n",
    "    od_sum[target_scode][1] = sum(population_OUT)/len(population_IN)\n",
    "\n",
    "sum_flux_IO[301] = sum_flux_IO[208]\n",
    "sum_flux_IO[401] = sum_flux_IO[309]\n",
    "print(flux_metric.__len__())\n",
    "\n",
    "import pickle\n",
    "with open(\"../database/SUBWAY_OD_RAW.pkl\",\"wb\") as f:\n",
    "    pickle.dump(flux_metric,f)"
   ]
  },
  {
   "cell_type": "code",
   "execution_count": 8,
   "metadata": {},
   "outputs": [
    {
     "data": {
      "text/html": [
       "<div>\n",
       "<style scoped>\n",
       "    .dataframe tbody tr th:only-of-type {\n",
       "        vertical-align: middle;\n",
       "    }\n",
       "\n",
       "    .dataframe tbody tr th {\n",
       "        vertical-align: top;\n",
       "    }\n",
       "\n",
       "    .dataframe thead th {\n",
       "        text-align: right;\n",
       "    }\n",
       "</style>\n",
       "<table border=\"1\" class=\"dataframe\">\n",
       "  <thead>\n",
       "    <tr style=\"text-align: right;\">\n",
       "      <th></th>\n",
       "      <th>IN_FLUX</th>\n",
       "      <th>OUT_FLUX</th>\n",
       "    </tr>\n",
       "    <tr>\n",
       "      <th>scode</th>\n",
       "      <th></th>\n",
       "      <th></th>\n",
       "    </tr>\n",
       "  </thead>\n",
       "  <tbody>\n",
       "    <tr>\n",
       "      <th>401</th>\n",
       "      <td>15395.282555</td>\n",
       "      <td>14665.584603</td>\n",
       "    </tr>\n",
       "    <tr>\n",
       "      <th>402</th>\n",
       "      <td>2153.854709</td>\n",
       "      <td>2188.623260</td>\n",
       "    </tr>\n",
       "    <tr>\n",
       "      <th>403</th>\n",
       "      <td>3232.187633</td>\n",
       "      <td>3020.024980</td>\n",
       "    </tr>\n",
       "    <tr>\n",
       "      <th>404</th>\n",
       "      <td>1718.660197</td>\n",
       "      <td>1529.723342</td>\n",
       "    </tr>\n",
       "    <tr>\n",
       "      <th>405</th>\n",
       "      <td>3011.642834</td>\n",
       "      <td>2661.703194</td>\n",
       "    </tr>\n",
       "  </tbody>\n",
       "</table>\n",
       "</div>"
      ],
      "text/plain": [
       "            IN_FLUX      OUT_FLUX\n",
       "scode                            \n",
       "401    15395.282555  14665.584603\n",
       "402     2153.854709   2188.623260\n",
       "403     3232.187633   3020.024980\n",
       "404     1718.660197   1529.723342\n",
       "405     3011.642834   2661.703194"
      ]
     },
     "execution_count": 8,
     "metadata": {},
     "output_type": "execute_result"
    }
   ],
   "source": [
    "SUM_FLUX_METRIC = pd.DataFrame(sum_flux_IO).T\n",
    "SUM_FLUX_METRIC = SUM_FLUX_METRIC.rename(columns={0: \"IN_FLUX\", 1: \"OUT_FLUX\"})\n",
    "SUM_FLUX_METRIC.index.name = \"scode\"\n",
    "\n",
    "SUM_FLUX_METRIC.to_json(\"../database/SUM_FLUX_IO_METRIC.json\")\n",
    "SUM_FLUX_METRIC.loc[line_num_to_range(4), :].head()"
   ]
  },
  {
   "cell_type": "code",
   "execution_count": 9,
   "metadata": {},
   "outputs": [
    {
     "data": {
      "text/html": [
       "<div>\n",
       "<style scoped>\n",
       "    .dataframe tbody tr th:only-of-type {\n",
       "        vertical-align: middle;\n",
       "    }\n",
       "\n",
       "    .dataframe tbody tr th {\n",
       "        vertical-align: top;\n",
       "    }\n",
       "\n",
       "    .dataframe thead th {\n",
       "        text-align: right;\n",
       "    }\n",
       "</style>\n",
       "<table border=\"1\" class=\"dataframe\">\n",
       "  <thead>\n",
       "    <tr style=\"text-align: right;\">\n",
       "      <th></th>\n",
       "      <th>직장인구</th>\n",
       "      <th>주거인구</th>\n",
       "      <th>유동인구</th>\n",
       "    </tr>\n",
       "    <tr>\n",
       "      <th>scode</th>\n",
       "      <th></th>\n",
       "      <th></th>\n",
       "      <th></th>\n",
       "    </tr>\n",
       "  </thead>\n",
       "  <tbody>\n",
       "    <tr>\n",
       "      <th>401</th>\n",
       "      <td>22686.245732</td>\n",
       "      <td>53436.484089</td>\n",
       "      <td>145891.733631</td>\n",
       "    </tr>\n",
       "    <tr>\n",
       "      <th>402</th>\n",
       "      <td>28131.387220</td>\n",
       "      <td>57905.960927</td>\n",
       "      <td>153513.978557</td>\n",
       "    </tr>\n",
       "    <tr>\n",
       "      <th>403</th>\n",
       "      <td>33821.496231</td>\n",
       "      <td>60586.596287</td>\n",
       "      <td>155414.195953</td>\n",
       "    </tr>\n",
       "    <tr>\n",
       "      <th>404</th>\n",
       "      <td>33136.589711</td>\n",
       "      <td>59439.265459</td>\n",
       "      <td>150782.722665</td>\n",
       "    </tr>\n",
       "    <tr>\n",
       "      <th>405</th>\n",
       "      <td>29224.610736</td>\n",
       "      <td>56025.691439</td>\n",
       "      <td>136535.043838</td>\n",
       "    </tr>\n",
       "  </tbody>\n",
       "</table>\n",
       "</div>"
      ],
      "text/plain": [
       "               직장인구          주거인구           유동인구\n",
       "scode                                           \n",
       "401    22686.245732  53436.484089  145891.733631\n",
       "402    28131.387220  57905.960927  153513.978557\n",
       "403    33821.496231  60586.596287  155414.195953\n",
       "404    33136.589711  59439.265459  150782.722665\n",
       "405    29224.610736  56025.691439  136535.043838"
      ]
     },
     "execution_count": 9,
     "metadata": {},
     "output_type": "execute_result"
    }
   ],
   "source": [
    "SAVE_PATH = \"../database\"\n",
    "IMPLICIT_METRIC = pd.read_csv(f\"{SAVE_PATH}/IMPLICIT_METRIC.csv\", encoding=\"UTF-8\")\n",
    "IMPLICIT_METRIC = IMPLICIT_METRIC.set_index(\"scode\")\n",
    "\n",
    "IMPLICIT_METRIC.to_json(\"../database/IMPLICIT_METRIC.json\")\n",
    "IMPLICIT_METRIC.loc[line_num_to_range(4), :].head()"
   ]
  }
 ],
 "metadata": {
  "kernelspec": {
   "display_name": "py39",
   "language": "python",
   "name": "python3"
  },
  "language_info": {
   "codemirror_mode": {
    "name": "ipython",
    "version": 3
   },
   "file_extension": ".py",
   "mimetype": "text/x-python",
   "name": "python",
   "nbconvert_exporter": "python",
   "pygments_lexer": "ipython3",
   "version": "3.9.19"
  }
 },
 "nbformat": 4,
 "nbformat_minor": 2
}
