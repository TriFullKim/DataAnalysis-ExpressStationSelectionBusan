{
 "cells": [
  {
   "cell_type": "code",
   "execution_count": 1,
   "metadata": {},
   "outputs": [],
   "source": [
    "%load_ext autoreload\n",
    "%autoreload 2"
   ]
  },
  {
   "cell_type": "markdown",
   "metadata": {},
   "source": [
    "# make station graph\n",
    "다루기 쉽게(?) 그래프로 만들어줍니당"
   ]
  },
  {
   "cell_type": "markdown",
   "metadata": {},
   "source": [
    "## Load Data"
   ]
  },
  {
   "cell_type": "code",
   "execution_count": 2,
   "metadata": {},
   "outputs": [],
   "source": [
    "import pandas as pd\n",
    "import util\n",
    "from stationUtil import *"
   ]
  },
  {
   "cell_type": "code",
   "execution_count": 3,
   "metadata": {},
   "outputs": [
    {
     "name": "stdout",
     "output_type": "stream",
     "text": [
      "len(subway_graph) == len(interval_time) :  True\n",
      "(119, 219, True) (123, 305, True) (125, 402, True) (208, 301, True) (219, 119, True) (233, 313, True) (301, 208, True) (305, 123, True) (309, 401, True) (313, 233, True) (401, 309, True) (402, 125, True)\n"
     ]
    },
    {
     "data": {
      "text/plain": [
       "{'stoppingTime': 0, 'time': 120, 'dist': 1}"
      ]
     },
     "execution_count": 3,
     "metadata": {},
     "output_type": "execute_result"
    }
   ],
   "source": [
    "df = util.loadPickle(util.PATH_INTER_STATION_SPEND_TIME)\n",
    "subway_graph_index, subway_graph = fn_export_subway_graph(df)\n",
    "exchange_relation_index = fn_export_exchange_station_index(idx=subway_graph_index)\n",
    "\n",
    "print(*exchange_relation_index)\n",
    "subway_graph[exchange_relation_index[0]]"
   ]
  },
  {
   "cell_type": "code",
   "execution_count": 4,
   "metadata": {},
   "outputs": [],
   "source": [
    "interval = util.loadPickle(util.PATH_WEIGHTED_MEAN_INTERVAL)"
   ]
  },
  {
   "cell_type": "markdown",
   "metadata": {},
   "source": [
    "## Add Weight `PATH_WEIGHTED_MEAN_INTERVAL`"
   ]
  },
  {
   "cell_type": "code",
   "execution_count": 5,
   "metadata": {},
   "outputs": [
    {
     "data": {
      "text/plain": [
       "{'stoppingTime': 20,\n",
       " 'time': 180,\n",
       " 'dist': 14,\n",
       " 'dispatchingTime': 354.64715877968746}"
      ]
     },
     "execution_count": 5,
     "metadata": {},
     "output_type": "execute_result"
    }
   ],
   "source": [
    "new_subway_graph = {}\n",
    "for index, value in subway_graph.items():\n",
    "    value[\"dispatchingTime\"] = interval[ index[0] ]\n",
    "    new_subway_graph[index] = value\n",
    "\n",
    "new_subway_graph[(96, 95, False)]"
   ]
  },
  {
   "cell_type": "code",
   "execution_count": 6,
   "metadata": {},
   "outputs": [],
   "source": [
    "# GPT-4\n",
    "# Prompt1:인접리스트로 구현한 가중치 그래프를 파이썬으로 구현 해줘\n",
    "# Prompt2:구현한 그래프로 가중치의 합이 최소가되는 경로를 추출하는 함수를 짜줘\n",
    "import heapq\n",
    "\n",
    "\n",
    "class WeightedGraph:\n",
    "    def __init__(self):\n",
    "        self.adj_list = {}\n",
    "\n",
    "    def add_vertex(self, vertex):\n",
    "        if vertex not in self.adj_list:\n",
    "            self.adj_list[vertex] = []\n",
    "\n",
    "    def add_edge(self, from_vertex, to_vertex, weight):\n",
    "        if from_vertex in self.adj_list:\n",
    "            self.adj_list[from_vertex].append((to_vertex, weight))\n",
    "        else:\n",
    "            self.adj_list[from_vertex] = [(to_vertex, weight)]\n",
    "\n",
    "    def print_graph(self):\n",
    "        for vertex in self.adj_list:\n",
    "            print(f\"{vertex} -> {self.adj_list[vertex]}\")\n",
    "\n",
    "    def find_min_path(self, start_vertex, end_vertex):\n",
    "        distances = {vertex: float(\"infinity\") for vertex in self.adj_list}\n",
    "        distances[start_vertex] = 0\n",
    "        previous_vertices = {vertex: None for vertex in self.adj_list}\n",
    "        pq = [(0, start_vertex)]\n",
    "\n",
    "        while pq:\n",
    "            current_distance, current_vertex = heapq.heappop(pq)\n",
    "\n",
    "            if current_vertex == end_vertex:\n",
    "                break\n",
    "\n",
    "            for neighbor, weight in self.adj_list[current_vertex]:\n",
    "                distance = current_distance + weight\n",
    "\n",
    "                if distance < distances[neighbor]:\n",
    "                    distances[neighbor] = distance\n",
    "                    previous_vertices[neighbor] = current_vertex\n",
    "                    heapq.heappush(pq, (distance, neighbor))\n",
    "\n",
    "        path, current_vertex = [], end_vertex\n",
    "        while previous_vertices[current_vertex] is not None:\n",
    "            path.append(current_vertex)\n",
    "            current_vertex = previous_vertices[current_vertex]\n",
    "        if path:\n",
    "            path.append(start_vertex)\n",
    "\n",
    "        return path[::-1]\n",
    "\n",
    "    # Prompt 3: ```{Above Lines}``` 위 코드는 인접리스트로 구현된 그래프를 구현한 모습이다. 메서드 find_min_path에서 나온 출력 값(리스트로된 경로)을 이용해 해당경로의 가중치의 총합을 구하는 메서드를 추가로 작성해줘\n",
    "    def calculate_path_weight(self, path):\n",
    "        total_weight = 0\n",
    "        if len(path) < 2:\n",
    "            return total_weight\n",
    "\n",
    "        for i in range(len(path) - 1):\n",
    "            from_vertex = path[i]\n",
    "            to_vertex = path[i + 1]\n",
    "            for neighbor, weight in self.adj_list[from_vertex]:\n",
    "                if neighbor == to_vertex:\n",
    "                    total_weight += weight\n",
    "                    break\n",
    "\n",
    "        return total_weight"
   ]
  },
  {
   "cell_type": "code",
   "execution_count": 7,
   "metadata": {},
   "outputs": [],
   "source": [
    "# Draw Graph\n",
    "\n",
    "def time_weight_graph(exclude_list: list = [], new_subway_graph=new_subway_graph):\n",
    "    graph = WeightedGraph()\n",
    "    for index, weights in new_subway_graph.items():\n",
    "        v1, v2, isTransfer = index\n",
    "        graph.add_vertex(v1)\n",
    "        graph.add_vertex(v2)\n",
    "        time_spend = weights[\"time\"]\n",
    "\n",
    "        # 시나리오 작성 시, 정차하지 않는 역은 정차 시간(stopTime)을 빼고 간선을 추가한다.\n",
    "        if v1 in exclude_list:\n",
    "            graph.add_edge(v1, v2, time_spend)\n",
    "            continue\n",
    "\n",
    "        time_spend = weights[\"time\"] + weights[\"stoppingTime\"]\n",
    "\n",
    "        # 환승하는 경우 (최악) 배차시간을 적용. - 최소 환승을 적용하기 위해서임.\n",
    "        if isTransfer:\n",
    "            time_spend += weights[\"dispatchingTime\"]\n",
    "\n",
    "        graph.add_edge(v1, v2, time_spend)\n",
    "\n",
    "    return graph\n",
    "\n",
    "\n",
    "def dist_weight_graph(new_subway_graph=new_subway_graph):\n",
    "    graph = WeightedGraph()\n",
    "    for index, weights in new_subway_graph.items():\n",
    "        v1, v2, _ = index\n",
    "        graph.add_vertex(v1)\n",
    "        graph.add_vertex(v2)\n",
    "        graph.add_edge(v1, v2, weights[\"dist\"])\n",
    "\n",
    "    return graph"
   ]
  },
  {
   "cell_type": "code",
   "execution_count": 8,
   "metadata": {},
   "outputs": [],
   "source": [
    "#Applicated Function\n",
    "\n",
    "def calc_total_path_weight(g: WeightedGraph, sCode_start, sCode_end):\n",
    "    weight = 1  # 단위를 시간으로 바꾸고 싶으면 1/3600 으로 할것\n",
    "    \"\"\"\n",
    "    calc_weight 최단경로를 지났을 때의 weigt 총합을 반환함.\n",
    "\n",
    "    Args:\n",
    "        g (WeightedGraph): 그래프 넣으면됨\n",
    "        sCode_start (_type_): 시작지점\n",
    "        sCode_end (_type_): 끝지점\n",
    "\n",
    "    Returns:\n",
    "        _type_: 초 단위로 출력함.\n",
    "    \"\"\"\n",
    "    path = g.find_min_path(sCode_start, sCode_end)\n",
    "    return g.calculate_path_weight(path) * weight\n",
    "\n",
    "\n",
    "def calc_line_speed(line_num: int, g_dist: WeightedGraph, g_time: WeightedGraph):\n",
    "    UNITFACTOR_P1KM_TO_1KM = 1 / 10\n",
    "    UNITFACTOR_1SEC_TO_1HOUR = 1 / 3600\n",
    "    path = []\n",
    "    \"\"\"\n",
    "    calc_line_speed 표정속도 구하는 함수임.\n",
    "\n",
    "    Args:\n",
    "        line_num (int): 호선입력하세요\n",
    "        g_dist (WeightedGraph): dist graph 입력하세요\n",
    "        g_time (WeightedGraph): time graph 입력하세요\n",
    "\n",
    "    Returns:\n",
    "        float: 표정속도[km/h]\n",
    "    \"\"\"\n",
    "    if line_num == 1:\n",
    "        path = [*range(95, 134 + 1)]\n",
    "    elif line_num == 2:\n",
    "        path = [*range(201, 243 + 1)]\n",
    "    elif line_num == 3:\n",
    "        path = [*range(301, 317 + 1)]\n",
    "    elif line_num == 4:\n",
    "        path = [*range(401, 414 + 1)]\n",
    "    return (g_dist.calculate_path_weight(path) * UNITFACTOR_P1KM_TO_1KM) / (\n",
    "        g_time.calculate_path_weight(path) * UNITFACTOR_1SEC_TO_1HOUR\n",
    "    )"
   ]
  },
  {
   "cell_type": "code",
   "execution_count": 9,
   "metadata": {},
   "outputs": [
    {
     "data": {
      "text/plain": [
       "(3835, 316)"
      ]
     },
     "execution_count": 9,
     "metadata": {},
     "output_type": "execute_result"
    }
   ],
   "source": [
    "# 아무것도 제외 하지 않으면 완행열차와 동일하다.\n",
    "UNITFACTOR_P1KM_TO_1KM = 1 / 10\n",
    "UNITFACTOR_1SEC_TO_1HOUR = 1 / 3600\n",
    "EXCLUDE_STATION = []\n",
    "g_time = time_weight_graph(exclude_list = EXCLUDE_STATION)\n",
    "g_dist = dist_weight_graph()\n",
    "\n",
    "sCode_start,sCode_end = 95,126\n",
    "calc_total_path_weight(g_time,sCode_start,sCode_end) , calc_total_path_weight(g_dist,sCode_start,sCode_end) # (Second, 0.1km)"
   ]
  },
  {
   "cell_type": "code",
   "execution_count": 10,
   "metadata": {},
   "outputs": [
    {
     "data": {
      "text/plain": [
       "(30.271865121180195, 32.28571428571429, 31.63106796116505, 29.488054607508534)"
      ]
     },
     "execution_count": 10,
     "metadata": {},
     "output_type": "execute_result"
    }
   ],
   "source": [
    "# 완행열차 Test\n",
    "(   # 표정속도                           # 실제 표정속도\n",
    "    calc_line_speed(1,g_dist,g_time),   # 30.7㎞/h\n",
    "    calc_line_speed(2,g_dist,g_time),   # 32.3㎞/h\n",
    "    calc_line_speed(3,g_dist,g_time),   # 31.9㎞/h\n",
    "    calc_line_speed(4,g_dist,g_time)    # 28.8㎞/h\n",
    ")"
   ]
  },
  {
   "cell_type": "code",
   "execution_count": 11,
   "metadata": {},
   "outputs": [
    {
     "data": {
      "text/plain": [
       "(3695, 316)"
      ]
     },
     "execution_count": 11,
     "metadata": {},
     "output_type": "execute_result"
    }
   ],
   "source": [
    "# 건너뛸 지점을 지정 했으므로 급행열차이다.\n",
    "EXCLUDE_STATION = [120,121,122,123]\n",
    "g_time = time_weight_graph(exclude_list = EXCLUDE_STATION)\n",
    "g_dist = dist_weight_graph()\n",
    "\n",
    "sCode_start,sCode_end = 95,126\n",
    "calc_total_path_weight(g_time,sCode_start,sCode_end) , calc_total_path_weight(g_dist,sCode_start,sCode_end) # (Second, 0.1km)"
   ]
  },
  {
   "cell_type": "code",
   "execution_count": 12,
   "metadata": {},
   "outputs": [
    {
     "data": {
      "text/plain": [
       "(31.19218241042346, 32.28571428571429, 31.63106796116505, 29.488054607508534)"
      ]
     },
     "execution_count": 12,
     "metadata": {},
     "output_type": "execute_result"
    }
   ],
   "source": [
    "# 급행열차 Test\n",
    "(   # 표정속도                           # 실제 표정속도\n",
    "    calc_line_speed(1,g_dist,g_time),   # 30.7㎞/h  # 1호선의 표정속도가 증가 했음을 알 수 있다!!!\n",
    "    calc_line_speed(2,g_dist,g_time),   # 32.3㎞/h\n",
    "    calc_line_speed(3,g_dist,g_time),   # 31.9㎞/h\n",
    "    calc_line_speed(4,g_dist,g_time)    # 28.8㎞/h\n",
    ")"
   ]
  }
 ],
 "metadata": {
  "kernelspec": {
   "display_name": "py39",
   "language": "python",
   "name": "python3"
  },
  "language_info": {
   "codemirror_mode": {
    "name": "ipython",
    "version": 3
   },
   "file_extension": ".py",
   "mimetype": "text/x-python",
   "name": "python",
   "nbconvert_exporter": "python",
   "pygments_lexer": "ipython3",
   "version": "3.9.19"
  }
 },
 "nbformat": 4,
 "nbformat_minor": 2
}
