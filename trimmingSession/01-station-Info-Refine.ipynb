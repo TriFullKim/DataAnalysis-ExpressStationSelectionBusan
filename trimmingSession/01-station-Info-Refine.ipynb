{
 "cells": [
  {
   "cell_type": "code",
   "execution_count": 20,
   "metadata": {},
   "outputs": [],
   "source": [
    "import numpy as np\n",
    "import pandas as pd"
   ]
  },
  {
   "cell_type": "code",
   "execution_count": 21,
   "metadata": {},
   "outputs": [],
   "source": [
    "# Set Principle Variable\n",
    "PATH_STATION_INFO = \"../raw_data/selected/부산교통공사_도시철도 역명정보.csv\"\n",
    "PATH_STATION_INFO_REFINE = \"../trimmed_data/stationCodeNameLine.json\""
   ]
  },
  {
   "cell_type": "markdown",
   "metadata": {},
   "source": [
    "# `01-station-Info-Refine.ipynb`\n",
    "역코드 정보를 좀 더 쓰기 편하게 다듬습니다."
   ]
  },
  {
   "cell_type": "code",
   "execution_count": 22,
   "metadata": {},
   "outputs": [
    {
     "data": {
      "text/html": [
       "<div>\n",
       "<style scoped>\n",
       "    .dataframe tbody tr th:only-of-type {\n",
       "        vertical-align: middle;\n",
       "    }\n",
       "\n",
       "    .dataframe tbody tr th {\n",
       "        vertical-align: top;\n",
       "    }\n",
       "\n",
       "    .dataframe thead th {\n",
       "        text-align: right;\n",
       "    }\n",
       "</style>\n",
       "<table border=\"1\" class=\"dataframe\">\n",
       "  <thead>\n",
       "    <tr style=\"text-align: right;\">\n",
       "      <th></th>\n",
       "      <th>호선</th>\n",
       "      <th>역번호</th>\n",
       "      <th>역명</th>\n",
       "      <th>영문</th>\n",
       "      <th>주소</th>\n",
       "      <th>전화번호</th>\n",
       "    </tr>\n",
       "  </thead>\n",
       "  <tbody>\n",
       "    <tr>\n",
       "      <th>0</th>\n",
       "      <td>1호선</td>\n",
       "      <td>95</td>\n",
       "      <td>다대포해수욕장</td>\n",
       "      <td>Dadaepo Beach</td>\n",
       "      <td>부산광역시 사하구 다대로 지하 692(다대동)</td>\n",
       "      <td>051-678-6195</td>\n",
       "    </tr>\n",
       "    <tr>\n",
       "      <th>1</th>\n",
       "      <td>1호선</td>\n",
       "      <td>96</td>\n",
       "      <td>다대포항</td>\n",
       "      <td>Dadaepo Harbor</td>\n",
       "      <td>부산광역시 사하구 다대로 지하548(다대동)</td>\n",
       "      <td>051-678-6196</td>\n",
       "    </tr>\n",
       "    <tr>\n",
       "      <th>2</th>\n",
       "      <td>1호선</td>\n",
       "      <td>97</td>\n",
       "      <td>낫개</td>\n",
       "      <td>Natgae</td>\n",
       "      <td>부산광역시 사하구 다대로 지하442(다대동)</td>\n",
       "      <td>051-678-6197</td>\n",
       "    </tr>\n",
       "  </tbody>\n",
       "</table>\n",
       "</div>"
      ],
      "text/plain": [
       "    호선  역번호       역명              영문                         주소          전화번호\n",
       "0  1호선   95  다대포해수욕장   Dadaepo Beach  부산광역시 사하구 다대로 지하 692(다대동)  051-678-6195\n",
       "1  1호선   96     다대포항  Dadaepo Harbor   부산광역시 사하구 다대로 지하548(다대동)  051-678-6196\n",
       "2  1호선   97       낫개          Natgae   부산광역시 사하구 다대로 지하442(다대동)  051-678-6197"
      ]
     },
     "execution_count": 22,
     "metadata": {},
     "output_type": "execute_result"
    }
   ],
   "source": [
    "# RawData\n",
    "# 주의 : 원자료에 수영역이 208이 아닌 209로 되어 있음. 수정해야함.\n",
    "df = pd.read_csv(PATH_STATION_INFO,encoding=\"EUC-KR\")\n",
    "df.head(3)"
   ]
  },
  {
   "cell_type": "code",
   "execution_count": 23,
   "metadata": {},
   "outputs": [],
   "source": [
    "TARGET_COLUMNS = [\"역번호\", \"역명\", \"호선\"]\n",
    "TARGET_COLUMNS_ENG = [\"StationCode\", \"StationName\", \"LineCode\"]\n",
    "\n",
    "# TargetData\n",
    "# Retouch Name\n",
    "df_station_code = df.loc[:, TARGET_COLUMNS]\n",
    "df_station_code = df_station_code.rename(\n",
    "    columns={idx: new_name for idx, new_name in zip(TARGET_COLUMNS, TARGET_COLUMNS_ENG)}\n",
    ")\n",
    "\n",
    "df_station_code[\"LineCode\"] = df_station_code[\"LineCode\"].apply(lambda _x: _x.replace(\"호선\",\"\"))\n",
    "\n",
    "with open(PATH_STATION_INFO_REFINE,mode=\"w\",encoding=\"UTF-8\") as f:\n",
    "    f.write(df_station_code.to_json(index=False))"
   ]
  },
  {
   "cell_type": "code",
   "execution_count": 24,
   "metadata": {},
   "outputs": [
    {
     "data": {
      "text/html": [
       "<div>\n",
       "<style scoped>\n",
       "    .dataframe tbody tr th:only-of-type {\n",
       "        vertical-align: middle;\n",
       "    }\n",
       "\n",
       "    .dataframe tbody tr th {\n",
       "        vertical-align: top;\n",
       "    }\n",
       "\n",
       "    .dataframe thead th {\n",
       "        text-align: right;\n",
       "    }\n",
       "</style>\n",
       "<table border=\"1\" class=\"dataframe\">\n",
       "  <thead>\n",
       "    <tr style=\"text-align: right;\">\n",
       "      <th></th>\n",
       "      <th>StationCode</th>\n",
       "      <th>StationName</th>\n",
       "      <th>LineCode</th>\n",
       "    </tr>\n",
       "  </thead>\n",
       "  <tbody>\n",
       "    <tr>\n",
       "      <th>0</th>\n",
       "      <td>95</td>\n",
       "      <td>다대포해수욕장</td>\n",
       "      <td>1</td>\n",
       "    </tr>\n",
       "    <tr>\n",
       "      <th>1</th>\n",
       "      <td>96</td>\n",
       "      <td>다대포항</td>\n",
       "      <td>1</td>\n",
       "    </tr>\n",
       "    <tr>\n",
       "      <th>2</th>\n",
       "      <td>97</td>\n",
       "      <td>낫개</td>\n",
       "      <td>1</td>\n",
       "    </tr>\n",
       "  </tbody>\n",
       "</table>\n",
       "</div>"
      ],
      "text/plain": [
       "   StationCode StationName  LineCode\n",
       "0           95     다대포해수욕장         1\n",
       "1           96        다대포항         1\n",
       "2           97          낫개         1"
      ]
     },
     "execution_count": 24,
     "metadata": {},
     "output_type": "execute_result"
    }
   ],
   "source": [
    "df = pd.read_json(PATH_STATION_INFO_REFINE,encoding=\"UTF-8\")\n",
    "df.head(3)"
   ]
  }
 ],
 "metadata": {
  "kernelspec": {
   "display_name": "py39",
   "language": "python",
   "name": "python3"
  },
  "language_info": {
   "codemirror_mode": {
    "name": "ipython",
    "version": 3
   },
   "file_extension": ".py",
   "mimetype": "text/x-python",
   "name": "python",
   "nbconvert_exporter": "python",
   "pygments_lexer": "ipython3",
   "version": "3.9.19"
  }
 },
 "nbformat": 4,
 "nbformat_minor": 2
}
