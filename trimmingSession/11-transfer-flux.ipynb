{
 "cells": [
  {
   "cell_type": "code",
   "execution_count": 1,
   "metadata": {},
   "outputs": [
    {
     "name": "stdout",
     "output_type": "stream",
     "text": [
      "len(subway_graph) == len(interval_time) :  True\n"
     ]
    },
    {
     "name": "stderr",
     "output_type": "stream",
     "text": [
      "/home/tfk/miniconda3/envs/py39/lib/python3.9/site-packages/tqdm/auto.py:21: TqdmWarning: IProgress not found. Please update jupyter and ipywidgets. See https://ipywidgets.readthedocs.io/en/stable/user_install.html\n",
      "  from .autonotebook import tqdm as notebook_tqdm\n"
     ]
    }
   ],
   "source": [
    "import pandas as pd\n",
    "from tqdm.auto import tqdm\n",
    "from util import *\n",
    "from stationUtil import line_range, get_line\n",
    "from graph import *"
   ]
  },
  {
   "cell_type": "code",
   "execution_count": 2,
   "metadata": {},
   "outputs": [],
   "source": [
    "DEMAND_GRAPH_PATH = \"../trimmed_data/demand_graph.pickle\"\n",
    "demand = loadPickle(DEMAND_GRAPH_PATH)"
   ]
  },
  {
   "cell_type": "code",
   "execution_count": 3,
   "metadata": {},
   "outputs": [
    {
     "data": {
      "text/plain": [
       "10972"
      ]
     },
     "execution_count": 3,
     "metadata": {},
     "output_type": "execute_result"
    }
   ],
   "source": [
    "demand.keys().__len__()"
   ]
  },
  {
   "cell_type": "code",
   "execution_count": 4,
   "metadata": {},
   "outputs": [],
   "source": [
    "def od_metric(scode_start, scode_end):\n",
    "    try:\n",
    "        return demand[(scode_start, scode_end)] + demand[(scode_end, scode_start)]\n",
    "    except:\n",
    "        return 0"
   ]
  },
  {
   "cell_type": "code",
   "execution_count": 5,
   "metadata": {},
   "outputs": [
    {
     "data": {
      "text/plain": [
       "(3835, 316)"
      ]
     },
     "execution_count": 5,
     "metadata": {},
     "output_type": "execute_result"
    }
   ],
   "source": [
    "# 아무것도 제외 하지 않으면 완행열차와 동일하다.\n",
    "UNITFACTOR_P1KM_TO_1KM = 1 / 10\n",
    "UNITFACTOR_1SEC_TO_1HOUR = 1 / 3600\n",
    "EXCLUDE_STATION = []\n",
    "g_time = time_weight_graph(exclude_list=EXCLUDE_STATION)\n",
    "g_dist = dist_weight_graph()\n",
    "\n",
    "sCode_start, sCode_end = 95, 126\n",
    "calc_total_path_weight(g_time, sCode_start, sCode_end), calc_total_path_weight(\n",
    "    g_dist, sCode_start, sCode_end\n",
    ")  # (Second, 0.1km)"
   ]
  },
  {
   "cell_type": "code",
   "execution_count": 6,
   "metadata": {},
   "outputs": [
    {
     "data": {
      "text/plain": [
       "[(30.271865121180195,\n",
       "  32.28571428571429,\n",
       "  31.63106796116505,\n",
       "  29.488054607508534),\n",
       " (4745, 5040, 2060, 1465)]"
      ]
     },
     "execution_count": 6,
     "metadata": {},
     "output_type": "execute_result"
    }
   ],
   "source": [
    "# 완행열차 Test\n",
    "[\n",
    "    (  # 표정속도                           # 실제 표정속도\n",
    "        calc_line_speed(1, g_dist, g_time),  # 30.7㎞/h\n",
    "        calc_line_speed(2, g_dist, g_time),  # 32.3㎞/h\n",
    "        calc_line_speed(3, g_dist, g_time),  # 31.9㎞/h\n",
    "        calc_line_speed(4, g_dist, g_time),  # 28.8㎞/h\n",
    "    ),\n",
    "    (  #Time\n",
    "        calc_line_spend_time(1,g_time),\n",
    "        calc_line_spend_time(2,g_time),\n",
    "        calc_line_spend_time(3,g_time),\n",
    "        calc_line_spend_time(4,g_time),\n",
    "    ),\n",
    "]"
   ]
  },
  {
   "cell_type": "code",
   "execution_count": 7,
   "metadata": {},
   "outputs": [
    {
     "name": "stdout",
     "output_type": "stream",
     "text": [
      "len(subway_graph) == len(interval_time) :  True\n"
     ]
    }
   ],
   "source": [
    "from stationUtil import *\n",
    "\n",
    "subway_graph_index, _ = fn_export_subway_graph(\n",
    "    loadPickle(PATH_INTER_STATION_SPEND_TIME)\n",
    ")\n",
    "\n",
    "\n",
    "def unit_tranfer_flux_metric(scode_start, scode_end, g_dist=g_dist):\n",
    "    path_dist = (\n",
    "        calc_total_path_weight(g_dist, scode_start, scode_end) * UNITFACTOR_P1KM_TO_1KM\n",
    "    )\n",
    "    path_od = od_metric(scode_start, scode_end)\n",
    "    return path_dist * path_od\n",
    "\n",
    "\n",
    "exchange_relation_index = fn_export_exchange_station_index(idx=subway_graph_index)"
   ]
  },
  {
   "cell_type": "code",
   "execution_count": 8,
   "metadata": {},
   "outputs": [],
   "source": [
    "# Calc Flux Metric\n",
    "flux_metric = []\n",
    "for target_scode in loadPickle(\"../trimmed_data/stationNameCode.pickel\").values():\n",
    "    arr = []\n",
    "    for calc_scode in loadPickle(\"../trimmed_data/stationNameCode.pickel\").values():\n",
    "        flux = unit_tranfer_flux_metric(target_scode, calc_scode)\n",
    "        try:\n",
    "            arr.append(flux)\n",
    "        except:\n",
    "            pass\n",
    "    flux_metric.append([target_scode, sum(arr)])\n",
    "\n",
    "df = pd.DataFrame(flux_metric, columns=[\"scode\", \"flux_metric\"])\n",
    "df_transfer_metric = df.sort_values(by=\"scode\").reset_index(drop=True)"
   ]
  },
  {
   "cell_type": "code",
   "execution_count": 9,
   "metadata": {},
   "outputs": [
    {
     "data": {
      "text/html": [
       "<div>\n",
       "<style scoped>\n",
       "    .dataframe tbody tr th:only-of-type {\n",
       "        vertical-align: middle;\n",
       "    }\n",
       "\n",
       "    .dataframe tbody tr th {\n",
       "        vertical-align: top;\n",
       "    }\n",
       "\n",
       "    .dataframe thead th {\n",
       "        text-align: right;\n",
       "    }\n",
       "</style>\n",
       "<table border=\"1\" class=\"dataframe\">\n",
       "  <thead>\n",
       "    <tr style=\"text-align: right;\">\n",
       "      <th></th>\n",
       "      <th>LineCode</th>\n",
       "      <th>StationName</th>\n",
       "      <th>각 역의 잠재수요특성</th>\n",
       "    </tr>\n",
       "  </thead>\n",
       "  <tbody>\n",
       "    <tr>\n",
       "      <th>0</th>\n",
       "      <td>1</td>\n",
       "      <td>괴정</td>\n",
       "      <td>195077.5054</td>\n",
       "    </tr>\n",
       "    <tr>\n",
       "      <th>1</th>\n",
       "      <td>1</td>\n",
       "      <td>교대</td>\n",
       "      <td>330461.8518</td>\n",
       "    </tr>\n",
       "    <tr>\n",
       "      <th>2</th>\n",
       "      <td>1</td>\n",
       "      <td>구서</td>\n",
       "      <td>117684.0903</td>\n",
       "    </tr>\n",
       "    <tr>\n",
       "      <th>3</th>\n",
       "      <td>1</td>\n",
       "      <td>남산</td>\n",
       "      <td>61450.3347</td>\n",
       "    </tr>\n",
       "    <tr>\n",
       "      <th>4</th>\n",
       "      <td>1</td>\n",
       "      <td>남포</td>\n",
       "      <td>473685.6213</td>\n",
       "    </tr>\n",
       "  </tbody>\n",
       "</table>\n",
       "</div>"
      ],
      "text/plain": [
       "   LineCode StationName  각 역의 잠재수요특성\n",
       "0         1          괴정  195077.5054\n",
       "1         1          교대  330461.8518\n",
       "2         1          구서  117684.0903\n",
       "3         1          남산   61450.3347\n",
       "4         1          남포  473685.6213"
      ]
     },
     "execution_count": 9,
     "metadata": {},
     "output_type": "execute_result"
    }
   ],
   "source": [
    "# 역명을 코드로 변환하기 위한 data\n",
    "station_namecode_table = pd.read_json(\"../trimmed_data/stationCodeNameLine.json\")\n",
    "station_namecode_table[\"StationName\"] = station_namecode_table[\"StationName\"].apply(\n",
    "    lambda _X: _X.replace(\"·\", \".\").replace(\"국제금융센터\", \"국제금융\")\n",
    ")\n",
    "\n",
    "# 잠재수요특성 불러오가\n",
    "implicit_metric = pd.read_csv(\n",
    "    \"../trimmed_data/역별_잠재수요특성_합계.csv\", encoding=\"EUC-KR\"\n",
    ")\n",
    "implicit_metric.head()"
   ]
  },
  {
   "cell_type": "code",
   "execution_count": 10,
   "metadata": {},
   "outputs": [
    {
     "data": {
      "text/html": [
       "<div>\n",
       "<style scoped>\n",
       "    .dataframe tbody tr th:only-of-type {\n",
       "        vertical-align: middle;\n",
       "    }\n",
       "\n",
       "    .dataframe tbody tr th {\n",
       "        vertical-align: top;\n",
       "    }\n",
       "\n",
       "    .dataframe thead th {\n",
       "        text-align: right;\n",
       "    }\n",
       "</style>\n",
       "<table border=\"1\" class=\"dataframe\">\n",
       "  <thead>\n",
       "    <tr style=\"text-align: right;\">\n",
       "      <th></th>\n",
       "      <th>LineCode</th>\n",
       "      <th>scode</th>\n",
       "      <th>implicit_metric</th>\n",
       "    </tr>\n",
       "  </thead>\n",
       "  <tbody>\n",
       "    <tr>\n",
       "      <th>0</th>\n",
       "      <td>1</td>\n",
       "      <td>95</td>\n",
       "      <td>53626.31105</td>\n",
       "    </tr>\n",
       "    <tr>\n",
       "      <th>1</th>\n",
       "      <td>1</td>\n",
       "      <td>96</td>\n",
       "      <td>91542.13840</td>\n",
       "    </tr>\n",
       "    <tr>\n",
       "      <th>2</th>\n",
       "      <td>1</td>\n",
       "      <td>97</td>\n",
       "      <td>154919.42510</td>\n",
       "    </tr>\n",
       "    <tr>\n",
       "      <th>3</th>\n",
       "      <td>1</td>\n",
       "      <td>98</td>\n",
       "      <td>217571.13860</td>\n",
       "    </tr>\n",
       "    <tr>\n",
       "      <th>4</th>\n",
       "      <td>1</td>\n",
       "      <td>99</td>\n",
       "      <td>220428.80550</td>\n",
       "    </tr>\n",
       "  </tbody>\n",
       "</table>\n",
       "</div>"
      ],
      "text/plain": [
       "   LineCode  scode  implicit_metric\n",
       "0         1     95      53626.31105\n",
       "1         1     96      91542.13840\n",
       "2         1     97     154919.42510\n",
       "3         1     98     217571.13860\n",
       "4         1     99     220428.80550"
      ]
     },
     "execution_count": 10,
     "metadata": {},
     "output_type": "execute_result"
    }
   ],
   "source": [
    "# Name to Code Convert\n",
    "replace_relation = {\n",
    "    r.StationName: int(r.StationCode)\n",
    "    for r in station_namecode_table.loc[:, [\"StationName\", \"StationCode\"]].itertuples()\n",
    "}\n",
    "column_rename_relation = {\n",
    "    \"각 역의 잠재수요특성\": \"implicit_metric\",\n",
    "    \"StationName\": \"scode\",\n",
    "}\n",
    "\n",
    "df_implicit_metric = implicit_metric.replace(replace_relation)\n",
    "df_implicit_metric = df_implicit_metric.rename(columns=column_rename_relation)\n",
    "df_implicit_metric = df_implicit_metric.sort_values(by=\"scode\").reset_index(drop=True)\n",
    "\n",
    "df_implicit_metric.head()"
   ]
  },
  {
   "cell_type": "code",
   "execution_count": 11,
   "metadata": {},
   "outputs": [
    {
     "data": {
      "text/html": [
       "<div>\n",
       "<style scoped>\n",
       "    .dataframe tbody tr th:only-of-type {\n",
       "        vertical-align: middle;\n",
       "    }\n",
       "\n",
       "    .dataframe tbody tr th {\n",
       "        vertical-align: top;\n",
       "    }\n",
       "\n",
       "    .dataframe thead th {\n",
       "        text-align: right;\n",
       "    }\n",
       "</style>\n",
       "<table border=\"1\" class=\"dataframe\">\n",
       "  <thead>\n",
       "    <tr style=\"text-align: right;\">\n",
       "      <th></th>\n",
       "      <th>scode</th>\n",
       "      <th>flux_metric</th>\n",
       "      <th>implicit_metric</th>\n",
       "      <th>LineCode</th>\n",
       "    </tr>\n",
       "  </thead>\n",
       "  <tbody>\n",
       "    <tr>\n",
       "      <th>0</th>\n",
       "      <td>95</td>\n",
       "      <td>0.0</td>\n",
       "      <td>53626.31105</td>\n",
       "      <td>1</td>\n",
       "    </tr>\n",
       "    <tr>\n",
       "      <th>1</th>\n",
       "      <td>96</td>\n",
       "      <td>0.0</td>\n",
       "      <td>91542.13840</td>\n",
       "      <td>1</td>\n",
       "    </tr>\n",
       "    <tr>\n",
       "      <th>2</th>\n",
       "      <td>97</td>\n",
       "      <td>0.0</td>\n",
       "      <td>154919.42510</td>\n",
       "      <td>1</td>\n",
       "    </tr>\n",
       "    <tr>\n",
       "      <th>3</th>\n",
       "      <td>98</td>\n",
       "      <td>0.0</td>\n",
       "      <td>217571.13860</td>\n",
       "      <td>1</td>\n",
       "    </tr>\n",
       "    <tr>\n",
       "      <th>4</th>\n",
       "      <td>99</td>\n",
       "      <td>0.0</td>\n",
       "      <td>220428.80550</td>\n",
       "      <td>1</td>\n",
       "    </tr>\n",
       "  </tbody>\n",
       "</table>\n",
       "</div>"
      ],
      "text/plain": [
       "   scode  flux_metric  implicit_metric  LineCode\n",
       "0     95          0.0      53626.31105         1\n",
       "1     96          0.0      91542.13840         1\n",
       "2     97          0.0     154919.42510         1\n",
       "3     98          0.0     217571.13860         1\n",
       "4     99          0.0     220428.80550         1"
      ]
     },
     "execution_count": 11,
     "metadata": {},
     "output_type": "execute_result"
    }
   ],
   "source": [
    "df_metric = df_transfer_metric.copy(deep=True)\n",
    "df_metric[\"implicit_metric\"] = df_implicit_metric[\"implicit_metric\"]\n",
    "df_metric[\"LineCode\"] = df_metric[\"scode\"].apply(get_line)\n",
    "\n",
    "df_metric.head()"
   ]
  },
  {
   "cell_type": "code",
   "execution_count": 29,
   "metadata": {},
   "outputs": [],
   "source": [
    "TARGET_LINE = 3\n",
    "\n",
    "df_metric_norm = df_metric.copy(deep=True)\n",
    "df_metric_norm = df_metric_norm[df_metric_norm[\"LineCode\"] == TARGET_LINE]\n",
    "\n",
    "# Normalize\n",
    "df_metric_norm.loc[:, \"flux_metric\":\"implicit_metric\"] = (\n",
    "    df_metric_norm.loc[:, \"flux_metric\":\"implicit_metric\"]\n",
    "    / df_metric_norm.loc[:, \"flux_metric\":\"implicit_metric\"].max()\n",
    ")"
   ]
  },
  {
   "cell_type": "code",
   "execution_count": 30,
   "metadata": {},
   "outputs": [],
   "source": [
    "# Set Condition Matrix\n",
    "# ~n등급 누적\n",
    "RANGE_5 = (df_metric_norm.loc[:, \"implicit_metric\"] <= 0.2) & (\n",
    "    df_metric_norm.loc[:, \"flux_metric\"] <= 0.2\n",
    ")\n",
    "RANGE_4 = (df_metric_norm.loc[:, \"implicit_metric\"] <= 0.4) & (\n",
    "    df_metric_norm.loc[:, \"flux_metric\"] <= 0.4\n",
    ")\n",
    "RANGE_3 = (df_metric_norm.loc[:, \"implicit_metric\"] <= 0.6) & (\n",
    "    df_metric_norm.loc[:, \"flux_metric\"] <= 0.6\n",
    ")\n",
    "RANGE_2 = (df_metric_norm.loc[:, \"implicit_metric\"] <= 0.8) & (\n",
    "    df_metric_norm.loc[:, \"flux_metric\"] <= 0.8\n",
    ")\n",
    "RANGE_1 = (df_metric_norm.loc[:, \"implicit_metric\"] <= 1.0) & (\n",
    "    df_metric_norm.loc[:, \"flux_metric\"] <= 1.0\n",
    ")\n",
    "\n",
    "# n등급 only\n",
    "GRADE_5 = RANGE_5\n",
    "GRADE_4 = RANGE_4 & -RANGE_5\n",
    "GRADE_3 = RANGE_3 & -RANGE_4\n",
    "GRADE_2 = RANGE_2 & -RANGE_3\n",
    "GRADE_1 = RANGE_1 & -RANGE_2"
   ]
  },
  {
   "cell_type": "code",
   "execution_count": 31,
   "metadata": {},
   "outputs": [],
   "source": [
    "g1 = df_metric_norm[GRADE_1][\"scode\"].to_list()\n",
    "g2 = df_metric_norm[GRADE_2][\"scode\"].to_list()\n",
    "g3 = df_metric_norm[GRADE_3][\"scode\"].to_list()\n",
    "g4 = df_metric_norm[GRADE_4][\"scode\"].to_list()\n",
    "g5 = df_metric_norm[GRADE_5][\"scode\"].to_list()\n",
    "\n",
    "TO_GRADE = [-1, [*g2, *g3, *g4, *g5], [*g3, *g4, *g5], [*g4, *g5], [*g5], []]\n",
    "\n",
    "\n",
    "def get_speed(exclude=TO_GRADE[5]):\n",
    "    EXCLUDE_STATION = exclude\n",
    "    g_dist = dist_weight_graph()\n",
    "    g_time = time_weight_graph(exclude_list=EXCLUDE_STATION)\n",
    "    return calc_line_speed(TARGET_LINE, g_dist, g_time)\n",
    "\n",
    "def get_time(exclude=TO_GRADE[5]):\n",
    "    EXCLUDE_STATION = exclude\n",
    "    g_time = time_weight_graph(exclude_list=EXCLUDE_STATION)\n",
    "    return calc_line_spend_time(TARGET_LINE, g_time)\n"
   ]
  },
  {
   "cell_type": "code",
   "execution_count": 32,
   "metadata": {},
   "outputs": [
    {
     "name": "stdout",
     "output_type": "stream",
     "text": [
      "36.814,  290 | [302, 303, 304, 313, 317]\n",
      "33.415,  110 | [301, 305, 306, 308, 309, 310, 311]\n",
      "32.744,   70 | [312, 316]\n",
      "31.631,    0 | [307, 314, 315]\n",
      "31.631,    0 | []\n",
      "\n"
     ]
    },
    {
     "data": {
      "text/plain": [
       "<Axes: xlabel='flux_metric', ylabel='implicit_metric'>"
      ]
     },
     "execution_count": 32,
     "metadata": {},
     "output_type": "execute_result"
    },
    {
     "data": {
      "image/png": "[encoded data removed]",
      "text/plain": [
       "<Figure size 640x480 with 1 Axes>"
      ]
     },
     "metadata": {},
     "output_type": "display_data"
    }
   ],
   "source": [
    "print(\n",
    "    \"{:#.5},{:#5} | {}\\n{:#.5},{:#5} | {}\\n{:#.5},{:#5} | {}\\n{:#.5},{:#5} | {}\\n{:#.5},{:#5} | {}\\n\".format(\n",
    "        get_speed(TO_GRADE[1]),get_time(TO_GRADE[5])-get_time(TO_GRADE[1]),g1,\n",
    "        get_speed(TO_GRADE[2]),get_time(TO_GRADE[5])-get_time(TO_GRADE[2]),g2,\n",
    "        get_speed(TO_GRADE[3]),get_time(TO_GRADE[5])-get_time(TO_GRADE[3]),g3,\n",
    "        get_speed(TO_GRADE[4]),get_time(TO_GRADE[5])-get_time(TO_GRADE[4]),g4,\n",
    "        get_speed(TO_GRADE[5]),get_time(TO_GRADE[5])-get_time(TO_GRADE[5]),g5\n",
    "    )\n",
    ")\n",
    "df_metric_norm.plot.scatter(x=\"flux_metric\", y=\"implicit_metric\")"
   ]
  },
  {
   "cell_type": "code",
   "execution_count": null,
   "metadata": {},
   "outputs": [],
   "source": []
  }
 ],
 "metadata": {
  "kernelspec": {
   "display_name": "py39",
   "language": "python",
   "name": "python3"
  },
  "language_info": {
   "codemirror_mode": {
    "name": "ipython",
    "version": 3
   },
   "file_extension": ".py",
   "mimetype": "text/x-python",
   "name": "python",
   "nbconvert_exporter": "python",
   "pygments_lexer": "ipython3",
   "version": "3.9.19"
  }
 },
 "nbformat": 4,
 "nbformat_minor": 2
}
