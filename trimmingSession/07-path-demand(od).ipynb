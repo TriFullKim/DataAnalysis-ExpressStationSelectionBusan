{
 "cells": [
  {
   "cell_type": "code",
   "execution_count": null,
   "metadata": {},
   "outputs": [],
   "source": [
    "PATH = \"../raw_data/selected/2024.03_승·하차별 대중교통 이용객수 데이터\""
   ]
  }
 ],
 "metadata": {
  "language_info": {
   "name": "python"
  }
 },
 "nbformat": 4,
 "nbformat_minor": 2
}
